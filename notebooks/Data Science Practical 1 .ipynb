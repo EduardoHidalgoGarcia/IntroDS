{
 "cells": [
  {
   "cell_type": "markdown",
   "source": [
    "# Introduction to Data Science\n",
    "\n",
    "<br/>\n",
    "<br/>\n",
    "\n",
    "\n",
    "#  ***1. Titanic Survival Prediction***\n",
    "\n",
    "<br/>\n",
    "<br/>\n",
    "<br/>\n",
    "\n",
    "<hr>\n",
    "\n",
    "\n",
    "## Follow the steps\n",
    "\n",
    "<br/>\n",
    "\n",
    "### 0. Setup\n",
    "\n",
    "### 1. Dataset\n",
    "\n",
    "### 2. Exploration\n",
    "\n",
    "### 3. Clean\n",
    "\n",
    "### 4. Classification\n",
    "\n",
    "\n",
    "\n",
    "\n",
    "<br/>"
   ],
   "metadata": {
    "collapsed": false
   }
  },
  {
   "cell_type": "markdown",
   "source": [
    "<hr>\n",
    "\n",
    "# 0. Setup\n",
    "\n",
    "<br>\n",
    "\n",
    "### Libraries:\n",
    "\n",
    "- pandas (https://pandas.pydata.org/docs/getting_started/index.html#getting-started)\n",
    "\n",
    "\n",
    "- numpy (https://numpy.org/doc/1.15/user/quickstart.html)\n",
    "\n",
    "\n",
    "- scikit-learn (https://scikit-learn.org/stable/index.html)\n",
    "\n",
    "\n",
    "- matplotlib (https://matplotlib.org/gallery/index.html)\n",
    "\n"
   ],
   "metadata": {
    "collapsed": false
   }
  },
  {
   "cell_type": "code",
   "execution_count": null,
   "outputs": [],
   "source": [
    "import pandas as pd\n",
    "import numpy as np\n",
    "import sklearn # the library name is scikit-learn\n",
    "import matplotlib.pyplot as plt"
   ],
   "metadata": {
    "collapsed": false,
    "pycharm": {
     "name": "#%%\n"
    }
   }
  },
  {
   "cell_type": "markdown",
   "source": [
    "### Installation\n",
    "<br>\n",
    "(Replace name_of_library by the library that you want to install.)\n",
    "\n",
    "If the import code does not show an error such as: \"`ImportError: No module named name_of_library`\" the library is installed.\n",
    "\n",
    "<br>\n",
    "\n",
    "**For Anaconda** \n",
    "\n",
    "Probably your environment already has this library. \n",
    "\n",
    "To install it go to: Anaconda Navigator -> Environments -> select the dropdown input to \"all\" -> search for \"name_of_library\" -> check and apply on \"name_of_library\". \n",
    "\n",
    "<br>\n",
    "\n",
    "**For Google Colab** \n",
    "\n",
    "Execute this line of code to install it `!pip install name_of_library`.\n",
    "\n",
    "<br>\n",
    "\n",
    "**For Python environment** \n",
    "\n",
    "Execute on the terminal: `pip install name_of_library`, note that if your environment has the python 2 and 3 versions you need to execute `pip3 install name_of_library`. You can check the installed libraries by executing on terminal `pip freeze`, again, replace `pip` by `pip3` if you have python 2 and 3.\n"
   ],
   "metadata": {
    "collapsed": false
   }
  },
  {
   "cell_type": "markdown",
   "source": [
    "<br>\n",
    "<hr>\n",
    "\n",
    "# 1. Dataset\n",
    "\n",
    "We will use the famous Titanic Dataset, data covers passengers only, not the crew.\n",
    "\n",
    "\n",
    "The dataset is the `\"titanic_dataset.csv\"` file. A `.csv` (comma-separated values) can be seen as a table with the first line being the header and the following rows the content, the columns are separated usually by comma, but can also be separated by semicolon.\n",
    "\n",
    "<br>\n",
    "\n",
    "### Data Dictionary\n",
    "\n",
    "\n",
    "- `pclass` - ticket class (1 = 1st, 2 = 2nd, 3 = 3rd)\n",
    "\n",
    "\n",
    "- `survival` - survival (0 = No, 1=Yes)\n",
    "\n",
    "\n",
    "- `name` - name\t\n",
    "\n",
    "\n",
    "- `sex` - sex\t\n",
    "\n",
    "\n",
    "- `age`\t- age in years, can be aproximated\t\n",
    "\n",
    "\n",
    "- `sibsp` - number of siblings / spouses aboard the Titanic\t\n",
    "\n",
    "\n",
    "- `parch` - number of parents / children aboard the Titanic\t\n",
    "\n",
    "\n",
    "- `ticket` - ticket number\t\n",
    "\n",
    "\n",
    "- `fare` - passenger fare (british pound)\n",
    "\n",
    "\n",
    "- `cabin` - cabin number (A = top deck, G = bottom deck)\n",
    "\n",
    "\n",
    "- `embarked` - port of embarkation (C = Cherbourg, Q = Queenstown, S = Southampton)\n",
    "\n",
    "\n",
    "- `boat`  lifeboat (if survived)\n",
    "\n",
    "\n",
    "- `body` - body number (if did not survive and body was recovered)\n",
    "\n",
    "\n",
    "- `home.dest` - home/destination\n",
    "\n",
    "<br>\n",
    "<br>\n",
    "\n",
    "## 1.1 Read into a `dataframe`\n",
    "\n",
    "We will use the `pandas` library to read our dataset, let's read into a `dataframe`, a `dataframe` can be seen as a table, but with useful methods to interact with our data (https://pandas.pydata.org/docs/getting_started/intro_tutorials/01_table_oriented.html#min-tut-01-tableoriented)."
   ],
   "metadata": {
    "collapsed": false
   }
  },
  {
   "cell_type": "code",
   "execution_count": null,
   "outputs": [],
   "source": [
    "df = pd.read_csv(\"titanic_dataset.csv\")"
   ],
   "metadata": {
    "collapsed": false,
    "pycharm": {
     "name": "#%%\n"
    }
   }
  },
  {
   "cell_type": "markdown",
   "source": [
    "<br>\n",
    "<br>\n",
    "\n",
    "## 1.2 What is the size of our Dataframe?"
   ],
   "metadata": {
    "collapsed": false
   }
  },
  {
   "cell_type": "code",
   "execution_count": null,
   "outputs": [],
   "source": [
    "# your code here\n"
   ],
   "metadata": {
    "collapsed": false,
    "pycharm": {
     "name": "#%%\n"
    }
   }
  },
  {
   "cell_type": "code",
   "execution_count": null,
   "outputs": [],
   "source": [
    "df.shape"
   ],
   "metadata": {
    "collapsed": false,
    "pycharm": {
     "name": "#%%\n"
    }
   }
  },
  {
   "cell_type": "markdown",
   "source": [
    "We have 1310 rows and 14 columns "
   ],
   "metadata": {
    "collapsed": false
   }
  },
  {
   "cell_type": "markdown",
   "source": [
    "<br>\n",
    "\n",
    "<hr>\n",
    "\n",
    "\n",
    "# 2. Exploration\n",
    "\n",
    "\n"
   ],
   "metadata": {
    "collapsed": false
   }
  },
  {
   "cell_type": "markdown",
   "source": [
    "<br>\n",
    "\n",
    "## 2.1 Display the First 5 Rows\n",
    "\n"
   ],
   "metadata": {
    "collapsed": false
   }
  },
  {
   "cell_type": "code",
   "execution_count": null,
   "outputs": [],
   "source": [
    "# your code here\n"
   ],
   "metadata": {
    "collapsed": false,
    "pycharm": {
     "name": "#%%\n"
    }
   }
  },
  {
   "cell_type": "code",
   "execution_count": null,
   "outputs": [],
   "source": [
    "df.head() # default is 5, but you can specify with .head(n_of_rows)  "
   ],
   "metadata": {
    "collapsed": false,
    "pycharm": {
     "name": "#%%\n"
    }
   }
  },
  {
   "cell_type": "markdown",
   "source": [
    "<br>\n",
    "<br>\n",
    "\n",
    "## 2.2 How many passengers do we have?"
   ],
   "metadata": {
    "collapsed": false
   }
  },
  {
   "cell_type": "code",
   "execution_count": null,
   "outputs": [],
   "source": [
    "# your code here"
   ],
   "metadata": {
    "collapsed": false,
    "pycharm": {
     "name": "#%%\n"
    }
   }
  },
  {
   "cell_type": "code",
   "execution_count": null,
   "outputs": [],
   "source": [
    "len(df)"
   ],
   "metadata": {
    "collapsed": false,
    "pycharm": {
     "name": "#%%\n"
    }
   }
  },
  {
   "cell_type": "markdown",
   "source": [
    "<br>\n",
    "<br>\n",
    "\n",
    "## 2.3 What type of features do we have?"
   ],
   "metadata": {
    "collapsed": false
   }
  },
  {
   "cell_type": "code",
   "execution_count": null,
   "outputs": [],
   "source": [
    "df.info()"
   ],
   "metadata": {
    "collapsed": false,
    "pycharm": {
     "name": "#%%\n"
    }
   }
  },
  {
   "cell_type": "markdown",
   "source": [
    "<br><br>\n",
    "\n",
    "## 2.4 Column description"
   ],
   "metadata": {
    "collapsed": false
   }
  },
  {
   "cell_type": "code",
   "execution_count": null,
   "outputs": [],
   "source": [
    "df['age'].describe() # numeric description"
   ],
   "metadata": {
    "collapsed": false,
    "pycharm": {
     "name": "#%%\n"
    }
   }
  },
  {
   "cell_type": "code",
   "execution_count": null,
   "outputs": [],
   "source": [
    "df['sex'].describe() # categorical description"
   ],
   "metadata": {
    "collapsed": false,
    "pycharm": {
     "name": "#%%\n"
    }
   }
  },
  {
   "cell_type": "markdown",
   "source": [
    "<br>\n",
    "\n",
    "### What is the mean `fare`?"
   ],
   "metadata": {
    "collapsed": false
   }
  },
  {
   "cell_type": "code",
   "execution_count": null,
   "outputs": [],
   "source": [
    "# your code here"
   ],
   "metadata": {
    "collapsed": false,
    "pycharm": {
     "name": "#%%\n"
    }
   }
  },
  {
   "cell_type": "code",
   "execution_count": null,
   "outputs": [],
   "source": [
    "df['fare'].describe()"
   ],
   "metadata": {
    "collapsed": false,
    "pycharm": {
     "name": "#%%\n"
    }
   }
  },
  {
   "cell_type": "markdown",
   "source": [
    "<br>\n",
    "\n",
    "### What is the most common `pclass`?\n",
    "\n",
    "You need to pass `pclass` to string with the following code:\n",
    "\n",
    "`df[\"pclass\"] = df[\"pclass\"].astype(str)`"
   ],
   "metadata": {
    "collapsed": false
   }
  },
  {
   "cell_type": "code",
   "execution_count": null,
   "outputs": [],
   "source": [
    "# your code here"
   ],
   "metadata": {
    "collapsed": false,
    "pycharm": {
     "name": "#%%\n"
    }
   }
  },
  {
   "cell_type": "code",
   "execution_count": null,
   "outputs": [],
   "source": [
    "df[\"pclass\"] = df[\"pclass\"].astype(str)\n",
    "df['pclass'].describe()"
   ],
   "metadata": {
    "collapsed": false,
    "pycharm": {
     "name": "#%%\n"
    }
   }
  },
  {
   "cell_type": "markdown",
   "source": [
    "<br><br>\n",
    "\n",
    "## 2.5 Value counts"
   ],
   "metadata": {
    "collapsed": false
   }
  },
  {
   "cell_type": "code",
   "execution_count": null,
   "outputs": [],
   "source": [
    "df[\"pclass\"].value_counts()"
   ],
   "metadata": {
    "collapsed": false,
    "pycharm": {
     "name": "#%%\n"
    }
   }
  },
  {
   "cell_type": "markdown",
   "source": [
    "<br>\n",
    "\n",
    "### With normalization"
   ],
   "metadata": {
    "collapsed": false
   }
  },
  {
   "cell_type": "code",
   "execution_count": null,
   "outputs": [],
   "source": [
    "df[\"pclass\"].value_counts(normalize=True)"
   ],
   "metadata": {
    "collapsed": false,
    "pycharm": {
     "name": "#%%\n"
    }
   }
  },
  {
   "cell_type": "markdown",
   "source": [
    "<br>\n",
    "\n",
    "### What is the survival percentage?"
   ],
   "metadata": {
    "collapsed": false
   }
  },
  {
   "cell_type": "code",
   "execution_count": null,
   "outputs": [],
   "source": [
    "# your code here"
   ],
   "metadata": {
    "collapsed": false,
    "pycharm": {
     "name": "#%%\n"
    }
   }
  },
  {
   "cell_type": "code",
   "execution_count": null,
   "outputs": [],
   "source": [
    "df[\"survived\"].value_counts(normalize=True)"
   ],
   "metadata": {
    "collapsed": false,
    "pycharm": {
     "name": "#%%\n"
    }
   }
  },
  {
   "cell_type": "markdown",
   "source": [
    "<br>\n",
    "<hr>\n",
    "\n",
    "# 3. Clean\n",
    "\n",
    "Prepare the dataset to after perform classification."
   ],
   "metadata": {
    "collapsed": false
   }
  },
  {
   "cell_type": "markdown",
   "source": [
    "<br>\n",
    "\n",
    "## 3.1 Drop columns "
   ],
   "metadata": {
    "collapsed": false
   }
  },
  {
   "cell_type": "code",
   "execution_count": null,
   "outputs": [],
   "source": [
    "df = df.drop(['ticket'], axis=1)"
   ],
   "metadata": {
    "collapsed": false,
    "pycharm": {
     "name": "#%%\n"
    }
   }
  },
  {
   "cell_type": "markdown",
   "source": [
    "<br>\n",
    "\n",
    "### Select other columns that you may find relevant to drop"
   ],
   "metadata": {
    "collapsed": false
   }
  },
  {
   "cell_type": "code",
   "execution_count": null,
   "outputs": [],
   "source": [
    "# you code here"
   ],
   "metadata": {
    "collapsed": false,
    "pycharm": {
     "name": "#%%\n"
    }
   }
  },
  {
   "cell_type": "code",
   "execution_count": null,
   "outputs": [],
   "source": [
    "df = df.drop(['cabin','boat','body','home.dest'], axis=1)"
   ],
   "metadata": {
    "collapsed": false,
    "pycharm": {
     "name": "#%%\n"
    }
   }
  },
  {
   "cell_type": "markdown",
   "source": [
    "<br>\n",
    "\n",
    "## 3.2 Convert categorical features to numeric "
   ],
   "metadata": {
    "collapsed": false
   }
  },
  {
   "cell_type": "code",
   "execution_count": null,
   "outputs": [],
   "source": [
    "genders = {\"male\": 0, \"female\": 1}\n",
    "df['sex'] = df['sex'].map(genders)"
   ],
   "metadata": {
    "collapsed": false,
    "pycharm": {
     "name": "#%%\n"
    }
   }
  },
  {
   "cell_type": "markdown",
   "source": [
    "<br>\n",
    "\n",
    "## 3.3 One hot-encoding"
   ],
   "metadata": {
    "collapsed": false
   }
  },
  {
   "cell_type": "code",
   "execution_count": null,
   "outputs": [],
   "source": [
    "embarked_df = pd.get_dummies(df[\"embarked\"],prefix='embarked') # returns a dataframe\n",
    "embarked_df.head()"
   ],
   "metadata": {
    "collapsed": false,
    "pycharm": {
     "name": "#%%\n"
    }
   }
  },
  {
   "cell_type": "code",
   "execution_count": null,
   "outputs": [],
   "source": [
    "# concatenate the dataframe with the embarker dataframe\n",
    "df = pd.concat([df,embarked_df],axis=1)\n",
    "\n",
    "# now drop the original 'embarked' column (you don't need it anymore)\n",
    "df.drop(['embarked'], axis=1, inplace=True)\n",
    "\n",
    "df.head()"
   ],
   "metadata": {
    "collapsed": false,
    "pycharm": {
     "name": "#%%\n"
    }
   }
  },
  {
   "cell_type": "markdown",
   "source": [
    "<br>\n",
    "\n",
    "## 3.5 How many relatives\n",
    "\n",
    "Create a new feature called `relatives` that represents the number of relatives."
   ],
   "metadata": {
    "collapsed": false
   }
  },
  {
   "cell_type": "code",
   "execution_count": null,
   "outputs": [],
   "source": [
    "# your code here"
   ],
   "metadata": {
    "collapsed": false,
    "pycharm": {
     "name": "#%%\n"
    }
   }
  },
  {
   "cell_type": "code",
   "execution_count": null,
   "outputs": [],
   "source": [
    "df[\"relatives\"] = df[\"sibsp\"] + df[\"parch\"]\n",
    "df[\"relatives\"].value_counts()"
   ],
   "metadata": {
    "collapsed": false,
    "pycharm": {
     "name": "#%%\n"
    }
   }
  },
  {
   "cell_type": "markdown",
   "source": [
    "<br>\n",
    "\n",
    "## 3.6 It was alone?\n",
    "\n",
    "Create a new feature called `alone` that represents if a passenger was alone. \n",
    "\n",
    "You need to pass `alone` to int with the following code:\n",
    "\n",
    "`df[\"alone\"] = df[\"alone\"].astype(int)`"
   ],
   "metadata": {
    "collapsed": false
   }
  },
  {
   "cell_type": "code",
   "execution_count": null,
   "outputs": [],
   "source": [
    "# your code here\n",
    "df[\"alone\"] = df[\"relatives\"] == 0\n",
    "df[\"alone\"] = df[\"alone\"].astype(int)\n",
    "df[\"alone\"].value_counts(normalize=True)"
   ],
   "metadata": {
    "collapsed": false,
    "pycharm": {
     "name": "#%%\n"
    }
   }
  },
  {
   "cell_type": "code",
   "execution_count": null,
   "outputs": [],
   "source": [
    "df.loc[ df['age'] <= 11, 'age'] = 0\n",
    "df.loc[(df['age'] > 11) & (df['age'] <= 18), 'age'] = 1\n",
    "df.loc[(df['age'] > 18) & (df['age'] <= 22), 'age'] = 2\n",
    "df.loc[(df['age'] > 22) & (df['age'] <= 27), 'age'] = 3\n",
    "df.loc[(df['age'] > 27) & (df['age'] <= 33), 'age'] = 4\n",
    "df.loc[(df['age'] > 33) & (df['age'] <= 40), 'age'] = 5\n",
    "df.loc[(df['age'] > 40) & (df['age'] <= 66), 'age'] = 6\n",
    "df.loc[ df['age'] > 66, 'age'] = 6\n"
   ],
   "metadata": {
    "collapsed": false,
    "pycharm": {
     "name": "#%%\n"
    }
   }
  },
  {
   "cell_type": "markdown",
   "source": [
    "<br>\n",
    "\n",
    "## 3.7 Missing values"
   ],
   "metadata": {
    "collapsed": false
   }
  },
  {
   "cell_type": "markdown",
   "source": [
    "### Number of missing values"
   ],
   "metadata": {
    "collapsed": false
   }
  },
  {
   "cell_type": "code",
   "execution_count": null,
   "outputs": [],
   "source": [
    "df.isnull().sum()"
   ],
   "metadata": {
    "collapsed": false,
    "pycharm": {
     "name": "#%%\n"
    }
   }
  },
  {
   "cell_type": "markdown",
   "source": [
    "### Percentage of missing values"
   ],
   "metadata": {
    "collapsed": false
   }
  },
  {
   "cell_type": "code",
   "execution_count": null,
   "outputs": [],
   "source": [
    "df.isnull().sum()/len(df)"
   ],
   "metadata": {
    "collapsed": false,
    "pycharm": {
     "name": "#%%\n"
    }
   }
  },
  {
   "cell_type": "markdown",
   "source": [
    "<br>\n",
    "\n",
    "## 3.7.1 Set default value\n",
    " "
   ],
   "metadata": {
    "collapsed": false
   }
  },
  {
   "cell_type": "code",
   "execution_count": null,
   "outputs": [],
   "source": [
    "df[\"age\"] = df[\"age\"].fillna(20)"
   ],
   "metadata": {
    "collapsed": false,
    "pycharm": {
     "name": "#%%\n"
    }
   }
  },
  {
   "cell_type": "markdown",
   "source": [
    "<br>\n",
    "\n",
    "## 3.7.2 Remove missing values\n",
    " "
   ],
   "metadata": {
    "collapsed": false
   }
  },
  {
   "cell_type": "code",
   "execution_count": null,
   "outputs": [],
   "source": [
    "# drop all rows with at least one missing value\n",
    "df = df.dropna()"
   ],
   "metadata": {
    "collapsed": false,
    "pycharm": {
     "name": "#%%\n"
    }
   }
  },
  {
   "cell_type": "markdown",
   "source": [
    "<br>\n",
    "\n",
    "## 3.8 Age into categories\n",
    "\n",
    "Add the categories `age_<10`, `age_10-25`, `age_25-40`, `age_40-65`, `age_>65`.\n",
    " "
   ],
   "metadata": {
    "collapsed": false
   }
  },
  {
   "cell_type": "code",
   "execution_count": null,
   "outputs": [],
   "source": [
    "# your code here"
   ],
   "metadata": {
    "collapsed": false,
    "pycharm": {
     "name": "#%%\n"
    }
   }
  },
  {
   "cell_type": "code",
   "execution_count": null,
   "outputs": [],
   "source": [
    "df['age'] = df['age'].astype(int)\n",
    "\n",
    "df[\"age_<10\"] = df[\"age\"]<=10\n",
    "df[\"age_10-25\"] = (df[\"age\"]>10) & (df[\"age\"]<25)\n",
    "df[\"age_25-40\"] = (df[\"age\"]>=25) & (df[\"age\"]<40)\n",
    "df[\"age_40-65\"] = (df[\"age\"]>=40) & (df[\"age\"]<65)\n",
    "df[\"age_>65\"] = df[\"age\"]>=65\n"
   ],
   "metadata": {
    "collapsed": false,
    "pycharm": {
     "name": "#%%\n"
    }
   }
  },
  {
   "cell_type": "markdown",
   "source": [
    "<br>\n",
    "\n",
    "## 3.9 Clean your way"
   ],
   "metadata": {
    "collapsed": false
   }
  },
  {
   "cell_type": "code",
   "execution_count": null,
   "outputs": [],
   "source": [
    "# your code here"
   ],
   "metadata": {
    "collapsed": false,
    "pycharm": {
     "name": "#%%\n"
    }
   }
  },
  {
   "cell_type": "code",
   "execution_count": null,
   "outputs": [],
   "source": [
    "df[\"c\"] = df['cabin'].astype(str).str[0]\n",
    "df.head()\n",
    "\n",
    "\n",
    "cabins = df[\"cabin\"]\n",
    "for c in cabins:\n",
    "    print(c)"
   ],
   "metadata": {
    "collapsed": false,
    "pycharm": {
     "name": "#%%\n"
    }
   }
  },
  {
   "cell_type": "markdown",
   "source": [
    "<br>\n",
    "\n",
    "## 3.10 Checkpoint\n",
    "\n",
    "Save the cleaned dataset.\n"
   ],
   "metadata": {
    "collapsed": false
   }
  },
  {
   "cell_type": "code",
   "execution_count": null,
   "outputs": [],
   "source": [
    "df.to_csv('titanic_cleaned.csv')"
   ],
   "metadata": {
    "collapsed": false,
    "pycharm": {
     "name": "#%%\n"
    }
   }
  },
  {
   "cell_type": "markdown",
   "source": [
    "<br>\n",
    "<hr>\n",
    "\n",
    "# 4. Classification\n",
    "\n",
    "We want to predict if a passenger survived. \n",
    "\n",
    "The metric to evaluate the best model will be the accuracy\n",
    "\n",
    "List of Metrics: https://scikit-learn.org/stable/modules/classes.html#module-sklearn.metrics"
   ],
   "metadata": {
    "collapsed": false
   }
  },
  {
   "cell_type": "markdown",
   "source": [
    "\n",
    "<br>\n",
    "\n",
    "## 4.1 Split data between train and test"
   ],
   "metadata": {
    "collapsed": false
   }
  },
  {
   "cell_type": "code",
   "execution_count": null,
   "outputs": [],
   "source": [
    "from sklearn.model_selection import train_test_split\n",
    "\n",
    "target_name = \"survived\"\n",
    "\n",
    "# save feature names\n",
    "feature_names = list(df.columns)\n",
    "feature_names.remove(target_name)\n",
    "\n",
    "# split between train and test, you may update the test_size percentage\n",
    "x_train, x_test, y_train, y_test = train_test_split(df.drop(columns=[target_name]),df[target_name], test_size=0.2) \n"
   ],
   "metadata": {
    "collapsed": false,
    "pycharm": {
     "name": "#%%\n"
    }
   }
  },
  {
   "cell_type": "markdown",
   "source": [
    "<br>\n",
    "\n",
    "## 4.2 Logistic regression\n",
    "\n",
    "https://scikit-learn.org/stable/modules/generated/sklearn.linear_model.LogisticRegression.html"
   ],
   "metadata": {
    "collapsed": false
   }
  },
  {
   "cell_type": "markdown",
   "source": [
    "<br>\n",
    "\n",
    "### 4.2.1 Train\n",
    "\n",
    "(you may get some warnings)"
   ],
   "metadata": {
    "collapsed": false
   }
  },
  {
   "cell_type": "code",
   "execution_count": null,
   "outputs": [],
   "source": [
    "from sklearn.linear_model import LogisticRegression\n",
    "\n",
    "model = LogisticRegression()\n",
    "model.fit(x_train, y_train)"
   ],
   "metadata": {
    "collapsed": false,
    "pycharm": {
     "name": "#%%\n"
    }
   }
  },
  {
   "cell_type": "markdown",
   "source": [
    "### 4.2.2 Test"
   ],
   "metadata": {
    "collapsed": false
   }
  },
  {
   "cell_type": "code",
   "execution_count": null,
   "outputs": [],
   "source": [
    "from sklearn.metrics import accuracy_score\n",
    "\n",
    "# predict\n",
    "y_pred = model.predict(x_test)\n",
    "\n",
    "# evaluate\n",
    "accuracy = accuracy_score(y_test, y_pred) * 100\n",
    "print(accuracy)"
   ],
   "metadata": {
    "collapsed": false,
    "pycharm": {
     "name": "#%%\n"
    }
   }
  },
  {
   "cell_type": "markdown",
   "source": [
    "<br>\n",
    "\n",
    "## 4.3 Decision Tree\n",
    "\n",
    "https://scikit-learn.org/stable/modules/generated/sklearn.tree.DecisionTreeClassifier.html"
   ],
   "metadata": {
    "collapsed": false
   }
  },
  {
   "cell_type": "markdown",
   "source": [
    "<br>\n",
    "\n",
    "### 4.3.1 Train\n",
    "\n",
    "(you may get some warnings)"
   ],
   "metadata": {
    "collapsed": false
   }
  },
  {
   "cell_type": "code",
   "execution_count": null,
   "outputs": [],
   "source": [
    "from sklearn.tree import DecisionTreeClassifier\n",
    "from sklearn import tree\n",
    "\n",
    "# set model\n",
    "model = DecisionTreeClassifier()\n",
    "\n",
    "# you can set a limit of depth and/or leaf nodes\n",
    "# model = DecisionTreeClassifier(max_depth=4, max_leaf_nodes=10)\n",
    "\n",
    "# train\n",
    "model.fit(x_train, y_train)\n",
    "\n",
    "# preview of tree\n",
    "tree.plot_tree(model)\n",
    "plt.show()"
   ],
   "metadata": {
    "collapsed": false,
    "pycharm": {
     "name": "#%%\n"
    }
   }
  },
  {
   "cell_type": "markdown",
   "source": [
    "<br>\n",
    "\n",
    "### 4.3.2 Test"
   ],
   "metadata": {
    "collapsed": false
   }
  },
  {
   "cell_type": "code",
   "execution_count": null,
   "outputs": [],
   "source": [
    "from sklearn.metrics import accuracy_score\n",
    "\n",
    "# predict\n",
    "y_pred = model.predict(x_test)\n",
    "\n",
    "# evaluate\n",
    "accuracy = accuracy_score(y_test, y_pred) * 100\n",
    "print(accuracy)"
   ],
   "metadata": {
    "collapsed": false,
    "pycharm": {
     "name": "#%%\n"
    }
   }
  },
  {
   "cell_type": "markdown",
   "source": [
    "<br>\n",
    "\n",
    "### 4.3.3 Visualize Tree\n",
    "\n",
    "To visualize the tree you need to install the `pydotplus` library. \n",
    "\n",
    "The tree will be saved with the name `model_decision_tree.png`."
   ],
   "metadata": {
    "collapsed": false
   }
  },
  {
   "cell_type": "code",
   "execution_count": null,
   "outputs": [],
   "source": [
    "from sklearn.tree import export_graphviz\n",
    "import pydotplus\n",
    "import collections\n",
    "\n",
    "def save_tree_graph(model, feature_names):\n",
    "    dot_data = export_graphviz(model,\n",
    "                               feature_names=feature_names,\n",
    "                               out_file=None,\n",
    "                               filled=True,\n",
    "                               rounded=True)\n",
    "\n",
    "    graph = pydotplus.graph_from_dot_data(dot_data)\n",
    "\n",
    "    colors = ('turquoise', 'orange')\n",
    "    edges = collections.defaultdict(list)\n",
    "\n",
    "    for edge in graph.get_edge_list():\n",
    "        edges[edge.get_source()].append(int(edge.get_destination()))\n",
    "\n",
    "    for edge in edges:\n",
    "        edges[edge].sort()\n",
    "        for i in range(2):\n",
    "            dest = graph.get_node(str(edges[edge][i]))[0]\n",
    "            dest.set_fillcolor(colors[i])\n",
    "\n",
    "    # save\n",
    "    graph.write_png('model_decision_tree.png')\n",
    "\n",
    "save_tree_graph(model,feature_names)"
   ],
   "metadata": {
    "collapsed": false,
    "pycharm": {
     "name": "#%%\n"
    }
   }
  }
 ],
 "metadata": {
  "kernelspec": {
   "display_name": "Python 3",
   "language": "python",
   "name": "python3"
  },
  "language_info": {
   "codemirror_mode": {
    "name": "ipython",
    "version": 3
   },
   "file_extension": ".py",
   "mimetype": "text/x-python",
   "name": "python",
   "nbconvert_exporter": "python",
   "pygments_lexer": "ipython3",
   "version": "3.5.4"
  },
  "pycharm": {
   "stem_cell": {
    "cell_type": "raw",
    "source": [],
    "metadata": {
     "collapsed": false
    }
   }
  }
 },
 "nbformat": 4,
 "nbformat_minor": 4
}
