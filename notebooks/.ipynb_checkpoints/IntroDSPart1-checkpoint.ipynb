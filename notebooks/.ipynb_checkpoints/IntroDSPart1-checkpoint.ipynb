{
 "cells": [
  {
   "cell_type": "markdown",
   "metadata": {
    "hideCode": false,
    "hidePrompt": false
   },
   "source": [
    "# A crash course in Python for Data Science\n",
    "\n",
    "<br/>\n",
    "<br/>\n",
    "\n",
    "\n",
    "# ***Datasets***\n",
    "\n",
    "<br/>\n",
    "\n",
    "1. [Setup](#0)<br>\n",
    "2. [About Pandas](#I)<br>\n",
    "3. [Creating & Reading](#II)<br>\n",
    "    3.1 [Creating data](#II.I)<br>\n",
    "    3.2 [Reading data](#II.II)<br>\n",
    "4. [Indexing, Selecting and Assigning](#III)<br>\n",
    "    4.1 [Naitive Python accessors](#III.I)<br>\n",
    "    4.2 [Indexing using Pandas syntaxis](#III.II)<br>\n",
    "    4.3 [Manipulating the index](#III.III)<br>\n",
    "    4.4 [Conditional Selection](#III.VI)<br>\n",
    "    4.5 [Assigning data](#III.V)<br>\n",
    "5. [Summary Functions and Maps](#VI)<br>\n",
    "    5.1 [Summary functions](#VI.I)<br>\n",
    "    5.2 [Maps](#VI.II)<br>\n",
    "6. [Grouping and Sorting](#V)<br>\n",
    "    6.1 [Grouping](#V.I)<br>\n",
    "    6.2 [Sorting](#V.II)<br>\n",
    "7. [Data Types and Missing Values](#IV)<br>\n",
    "    7.1 [Data Types](#IV.I)<br>\n",
    "    7.2 [Missing data](#IV.II)<br>\n",
    "8. [Renaming and Combining](#IIV)<br>\n",
    "    8.1 [Renaming](#IIV.I)<br>\n",
    "    8.2 [Combining](#IIV.II)<br>\n",
    "<br/>\n",
    "<br/>\n",
    "<br/>\n",
    "    \n",
    "\n",
    "\n",
    "\n"
   ]
  },
  {
   "cell_type": "markdown",
   "metadata": {
    "hideCode": false,
    "hidePrompt": false
   },
   "source": [
    "## 1. [Setup](#0)\n",
    "<a id=\"0\"></a>\n",
    "<br/>\n",
    "\n",
    "To see where is the *current working directory* for this specific `jupyter notebook` we leverage the method `getcwd()` from package `os`"
   ]
  },
  {
   "cell_type": "code",
   "execution_count": 1,
   "metadata": {
    "ExecuteTime": {
     "end_time": "2021-03-30T14:06:34.269890Z",
     "start_time": "2021-03-30T14:06:34.266361Z"
    },
    "hideCode": false,
    "hidePrompt": false
   },
   "outputs": [],
   "source": [
    "#Type your code here\n",
    "import os\n",
    "while not os.getcwd().endswith(\"IntroDS\"):\n",
    "    os.chdir(\"..\")"
   ]
  },
  {
   "cell_type": "code",
   "execution_count": 2,
   "metadata": {
    "ExecuteTime": {
     "end_time": "2021-03-30T14:07:13.539962Z",
     "start_time": "2021-03-30T14:07:13.529087Z"
    }
   },
   "outputs": [
    {
     "data": {
      "text/plain": [
       "'/home/eduardo/Documents/Github/IntroDS'"
      ]
     },
     "execution_count": 2,
     "metadata": {},
     "output_type": "execute_result"
    }
   ],
   "source": [
    "os.getcwd()"
   ]
  },
  {
   "cell_type": "code",
   "execution_count": 5,
   "metadata": {},
   "outputs": [],
   "source": [
    "os.chdir(\"C:\\\\Users\\\\eduardo.garcia\\\\Documents\\\\Github\\\\IntroDS\")"
   ]
  },
  {
   "cell_type": "code",
   "execution_count": 6,
   "metadata": {},
   "outputs": [
    {
     "data": {
      "text/plain": [
       "'C:\\\\Users\\\\eduardo.garcia\\\\Documents\\\\Github\\\\IntroDS'"
      ]
     },
     "execution_count": 6,
     "metadata": {},
     "output_type": "execute_result"
    }
   ],
   "source": [
    "os.getcwd()"
   ]
  },
  {
   "cell_type": "markdown",
   "metadata": {
    "hideCode": false,
    "hidePrompt": false
   },
   "source": [
    "*Current directory* of a specific `jupyter notebook` is usually originally set to where the file is stored. Remember that during the first part of this course we learn that it is possible to change our *current working directory* by leveraging the method `chdir()` from the package `os`. \n",
    "\n",
    "The `while` loop above will *check* if the ending string returned by `os.getcwd()` is equal to \"IntroDS\", while this condition it will keep going one folder backwards.\n",
    "\n",
    "**IntroDS** is the name of the folder we have created for this workshop. The structure of it is as follows:\n",
    "\n",
    "+ data\n",
    "    + Data_Extract_From_World_Development_Indicators-OCDE-BRCH-EU.xlsx\n",
    "    + WorldBankDataReshaped.csv\n",
    "+ html\n",
    "    + IntroDSPart1.html\n",
    "+ images\n",
    "    + DSKC_logo.png\n",
    "+ metadata\n",
    "    + Expense.xlsx\n",
    "    + Final Consumption Expenditure.xlsx\n",
    "    + Militar Expenditure.xlsx\n",
    "+ notebooks\n",
    "    + IntroDSPart1.ipynb\n",
    "+ README.md\n",
    "    \n",
    "   \n",
    "Whenever new material is released I will be sharing it via the following github [repo](https://github.com/EduardoHidalgoGarcia/IntroDS).\n"
   ]
  },
  {
   "cell_type": "markdown",
   "metadata": {
    "hideCode": false,
    "hidePrompt": false
   },
   "source": [
    "## 2. [About pandas](#I)\n",
    "<a id=\"I\"></a>\n",
    "<br/>\n",
    "\n",
    "The most popular `Python` library for data analysis is `pandas`. In this part we will learn how to create our own data, along with how to work with data that already exists (i.e. how to import it to `Python`). To use `pandas` you will typically start with the following line of code.\n",
    "\n",
    "\n",
    "\n"
   ]
  },
  {
   "cell_type": "code",
   "execution_count": 3,
   "metadata": {
    "ExecuteTime": {
     "end_time": "2021-03-30T14:07:57.809226Z",
     "start_time": "2021-03-30T14:07:57.514898Z"
    },
    "hideCode": false,
    "hidePrompt": false
   },
   "outputs": [],
   "source": [
    "#type your code here\n",
    "import pandas as pd"
   ]
  },
  {
   "cell_type": "markdown",
   "metadata": {
    "hideCode": false,
    "hidePrompt": false
   },
   "source": [
    "(note that Anaconda environments known as conda already includes the `pandas`*package*)."
   ]
  },
  {
   "cell_type": "markdown",
   "metadata": {
    "hideCode": false,
    "hidePrompt": false
   },
   "source": [
    "## 3. [Creating & Reading data](#II)\n",
    "<a id=\"II\"></a>\n",
    "<br/>"
   ]
  },
  {
   "cell_type": "markdown",
   "metadata": {
    "hideCode": false,
    "hidePrompt": false
   },
   "source": [
    "### 3.1 [Creating data](#II.I)\n",
    "<a id=\"II.I\"></a>\n",
    "<br/>\n",
    "\n",
    "There are two core objects in pandas: the `DataFrame` and the `Series`.\n",
    "<br/>\n",
    "\n",
    "#### 3.1.1 `DataFrame`\n",
    "\n",
    "<hr>\n",
    "\n",
    "A `DataFrame`is a table that contains and array of individual entries, each of which has a certain value. Each entry corresponds to a row (or record) and a column.\n",
    "\n",
    "As an example let's generate our first `DataFrame`. For this we will need to declare a `dictionary` and then feed it to the `pandas` method `DataFrame()`. \n",
    "\n",
    "`Dictionaries` are one of the basic `Python` data structures. If you are familiar with other programming languages you can think of them as mappings or collection of objects that are stored by a *key*, unlike other structures such as sequences or lists that store objects by their relative position."
   ]
  },
  {
   "cell_type": "code",
   "execution_count": 4,
   "metadata": {
    "ExecuteTime": {
     "end_time": "2021-03-30T14:08:05.888044Z",
     "start_time": "2021-03-30T14:08:05.884014Z"
    }
   },
   "outputs": [
    {
     "data": {
      "text/plain": [
       "list"
      ]
     },
     "execution_count": 4,
     "metadata": {},
     "output_type": "execute_result"
    }
   ],
   "source": [
    "#Python basic built in objects\n",
    "lista = [1,2,5,6,3,0]\n",
    "type(lista)"
   ]
  },
  {
   "cell_type": "code",
   "execution_count": 5,
   "metadata": {
    "ExecuteTime": {
     "end_time": "2021-03-30T14:08:11.128814Z",
     "start_time": "2021-03-30T14:08:11.124181Z"
    }
   },
   "outputs": [
    {
     "data": {
      "text/plain": [
       "dict"
      ]
     },
     "execution_count": 5,
     "metadata": {},
     "output_type": "execute_result"
    }
   ],
   "source": [
    "diccionario = {'Key 1':['Value 1', 'Value 2'],\n",
    "              'Key 2':['Value 3','Value 4']}\n",
    "type(diccionario)"
   ]
  },
  {
   "cell_type": "code",
   "execution_count": 6,
   "metadata": {
    "ExecuteTime": {
     "end_time": "2021-03-30T14:08:18.017160Z",
     "start_time": "2021-03-30T14:08:18.013192Z"
    }
   },
   "outputs": [
    {
     "name": "stdout",
     "output_type": "stream",
     "text": [
      "{'Key 1': ['Value 1', 'Value 2'], 'Key 2': ['Value 3', 'Value 4']}\n"
     ]
    }
   ],
   "source": [
    "print(diccionario)"
   ]
  },
  {
   "cell_type": "code",
   "execution_count": 8,
   "metadata": {
    "ExecuteTime": {
     "end_time": "2021-03-30T14:09:13.713320Z",
     "start_time": "2021-03-30T14:09:13.696825Z"
    },
    "hideCode": false,
    "hidePrompt": false
   },
   "outputs": [
    {
     "data": {
      "text/html": [
       "<div>\n",
       "<style scoped>\n",
       "    .dataframe tbody tr th:only-of-type {\n",
       "        vertical-align: middle;\n",
       "    }\n",
       "\n",
       "    .dataframe tbody tr th {\n",
       "        vertical-align: top;\n",
       "    }\n",
       "\n",
       "    .dataframe thead th {\n",
       "        text-align: right;\n",
       "    }\n",
       "</style>\n",
       "<table border=\"1\" class=\"dataframe\">\n",
       "  <thead>\n",
       "    <tr style=\"text-align: right;\">\n",
       "      <th></th>\n",
       "      <th>Key 1</th>\n",
       "      <th>Key 2</th>\n",
       "    </tr>\n",
       "  </thead>\n",
       "  <tbody>\n",
       "    <tr>\n",
       "      <th>0</th>\n",
       "      <td>Value 1</td>\n",
       "      <td>Value 3</td>\n",
       "    </tr>\n",
       "    <tr>\n",
       "      <th>1</th>\n",
       "      <td>Value 2</td>\n",
       "      <td>Value 4</td>\n",
       "    </tr>\n",
       "  </tbody>\n",
       "</table>\n",
       "</div>"
      ],
      "text/plain": [
       "     Key 1    Key 2\n",
       "0  Value 1  Value 3\n",
       "1  Value 2  Value 4"
      ]
     },
     "execution_count": 8,
     "metadata": {},
     "output_type": "execute_result"
    }
   ],
   "source": [
    "#type your code here\n",
    "my_first_df = pd.DataFrame(diccionario)\n",
    "my_first_df"
   ]
  },
  {
   "cell_type": "code",
   "execution_count": 9,
   "metadata": {
    "ExecuteTime": {
     "end_time": "2021-03-30T14:09:16.620508Z",
     "start_time": "2021-03-30T14:09:16.615053Z"
    }
   },
   "outputs": [
    {
     "data": {
      "text/plain": [
       "Key 1    object\n",
       "Key 2    object\n",
       "dtype: object"
      ]
     },
     "execution_count": 9,
     "metadata": {},
     "output_type": "execute_result"
    }
   ],
   "source": [
    "my_first_df.dtypes"
   ]
  },
  {
   "cell_type": "code",
   "execution_count": 10,
   "metadata": {
    "ExecuteTime": {
     "end_time": "2021-03-30T14:09:50.577289Z",
     "start_time": "2021-03-30T14:09:50.573322Z"
    },
    "hideCode": false,
    "hidePrompt": false
   },
   "outputs": [
    {
     "data": {
      "text/plain": [
       "pandas.core.frame.DataFrame"
      ]
     },
     "execution_count": 10,
     "metadata": {},
     "output_type": "execute_result"
    }
   ],
   "source": [
    "#type your code here\n",
    "type(my_first_df)"
   ]
  },
  {
   "cell_type": "markdown",
   "metadata": {
    "hideCode": false,
    "hidePrompt": false
   },
   "source": [
    "In this example, the entry indexed by (\"0\", \"Key 1\") corresponds to \"Value 1\". The (\"0\",\"Key 2\") value corresponds to \"Value 3\" and so on.\n",
    "\n",
    "`DataFrame` entries are not limited to `strings`. For instance, here is a `DataFrame` whose values are not strings."
   ]
  },
  {
   "cell_type": "code",
   "execution_count": null,
   "metadata": {
    "hideCode": false,
    "hidePrompt": false
   },
   "outputs": [],
   "source": [
    "#type your code here"
   ]
  },
  {
   "cell_type": "markdown",
   "metadata": {
    "hideCode": false,
    "hidePrompt": false
   },
   "source": [
    "We are using the `DataFrame()` constructor from the library `pandas` that we declared as `pd` to generate these `DataFrame` objects. The syntax for declaring a new one is a dictionary whose keys are the column names (`Yes`and `No` in the prior example). This is the standard way of constructing a new DataFrame, and the one you are most likely to encounter.\n",
    "\n",
    "The dictionary-list constructor assigns values to the column labels, but just uses an ascending count from 0 (0, 1, 2, 3, ...) for the `row labels`. Sometimes this is OK, but oftentimes we will want to assign these labels ourselves.\n",
    "\n",
    "The list of `row labels` used in a `DataFrame` is known as an **Index**. We can assign values to it by using an `index` parameter in our constructor, for example:"
   ]
  },
  {
   "cell_type": "code",
   "execution_count": 11,
   "metadata": {
    "ExecuteTime": {
     "end_time": "2021-03-30T14:09:58.395075Z",
     "start_time": "2021-03-30T14:09:58.386111Z"
    },
    "hideCode": false,
    "hidePrompt": false
   },
   "outputs": [
    {
     "data": {
      "text/html": [
       "<div>\n",
       "<style scoped>\n",
       "    .dataframe tbody tr th:only-of-type {\n",
       "        vertical-align: middle;\n",
       "    }\n",
       "\n",
       "    .dataframe tbody tr th {\n",
       "        vertical-align: top;\n",
       "    }\n",
       "\n",
       "    .dataframe thead th {\n",
       "        text-align: right;\n",
       "    }\n",
       "</style>\n",
       "<table border=\"1\" class=\"dataframe\">\n",
       "  <thead>\n",
       "    <tr style=\"text-align: right;\">\n",
       "      <th></th>\n",
       "      <th>Yes</th>\n",
       "      <th>No</th>\n",
       "    </tr>\n",
       "  </thead>\n",
       "  <tbody>\n",
       "    <tr>\n",
       "      <th>Men</th>\n",
       "      <td>50</td>\n",
       "      <td>131</td>\n",
       "    </tr>\n",
       "    <tr>\n",
       "      <th>Women</th>\n",
       "      <td>21</td>\n",
       "      <td>2</td>\n",
       "    </tr>\n",
       "  </tbody>\n",
       "</table>\n",
       "</div>"
      ],
      "text/plain": [
       "       Yes   No\n",
       "Men     50  131\n",
       "Women   21    2"
      ]
     },
     "execution_count": 11,
     "metadata": {},
     "output_type": "execute_result"
    }
   ],
   "source": [
    "#type your code here\n",
    "pd.DataFrame({'Yes':[50,21],\n",
    "             'No':[131,2]},index=['Men','Women'])"
   ]
  },
  {
   "cell_type": "markdown",
   "metadata": {
    "hideCode": false,
    "hidePrompt": false
   },
   "source": [
    "<br/>\n",
    "\n",
    "##### 3.1.2 `Series`\n",
    "\n",
    "<hr>\n",
    "\n",
    "A `Series` is a sequence of data values. If a `DataFrame` is a **table**, a `Series` is a **list**, both with special methods and constructors than the ones available by using the `Matrix` (two-dimensional array) and `list` data structures. So, it is possible to generate a `pandas` `Series` with nothing more than a list, for example:"
   ]
  },
  {
   "cell_type": "code",
   "execution_count": 12,
   "metadata": {
    "ExecuteTime": {
     "end_time": "2021-03-30T14:10:01.438043Z",
     "start_time": "2021-03-30T14:10:01.433037Z"
    },
    "hideCode": false,
    "hidePrompt": false
   },
   "outputs": [
    {
     "data": {
      "text/plain": [
       "0    10\n",
       "1    20\n",
       "2    50\n",
       "dtype: int64"
      ]
     },
     "execution_count": 12,
     "metadata": {},
     "output_type": "execute_result"
    }
   ],
   "source": [
    "#type your code here\n",
    "second_list = [10,20,50]\n",
    "pd.Series(second_list)"
   ]
  },
  {
   "cell_type": "markdown",
   "metadata": {
    "hideCode": false,
    "hidePrompt": false
   },
   "source": [
    "A `Series` is, in essence, a single column of a `DataFrame`. So you can assign column values to the `Series` the same way as before, using an `index` parameter. However"
   ]
  },
  {
   "cell_type": "code",
   "execution_count": 13,
   "metadata": {
    "ExecuteTime": {
     "end_time": "2021-03-30T14:10:08.469903Z",
     "start_time": "2021-03-30T14:10:08.463917Z"
    },
    "hideCode": false,
    "hidePrompt": false
   },
   "outputs": [
    {
     "data": {
      "text/plain": [
       "2017    10\n",
       "2018    20\n",
       "2019    50\n",
       "Name: vendas pasteis, dtype: int64"
      ]
     },
     "execution_count": 13,
     "metadata": {},
     "output_type": "execute_result"
    }
   ],
   "source": [
    "#type your code here\n",
    "pd.Series(second_list,index=['2017','2018','2019'],name='vendas pasteis')"
   ]
  },
  {
   "cell_type": "markdown",
   "metadata": {
    "hideCode": false,
    "hidePrompt": false
   },
   "source": [
    "<hr>\n",
    "<hr>\n",
    "\n",
    "**Summarizing**, we saw that `pandas` library has two main objects `DataFrame` and `Series`. By this time it must be clear that they are intimately related. It's helpful to think of a DataFrame as actually being just a bunch of Series \"glued together\"\n",
    "\n",
    "<hr>\n",
    "<hr>"
   ]
  },
  {
   "cell_type": "markdown",
   "metadata": {
    "hideCode": false,
    "hidePrompt": false
   },
   "source": [
    "<br/>\n",
    "\n",
    "### 3.2 [Reading data](#II.II)\n",
    "<a id=\"II.II\"></a>\n",
    "\n",
    "<br/>\n",
    "\n",
    "Data can be stored in any of a number of different forms and formats. By far the most basic format is the CSV file or *Comma-Separated Values*. The function from pandas that will allow us to read this format to Python is `read_csv()`. Now, lets read our example database using `read_csv()` function."
   ]
  },
  {
   "cell_type": "code",
   "execution_count": 15,
   "metadata": {
    "ExecuteTime": {
     "end_time": "2021-03-30T14:10:46.873014Z",
     "start_time": "2021-03-30T14:10:46.821557Z"
    },
    "hideCode": false,
    "hidePrompt": false
   },
   "outputs": [],
   "source": [
    "#type your code here\n",
    "df = pd.read_csv(\"data/WorldBankDataReshaped.csv\")"
   ]
  },
  {
   "cell_type": "markdown",
   "metadata": {
    "hideCode": false,
    "hidePrompt": false
   },
   "source": [
    "We can use the `shape` **attribute** to check the dimensions of the resulting `DataFrame`."
   ]
  },
  {
   "cell_type": "code",
   "execution_count": 16,
   "metadata": {
    "ExecuteTime": {
     "end_time": "2021-03-30T14:11:40.371746Z",
     "start_time": "2021-03-30T14:11:40.367784Z"
    },
    "hideCode": false,
    "hidePrompt": false
   },
   "outputs": [
    {
     "data": {
      "text/plain": [
       "(59299, 6)"
      ]
     },
     "execution_count": 16,
     "metadata": {},
     "output_type": "execute_result"
    }
   ],
   "source": [
    "#type your code here\n",
    "df.shape"
   ]
  },
  {
   "cell_type": "markdown",
   "metadata": {
    "hideCode": false,
    "hidePrompt": false
   },
   "source": [
    "So our `DataFrame` has 59 k records split accross 6 different columns. That is almost 356 k entries!\n",
    "\n",
    "We can examine the contents of the resultant `DataFrame` using the `head()` **method**, which grabs, by default, the first five rows."
   ]
  },
  {
   "cell_type": "code",
   "execution_count": 17,
   "metadata": {
    "ExecuteTime": {
     "end_time": "2021-03-30T14:12:05.726286Z",
     "start_time": "2021-03-30T14:12:05.714250Z"
    },
    "hideCode": false,
    "hidePrompt": false
   },
   "outputs": [
    {
     "data": {
      "text/html": [
       "<div>\n",
       "<style scoped>\n",
       "    .dataframe tbody tr th:only-of-type {\n",
       "        vertical-align: middle;\n",
       "    }\n",
       "\n",
       "    .dataframe tbody tr th {\n",
       "        vertical-align: top;\n",
       "    }\n",
       "\n",
       "    .dataframe thead th {\n",
       "        text-align: right;\n",
       "    }\n",
       "</style>\n",
       "<table border=\"1\" class=\"dataframe\">\n",
       "  <thead>\n",
       "    <tr style=\"text-align: right;\">\n",
       "      <th></th>\n",
       "      <th>Country Name</th>\n",
       "      <th>Country Code</th>\n",
       "      <th>Series Name</th>\n",
       "      <th>Time</th>\n",
       "      <th>value</th>\n",
       "      <th>Continent</th>\n",
       "    </tr>\n",
       "  </thead>\n",
       "  <tbody>\n",
       "    <tr>\n",
       "      <th>0</th>\n",
       "      <td>World</td>\n",
       "      <td>WLD</td>\n",
       "      <td>Access to electricity (% of population)</td>\n",
       "      <td>2000</td>\n",
       "      <td>77.723095</td>\n",
       "      <td>World</td>\n",
       "    </tr>\n",
       "    <tr>\n",
       "      <th>1</th>\n",
       "      <td>World</td>\n",
       "      <td>WLD</td>\n",
       "      <td>Access to electricity (% of population)</td>\n",
       "      <td>2001</td>\n",
       "      <td>77.287755</td>\n",
       "      <td>World</td>\n",
       "    </tr>\n",
       "    <tr>\n",
       "      <th>2</th>\n",
       "      <td>World</td>\n",
       "      <td>WLD</td>\n",
       "      <td>Access to electricity (% of population)</td>\n",
       "      <td>2002</td>\n",
       "      <td>78.819271</td>\n",
       "      <td>World</td>\n",
       "    </tr>\n",
       "    <tr>\n",
       "      <th>3</th>\n",
       "      <td>World</td>\n",
       "      <td>WLD</td>\n",
       "      <td>Access to electricity (% of population)</td>\n",
       "      <td>2003</td>\n",
       "      <td>79.454090</td>\n",
       "      <td>World</td>\n",
       "    </tr>\n",
       "    <tr>\n",
       "      <th>4</th>\n",
       "      <td>World</td>\n",
       "      <td>WLD</td>\n",
       "      <td>Access to electricity (% of population)</td>\n",
       "      <td>2004</td>\n",
       "      <td>79.682255</td>\n",
       "      <td>World</td>\n",
       "    </tr>\n",
       "    <tr>\n",
       "      <th>5</th>\n",
       "      <td>World</td>\n",
       "      <td>WLD</td>\n",
       "      <td>Access to electricity (% of population)</td>\n",
       "      <td>2005</td>\n",
       "      <td>80.375297</td>\n",
       "      <td>World</td>\n",
       "    </tr>\n",
       "    <tr>\n",
       "      <th>6</th>\n",
       "      <td>World</td>\n",
       "      <td>WLD</td>\n",
       "      <td>Access to electricity (% of population)</td>\n",
       "      <td>2006</td>\n",
       "      <td>81.202270</td>\n",
       "      <td>World</td>\n",
       "    </tr>\n",
       "    <tr>\n",
       "      <th>7</th>\n",
       "      <td>World</td>\n",
       "      <td>WLD</td>\n",
       "      <td>Access to electricity (% of population)</td>\n",
       "      <td>2007</td>\n",
       "      <td>81.744939</td>\n",
       "      <td>World</td>\n",
       "    </tr>\n",
       "    <tr>\n",
       "      <th>8</th>\n",
       "      <td>World</td>\n",
       "      <td>WLD</td>\n",
       "      <td>Access to electricity (% of population)</td>\n",
       "      <td>2008</td>\n",
       "      <td>82.275795</td>\n",
       "      <td>World</td>\n",
       "    </tr>\n",
       "    <tr>\n",
       "      <th>9</th>\n",
       "      <td>World</td>\n",
       "      <td>WLD</td>\n",
       "      <td>Access to electricity (% of population)</td>\n",
       "      <td>2009</td>\n",
       "      <td>83.208955</td>\n",
       "      <td>World</td>\n",
       "    </tr>\n",
       "  </tbody>\n",
       "</table>\n",
       "</div>"
      ],
      "text/plain": [
       "  Country Name Country Code                              Series Name  Time  \\\n",
       "0        World          WLD  Access to electricity (% of population)  2000   \n",
       "1        World          WLD  Access to electricity (% of population)  2001   \n",
       "2        World          WLD  Access to electricity (% of population)  2002   \n",
       "3        World          WLD  Access to electricity (% of population)  2003   \n",
       "4        World          WLD  Access to electricity (% of population)  2004   \n",
       "5        World          WLD  Access to electricity (% of population)  2005   \n",
       "6        World          WLD  Access to electricity (% of population)  2006   \n",
       "7        World          WLD  Access to electricity (% of population)  2007   \n",
       "8        World          WLD  Access to electricity (% of population)  2008   \n",
       "9        World          WLD  Access to electricity (% of population)  2009   \n",
       "\n",
       "       value Continent  \n",
       "0  77.723095     World  \n",
       "1  77.287755     World  \n",
       "2  78.819271     World  \n",
       "3  79.454090     World  \n",
       "4  79.682255     World  \n",
       "5  80.375297     World  \n",
       "6  81.202270     World  \n",
       "7  81.744939     World  \n",
       "8  82.275795     World  \n",
       "9  83.208955     World  "
      ]
     },
     "execution_count": 17,
     "metadata": {},
     "output_type": "execute_result"
    }
   ],
   "source": [
    "#type your code here\n",
    "df.head(10)"
   ]
  },
  {
   "cell_type": "markdown",
   "metadata": {
    "hideCode": false,
    "hidePrompt": false
   },
   "source": [
    "The pandas `read_csv()` functions is well-endowed, with over 30 optional parameters for you to specify as needed. This optional parameters can allow you to read other types of format files. For example, by specifying the `sep='\\t'` this same function will allow you to read **tsv** files. Another optional parameter is the `index_col` which allows you to use the specified column (you will need to specify the number of the column starting by 0) as the `row_labels` of the `DataFrame`. For example:"
   ]
  },
  {
   "cell_type": "code",
   "execution_count": 33,
   "metadata": {
    "hideCode": false,
    "hidePrompt": false
   },
   "outputs": [],
   "source": [
    "#type your code here\n",
    "#help(pd.read_csv)"
   ]
  },
  {
   "cell_type": "code",
   "execution_count": null,
   "metadata": {
    "hideCode": false,
    "hidePrompt": false
   },
   "outputs": [],
   "source": [
    "#type your code here"
   ]
  },
  {
   "cell_type": "markdown",
   "metadata": {
    "hideCode": false,
    "hidePrompt": false
   },
   "source": [
    "Another very common format is the **xlsx** or Excel files. Unfortunately, `read_csv()` method from pandas library will not let us read this type of data. For reading into Python this format we need to install the package `xlrd`. Once we do that we can simply use the pandas method `read_excel()` in the following way:"
   ]
  },
  {
   "cell_type": "code",
   "execution_count": 18,
   "metadata": {
    "ExecuteTime": {
     "end_time": "2021-03-30T14:13:15.601899Z",
     "start_time": "2021-03-30T14:13:14.928012Z"
    },
    "hideCode": false,
    "hidePrompt": false
   },
   "outputs": [],
   "source": [
    "#type your code here\n",
    "\n",
    "raw_data = pd.read_excel(\"data/Data_Extract_From_World_Development_Indicators-OCDE-BRCH-EU.xlsx\")"
   ]
  },
  {
   "cell_type": "code",
   "execution_count": 19,
   "metadata": {
    "ExecuteTime": {
     "end_time": "2021-03-30T14:13:20.905153Z",
     "start_time": "2021-03-30T14:13:20.900623Z"
    }
   },
   "outputs": [
    {
     "data": {
      "text/plain": [
       "(3121, 23)"
      ]
     },
     "execution_count": 19,
     "metadata": {},
     "output_type": "execute_result"
    }
   ],
   "source": [
    "raw_data.shape"
   ]
  },
  {
   "cell_type": "code",
   "execution_count": 40,
   "metadata": {},
   "outputs": [
    {
     "data": {
      "text/plain": [
       "RangeIndex(start=0, stop=3121, step=1)"
      ]
     },
     "execution_count": 40,
     "metadata": {},
     "output_type": "execute_result"
    }
   ],
   "source": [
    "raw_data.index"
   ]
  },
  {
   "cell_type": "code",
   "execution_count": 20,
   "metadata": {
    "ExecuteTime": {
     "end_time": "2021-03-30T14:13:47.844168Z",
     "start_time": "2021-03-30T14:13:47.822479Z"
    },
    "hideCode": false,
    "hidePrompt": false
   },
   "outputs": [
    {
     "data": {
      "text/html": [
       "<div>\n",
       "<style scoped>\n",
       "    .dataframe tbody tr th:only-of-type {\n",
       "        vertical-align: middle;\n",
       "    }\n",
       "\n",
       "    .dataframe tbody tr th {\n",
       "        vertical-align: top;\n",
       "    }\n",
       "\n",
       "    .dataframe thead th {\n",
       "        text-align: right;\n",
       "    }\n",
       "</style>\n",
       "<table border=\"1\" class=\"dataframe\">\n",
       "  <thead>\n",
       "    <tr style=\"text-align: right;\">\n",
       "      <th></th>\n",
       "      <th>Country Name</th>\n",
       "      <th>Country Code</th>\n",
       "      <th>Series Name</th>\n",
       "      <th>Series Code</th>\n",
       "      <th>2000 [YR2000]</th>\n",
       "      <th>2001 [YR2001]</th>\n",
       "      <th>2002 [YR2002]</th>\n",
       "      <th>2003 [YR2003]</th>\n",
       "      <th>2004 [YR2004]</th>\n",
       "      <th>2005 [YR2005]</th>\n",
       "      <th>...</th>\n",
       "      <th>2009 [YR2009]</th>\n",
       "      <th>2010 [YR2010]</th>\n",
       "      <th>2011 [YR2011]</th>\n",
       "      <th>2012 [YR2012]</th>\n",
       "      <th>2013 [YR2013]</th>\n",
       "      <th>2014 [YR2014]</th>\n",
       "      <th>2015 [YR2015]</th>\n",
       "      <th>2016 [YR2016]</th>\n",
       "      <th>2017 [YR2017]</th>\n",
       "      <th>2018 [YR2018]</th>\n",
       "    </tr>\n",
       "  </thead>\n",
       "  <tbody>\n",
       "    <tr>\n",
       "      <th>0</th>\n",
       "      <td>Austria</td>\n",
       "      <td>AUT</td>\n",
       "      <td>Access to electricity (% of population)</td>\n",
       "      <td>EG.ELC.ACCS.ZS</td>\n",
       "      <td>100</td>\n",
       "      <td>100</td>\n",
       "      <td>100</td>\n",
       "      <td>100</td>\n",
       "      <td>100</td>\n",
       "      <td>100</td>\n",
       "      <td>...</td>\n",
       "      <td>100</td>\n",
       "      <td>100</td>\n",
       "      <td>100</td>\n",
       "      <td>100</td>\n",
       "      <td>100</td>\n",
       "      <td>100</td>\n",
       "      <td>100</td>\n",
       "      <td>100</td>\n",
       "      <td>..</td>\n",
       "      <td>..</td>\n",
       "    </tr>\n",
       "    <tr>\n",
       "      <th>1</th>\n",
       "      <td>Austria</td>\n",
       "      <td>AUT</td>\n",
       "      <td>Age dependency ratio, young (% of working-age ...</td>\n",
       "      <td>SP.POP.DPND.YG</td>\n",
       "      <td>24.825</td>\n",
       "      <td>24.4606</td>\n",
       "      <td>24.2255</td>\n",
       "      <td>24.0627</td>\n",
       "      <td>23.8547</td>\n",
       "      <td>23.5464</td>\n",
       "      <td>...</td>\n",
       "      <td>22.1017</td>\n",
       "      <td>21.8073</td>\n",
       "      <td>21.5409</td>\n",
       "      <td>21.3406</td>\n",
       "      <td>21.2122</td>\n",
       "      <td>21.1274</td>\n",
       "      <td>21.0621</td>\n",
       "      <td>21.0781</td>\n",
       "      <td>21.1247</td>\n",
       "      <td>..</td>\n",
       "    </tr>\n",
       "    <tr>\n",
       "      <th>2</th>\n",
       "      <td>Austria</td>\n",
       "      <td>AUT</td>\n",
       "      <td>Age dependency ratio, old (% of working-age po...</td>\n",
       "      <td>SP.POP.DPND.OL</td>\n",
       "      <td>22.7047</td>\n",
       "      <td>22.865</td>\n",
       "      <td>23.0489</td>\n",
       "      <td>23.2703</td>\n",
       "      <td>23.544</td>\n",
       "      <td>23.879</td>\n",
       "      <td>...</td>\n",
       "      <td>25.9105</td>\n",
       "      <td>26.3739</td>\n",
       "      <td>26.7749</td>\n",
       "      <td>27.1296</td>\n",
       "      <td>27.4594</td>\n",
       "      <td>27.781</td>\n",
       "      <td>28.1035</td>\n",
       "      <td>28.4517</td>\n",
       "      <td>28.785</td>\n",
       "      <td>..</td>\n",
       "    </tr>\n",
       "    <tr>\n",
       "      <th>3</th>\n",
       "      <td>Austria</td>\n",
       "      <td>AUT</td>\n",
       "      <td>Bank capital to assets ratio (%)</td>\n",
       "      <td>FB.BNK.CAPA.ZS</td>\n",
       "      <td>..</td>\n",
       "      <td>..</td>\n",
       "      <td>..</td>\n",
       "      <td>..</td>\n",
       "      <td>..</td>\n",
       "      <td>..</td>\n",
       "      <td>...</td>\n",
       "      <td>6.9768</td>\n",
       "      <td>7.49276</td>\n",
       "      <td>7.18605</td>\n",
       "      <td>7.77011</td>\n",
       "      <td>7.98594</td>\n",
       "      <td>6.84192</td>\n",
       "      <td>7.44689</td>\n",
       "      <td>7.33423</td>\n",
       "      <td>7.54199</td>\n",
       "      <td>..</td>\n",
       "    </tr>\n",
       "    <tr>\n",
       "      <th>4</th>\n",
       "      <td>Austria</td>\n",
       "      <td>AUT</td>\n",
       "      <td>Benefit incidence of social insurance programs...</td>\n",
       "      <td>per_si_allsi.ben_q1_tot</td>\n",
       "      <td>..</td>\n",
       "      <td>..</td>\n",
       "      <td>..</td>\n",
       "      <td>..</td>\n",
       "      <td>..</td>\n",
       "      <td>..</td>\n",
       "      <td>...</td>\n",
       "      <td>..</td>\n",
       "      <td>..</td>\n",
       "      <td>..</td>\n",
       "      <td>..</td>\n",
       "      <td>..</td>\n",
       "      <td>..</td>\n",
       "      <td>..</td>\n",
       "      <td>..</td>\n",
       "      <td>..</td>\n",
       "      <td>..</td>\n",
       "    </tr>\n",
       "  </tbody>\n",
       "</table>\n",
       "<p>5 rows × 23 columns</p>\n",
       "</div>"
      ],
      "text/plain": [
       "  Country Name Country Code  \\\n",
       "0      Austria          AUT   \n",
       "1      Austria          AUT   \n",
       "2      Austria          AUT   \n",
       "3      Austria          AUT   \n",
       "4      Austria          AUT   \n",
       "\n",
       "                                         Series Name              Series Code  \\\n",
       "0            Access to electricity (% of population)           EG.ELC.ACCS.ZS   \n",
       "1  Age dependency ratio, young (% of working-age ...           SP.POP.DPND.YG   \n",
       "2  Age dependency ratio, old (% of working-age po...           SP.POP.DPND.OL   \n",
       "3                   Bank capital to assets ratio (%)           FB.BNK.CAPA.ZS   \n",
       "4  Benefit incidence of social insurance programs...  per_si_allsi.ben_q1_tot   \n",
       "\n",
       "  2000 [YR2000] 2001 [YR2001] 2002 [YR2002] 2003 [YR2003] 2004 [YR2004]  \\\n",
       "0           100           100           100           100           100   \n",
       "1        24.825       24.4606       24.2255       24.0627       23.8547   \n",
       "2       22.7047        22.865       23.0489       23.2703        23.544   \n",
       "3            ..            ..            ..            ..            ..   \n",
       "4            ..            ..            ..            ..            ..   \n",
       "\n",
       "  2005 [YR2005]  ... 2009 [YR2009] 2010 [YR2010] 2011 [YR2011] 2012 [YR2012]  \\\n",
       "0           100  ...           100           100           100           100   \n",
       "1       23.5464  ...       22.1017       21.8073       21.5409       21.3406   \n",
       "2        23.879  ...       25.9105       26.3739       26.7749       27.1296   \n",
       "3            ..  ...        6.9768       7.49276       7.18605       7.77011   \n",
       "4            ..  ...            ..            ..            ..            ..   \n",
       "\n",
       "  2013 [YR2013] 2014 [YR2014] 2015 [YR2015] 2016 [YR2016] 2017 [YR2017]  \\\n",
       "0           100           100           100           100            ..   \n",
       "1       21.2122       21.1274       21.0621       21.0781       21.1247   \n",
       "2       27.4594        27.781       28.1035       28.4517        28.785   \n",
       "3       7.98594       6.84192       7.44689       7.33423       7.54199   \n",
       "4            ..            ..            ..            ..            ..   \n",
       "\n",
       "  2018 [YR2018]  \n",
       "0            ..  \n",
       "1            ..  \n",
       "2            ..  \n",
       "3            ..  \n",
       "4            ..  \n",
       "\n",
       "[5 rows x 23 columns]"
      ]
     },
     "execution_count": 20,
     "metadata": {},
     "output_type": "execute_result"
    }
   ],
   "source": [
    "#type your code here\n",
    "raw_data.head()"
   ]
  },
  {
   "cell_type": "code",
   "execution_count": 22,
   "metadata": {
    "ExecuteTime": {
     "end_time": "2021-03-30T14:14:08.156177Z",
     "start_time": "2021-03-30T14:14:08.132328Z"
    }
   },
   "outputs": [
    {
     "data": {
      "text/html": [
       "<div>\n",
       "<style scoped>\n",
       "    .dataframe tbody tr th:only-of-type {\n",
       "        vertical-align: middle;\n",
       "    }\n",
       "\n",
       "    .dataframe tbody tr th {\n",
       "        vertical-align: top;\n",
       "    }\n",
       "\n",
       "    .dataframe thead th {\n",
       "        text-align: right;\n",
       "    }\n",
       "</style>\n",
       "<table border=\"1\" class=\"dataframe\">\n",
       "  <thead>\n",
       "    <tr style=\"text-align: right;\">\n",
       "      <th></th>\n",
       "      <th>Country Name</th>\n",
       "      <th>Country Code</th>\n",
       "      <th>Series Name</th>\n",
       "      <th>Series Code</th>\n",
       "      <th>2000 [YR2000]</th>\n",
       "      <th>2001 [YR2001]</th>\n",
       "      <th>2002 [YR2002]</th>\n",
       "      <th>2003 [YR2003]</th>\n",
       "      <th>2004 [YR2004]</th>\n",
       "      <th>2005 [YR2005]</th>\n",
       "      <th>...</th>\n",
       "      <th>2009 [YR2009]</th>\n",
       "      <th>2010 [YR2010]</th>\n",
       "      <th>2011 [YR2011]</th>\n",
       "      <th>2012 [YR2012]</th>\n",
       "      <th>2013 [YR2013]</th>\n",
       "      <th>2014 [YR2014]</th>\n",
       "      <th>2015 [YR2015]</th>\n",
       "      <th>2016 [YR2016]</th>\n",
       "      <th>2017 [YR2017]</th>\n",
       "      <th>2018 [YR2018]</th>\n",
       "    </tr>\n",
       "  </thead>\n",
       "  <tbody>\n",
       "    <tr>\n",
       "      <th>3111</th>\n",
       "      <td>Sub-Saharan Africa</td>\n",
       "      <td>SSF</td>\n",
       "      <td>Population, total</td>\n",
       "      <td>SP.POP.TOTL</td>\n",
       "      <td>670649638</td>\n",
       "      <td>688615995</td>\n",
       "      <td>707099850</td>\n",
       "      <td>726140617</td>\n",
       "      <td>745788118</td>\n",
       "      <td>766080507</td>\n",
       "      <td>...</td>\n",
       "      <td>853953657</td>\n",
       "      <td>877628367</td>\n",
       "      <td>901989926</td>\n",
       "      <td>927039875</td>\n",
       "      <td>952734072</td>\n",
       "      <td>979017918</td>\n",
       "      <td>1005850049</td>\n",
       "      <td>1033212743</td>\n",
       "      <td>1061107721</td>\n",
       "      <td>..</td>\n",
       "    </tr>\n",
       "    <tr>\n",
       "      <th>3112</th>\n",
       "      <td>Sub-Saharan Africa</td>\n",
       "      <td>SSF</td>\n",
       "      <td>Population, male (% of total)</td>\n",
       "      <td>SP.POP.TOTL.MA.ZS</td>\n",
       "      <td>49.7364</td>\n",
       "      <td>49.7422</td>\n",
       "      <td>49.7473</td>\n",
       "      <td>49.752</td>\n",
       "      <td>49.7567</td>\n",
       "      <td>49.7617</td>\n",
       "      <td>...</td>\n",
       "      <td>49.7866</td>\n",
       "      <td>49.7961</td>\n",
       "      <td>49.8073</td>\n",
       "      <td>49.8199</td>\n",
       "      <td>49.8332</td>\n",
       "      <td>49.8461</td>\n",
       "      <td>49.8581</td>\n",
       "      <td>49.8689</td>\n",
       "      <td>49.8788</td>\n",
       "      <td>..</td>\n",
       "    </tr>\n",
       "    <tr>\n",
       "      <th>3113</th>\n",
       "      <td>Sub-Saharan Africa</td>\n",
       "      <td>SSF</td>\n",
       "      <td>Population, female (% of total)</td>\n",
       "      <td>SP.POP.TOTL.FE.ZS</td>\n",
       "      <td>50.2636</td>\n",
       "      <td>50.2578</td>\n",
       "      <td>50.2527</td>\n",
       "      <td>50.248</td>\n",
       "      <td>50.2433</td>\n",
       "      <td>50.2383</td>\n",
       "      <td>...</td>\n",
       "      <td>50.2134</td>\n",
       "      <td>50.2039</td>\n",
       "      <td>50.1927</td>\n",
       "      <td>50.1801</td>\n",
       "      <td>50.1668</td>\n",
       "      <td>50.1539</td>\n",
       "      <td>50.1419</td>\n",
       "      <td>50.1311</td>\n",
       "      <td>50.1212</td>\n",
       "      <td>..</td>\n",
       "    </tr>\n",
       "    <tr>\n",
       "      <th>3114</th>\n",
       "      <td>Sub-Saharan Africa</td>\n",
       "      <td>SSF</td>\n",
       "      <td>Poverty headcount ratio at national poverty li...</td>\n",
       "      <td>SI.POV.NAHC</td>\n",
       "      <td>..</td>\n",
       "      <td>..</td>\n",
       "      <td>..</td>\n",
       "      <td>..</td>\n",
       "      <td>..</td>\n",
       "      <td>..</td>\n",
       "      <td>...</td>\n",
       "      <td>..</td>\n",
       "      <td>..</td>\n",
       "      <td>..</td>\n",
       "      <td>..</td>\n",
       "      <td>..</td>\n",
       "      <td>..</td>\n",
       "      <td>..</td>\n",
       "      <td>..</td>\n",
       "      <td>..</td>\n",
       "      <td>..</td>\n",
       "    </tr>\n",
       "    <tr>\n",
       "      <th>3115</th>\n",
       "      <td>Sub-Saharan Africa</td>\n",
       "      <td>SSF</td>\n",
       "      <td>Tax revenue (% of GDP)</td>\n",
       "      <td>GC.TAX.TOTL.GD.ZS</td>\n",
       "      <td>..</td>\n",
       "      <td>..</td>\n",
       "      <td>..</td>\n",
       "      <td>13.7445</td>\n",
       "      <td>14.3614</td>\n",
       "      <td>15.1803</td>\n",
       "      <td>...</td>\n",
       "      <td>15.2163</td>\n",
       "      <td>15.0506</td>\n",
       "      <td>15.2295</td>\n",
       "      <td>15.4981</td>\n",
       "      <td>15.5774</td>\n",
       "      <td>..</td>\n",
       "      <td>..</td>\n",
       "      <td>..</td>\n",
       "      <td>..</td>\n",
       "      <td>..</td>\n",
       "    </tr>\n",
       "    <tr>\n",
       "      <th>3116</th>\n",
       "      <td>NaN</td>\n",
       "      <td>NaN</td>\n",
       "      <td>NaN</td>\n",
       "      <td>NaN</td>\n",
       "      <td>NaN</td>\n",
       "      <td>NaN</td>\n",
       "      <td>NaN</td>\n",
       "      <td>NaN</td>\n",
       "      <td>NaN</td>\n",
       "      <td>NaN</td>\n",
       "      <td>...</td>\n",
       "      <td>NaN</td>\n",
       "      <td>NaN</td>\n",
       "      <td>NaN</td>\n",
       "      <td>NaN</td>\n",
       "      <td>NaN</td>\n",
       "      <td>NaN</td>\n",
       "      <td>NaN</td>\n",
       "      <td>NaN</td>\n",
       "      <td>NaN</td>\n",
       "      <td>NaN</td>\n",
       "    </tr>\n",
       "    <tr>\n",
       "      <th>3117</th>\n",
       "      <td>NaN</td>\n",
       "      <td>NaN</td>\n",
       "      <td>NaN</td>\n",
       "      <td>NaN</td>\n",
       "      <td>NaN</td>\n",
       "      <td>NaN</td>\n",
       "      <td>NaN</td>\n",
       "      <td>NaN</td>\n",
       "      <td>NaN</td>\n",
       "      <td>NaN</td>\n",
       "      <td>...</td>\n",
       "      <td>NaN</td>\n",
       "      <td>NaN</td>\n",
       "      <td>NaN</td>\n",
       "      <td>NaN</td>\n",
       "      <td>NaN</td>\n",
       "      <td>NaN</td>\n",
       "      <td>NaN</td>\n",
       "      <td>NaN</td>\n",
       "      <td>NaN</td>\n",
       "      <td>NaN</td>\n",
       "    </tr>\n",
       "    <tr>\n",
       "      <th>3118</th>\n",
       "      <td>NaN</td>\n",
       "      <td>NaN</td>\n",
       "      <td>NaN</td>\n",
       "      <td>NaN</td>\n",
       "      <td>NaN</td>\n",
       "      <td>NaN</td>\n",
       "      <td>NaN</td>\n",
       "      <td>NaN</td>\n",
       "      <td>NaN</td>\n",
       "      <td>NaN</td>\n",
       "      <td>...</td>\n",
       "      <td>NaN</td>\n",
       "      <td>NaN</td>\n",
       "      <td>NaN</td>\n",
       "      <td>NaN</td>\n",
       "      <td>NaN</td>\n",
       "      <td>NaN</td>\n",
       "      <td>NaN</td>\n",
       "      <td>NaN</td>\n",
       "      <td>NaN</td>\n",
       "      <td>NaN</td>\n",
       "    </tr>\n",
       "    <tr>\n",
       "      <th>3119</th>\n",
       "      <td>Data from database: World Development Indicators</td>\n",
       "      <td>NaN</td>\n",
       "      <td>NaN</td>\n",
       "      <td>NaN</td>\n",
       "      <td>NaN</td>\n",
       "      <td>NaN</td>\n",
       "      <td>NaN</td>\n",
       "      <td>NaN</td>\n",
       "      <td>NaN</td>\n",
       "      <td>NaN</td>\n",
       "      <td>...</td>\n",
       "      <td>NaN</td>\n",
       "      <td>NaN</td>\n",
       "      <td>NaN</td>\n",
       "      <td>NaN</td>\n",
       "      <td>NaN</td>\n",
       "      <td>NaN</td>\n",
       "      <td>NaN</td>\n",
       "      <td>NaN</td>\n",
       "      <td>NaN</td>\n",
       "      <td>NaN</td>\n",
       "    </tr>\n",
       "    <tr>\n",
       "      <th>3120</th>\n",
       "      <td>Last Updated: 04/24/2019</td>\n",
       "      <td>NaN</td>\n",
       "      <td>NaN</td>\n",
       "      <td>NaN</td>\n",
       "      <td>NaN</td>\n",
       "      <td>NaN</td>\n",
       "      <td>NaN</td>\n",
       "      <td>NaN</td>\n",
       "      <td>NaN</td>\n",
       "      <td>NaN</td>\n",
       "      <td>...</td>\n",
       "      <td>NaN</td>\n",
       "      <td>NaN</td>\n",
       "      <td>NaN</td>\n",
       "      <td>NaN</td>\n",
       "      <td>NaN</td>\n",
       "      <td>NaN</td>\n",
       "      <td>NaN</td>\n",
       "      <td>NaN</td>\n",
       "      <td>NaN</td>\n",
       "      <td>NaN</td>\n",
       "    </tr>\n",
       "  </tbody>\n",
       "</table>\n",
       "<p>10 rows × 23 columns</p>\n",
       "</div>"
      ],
      "text/plain": [
       "                                          Country Name Country Code  \\\n",
       "3111                                Sub-Saharan Africa          SSF   \n",
       "3112                                Sub-Saharan Africa          SSF   \n",
       "3113                                Sub-Saharan Africa          SSF   \n",
       "3114                                Sub-Saharan Africa          SSF   \n",
       "3115                                Sub-Saharan Africa          SSF   \n",
       "3116                                               NaN          NaN   \n",
       "3117                                               NaN          NaN   \n",
       "3118                                               NaN          NaN   \n",
       "3119  Data from database: World Development Indicators          NaN   \n",
       "3120                          Last Updated: 04/24/2019          NaN   \n",
       "\n",
       "                                            Series Name        Series Code  \\\n",
       "3111                                  Population, total        SP.POP.TOTL   \n",
       "3112                      Population, male (% of total)  SP.POP.TOTL.MA.ZS   \n",
       "3113                    Population, female (% of total)  SP.POP.TOTL.FE.ZS   \n",
       "3114  Poverty headcount ratio at national poverty li...        SI.POV.NAHC   \n",
       "3115                             Tax revenue (% of GDP)  GC.TAX.TOTL.GD.ZS   \n",
       "3116                                                NaN                NaN   \n",
       "3117                                                NaN                NaN   \n",
       "3118                                                NaN                NaN   \n",
       "3119                                                NaN                NaN   \n",
       "3120                                                NaN                NaN   \n",
       "\n",
       "     2000 [YR2000] 2001 [YR2001] 2002 [YR2002] 2003 [YR2003] 2004 [YR2004]  \\\n",
       "3111     670649638     688615995     707099850     726140617     745788118   \n",
       "3112       49.7364       49.7422       49.7473        49.752       49.7567   \n",
       "3113       50.2636       50.2578       50.2527        50.248       50.2433   \n",
       "3114            ..            ..            ..            ..            ..   \n",
       "3115            ..            ..            ..       13.7445       14.3614   \n",
       "3116           NaN           NaN           NaN           NaN           NaN   \n",
       "3117           NaN           NaN           NaN           NaN           NaN   \n",
       "3118           NaN           NaN           NaN           NaN           NaN   \n",
       "3119           NaN           NaN           NaN           NaN           NaN   \n",
       "3120           NaN           NaN           NaN           NaN           NaN   \n",
       "\n",
       "     2005 [YR2005]  ... 2009 [YR2009] 2010 [YR2010] 2011 [YR2011]  \\\n",
       "3111     766080507  ...     853953657     877628367     901989926   \n",
       "3112       49.7617  ...       49.7866       49.7961       49.8073   \n",
       "3113       50.2383  ...       50.2134       50.2039       50.1927   \n",
       "3114            ..  ...            ..            ..            ..   \n",
       "3115       15.1803  ...       15.2163       15.0506       15.2295   \n",
       "3116           NaN  ...           NaN           NaN           NaN   \n",
       "3117           NaN  ...           NaN           NaN           NaN   \n",
       "3118           NaN  ...           NaN           NaN           NaN   \n",
       "3119           NaN  ...           NaN           NaN           NaN   \n",
       "3120           NaN  ...           NaN           NaN           NaN   \n",
       "\n",
       "     2012 [YR2012] 2013 [YR2013] 2014 [YR2014] 2015 [YR2015] 2016 [YR2016]  \\\n",
       "3111     927039875     952734072     979017918    1005850049    1033212743   \n",
       "3112       49.8199       49.8332       49.8461       49.8581       49.8689   \n",
       "3113       50.1801       50.1668       50.1539       50.1419       50.1311   \n",
       "3114            ..            ..            ..            ..            ..   \n",
       "3115       15.4981       15.5774            ..            ..            ..   \n",
       "3116           NaN           NaN           NaN           NaN           NaN   \n",
       "3117           NaN           NaN           NaN           NaN           NaN   \n",
       "3118           NaN           NaN           NaN           NaN           NaN   \n",
       "3119           NaN           NaN           NaN           NaN           NaN   \n",
       "3120           NaN           NaN           NaN           NaN           NaN   \n",
       "\n",
       "     2017 [YR2017] 2018 [YR2018]  \n",
       "3111    1061107721            ..  \n",
       "3112       49.8788            ..  \n",
       "3113       50.1212            ..  \n",
       "3114            ..            ..  \n",
       "3115            ..            ..  \n",
       "3116           NaN           NaN  \n",
       "3117           NaN           NaN  \n",
       "3118           NaN           NaN  \n",
       "3119           NaN           NaN  \n",
       "3120           NaN           NaN  \n",
       "\n",
       "[10 rows x 23 columns]"
      ]
     },
     "execution_count": 22,
     "metadata": {},
     "output_type": "execute_result"
    }
   ],
   "source": [
    "raw_data.tail(10)"
   ]
  },
  {
   "cell_type": "markdown",
   "metadata": {
    "hideCode": false,
    "hidePrompt": false
   },
   "source": [
    "The dataset above is the extraction as downloaded from [World Bank's databank](https://databank.worldbank.org/data/source/world-development-indicators#). \n",
    "\n",
    "So far we have declared to our *environment* two <code>dataframe</code>  objects: `data` & `row_data`. The first one has been preprocessed in such a way to reshape it from a wide to a long format. The only difference is that for each country data belonging to a specific series was horizonatally presented (in raw data), but now it is in a *panel data* fashion. \n",
    "\n",
    "\n",
    "<div class=\"alert alert-block alert-info\">\n",
    "<b>Note:</b> that you can always access to the <i>specifications</i> of a method by simply ending the method statement with a question mark instead of parenthesis. For example, lets see the additional parameters available in the <code>read_excel</code> method.\n",
    "</div>\n",
    "\n",
    "\n"
   ]
  },
  {
   "cell_type": "markdown",
   "metadata": {
    "ExecuteTime": {
     "end_time": "2021-03-30T14:14:35.937160Z",
     "start_time": "2021-03-30T14:14:35.888011Z"
    },
    "hideCode": false,
    "hidePrompt": false
   },
   "source": [
    "pd.read_excel?"
   ]
  },
  {
   "cell_type": "markdown",
   "metadata": {
    "hideCode": false,
    "hidePrompt": false
   },
   "source": [
    "For example, note that optional parameter `sheet_name` will let you pick the Excel worksheet of your choice (the default one is the first one indexed by number 0). \n",
    "\n",
    "<hr>\n",
    "\n",
    "#### Exercise \n",
    "\n",
    "<hr>\n",
    "\n",
    "Use the information about the parameters of method `read_excel()` mentioned above to:\n",
    "+ Read the `Data_Extract_From_World_Development_Indicators-OCDE-BRCH-EU.xlsx` file using col `Country Code` as `row_labels`\n",
    "+ Use attribute `shape` to check the dimensions of it\n",
    "+ Use the method `head()` to let us visualize the 3 first rows of it"
   ]
  },
  {
   "cell_type": "code",
   "execution_count": 24,
   "metadata": {
    "ExecuteTime": {
     "end_time": "2021-03-30T14:14:53.335983Z",
     "start_time": "2021-03-30T14:14:52.667918Z"
    },
    "hideCode": false,
    "hidePrompt": false
   },
   "outputs": [
    {
     "data": {
      "text/html": [
       "<div>\n",
       "<style scoped>\n",
       "    .dataframe tbody tr th:only-of-type {\n",
       "        vertical-align: middle;\n",
       "    }\n",
       "\n",
       "    .dataframe tbody tr th {\n",
       "        vertical-align: top;\n",
       "    }\n",
       "\n",
       "    .dataframe thead th {\n",
       "        text-align: right;\n",
       "    }\n",
       "</style>\n",
       "<table border=\"1\" class=\"dataframe\">\n",
       "  <thead>\n",
       "    <tr style=\"text-align: right;\">\n",
       "      <th></th>\n",
       "      <th>Country Name</th>\n",
       "      <th>Series Name</th>\n",
       "      <th>Series Code</th>\n",
       "      <th>2000 [YR2000]</th>\n",
       "      <th>2001 [YR2001]</th>\n",
       "      <th>2002 [YR2002]</th>\n",
       "      <th>2003 [YR2003]</th>\n",
       "      <th>2004 [YR2004]</th>\n",
       "      <th>2005 [YR2005]</th>\n",
       "      <th>2006 [YR2006]</th>\n",
       "      <th>...</th>\n",
       "      <th>2009 [YR2009]</th>\n",
       "      <th>2010 [YR2010]</th>\n",
       "      <th>2011 [YR2011]</th>\n",
       "      <th>2012 [YR2012]</th>\n",
       "      <th>2013 [YR2013]</th>\n",
       "      <th>2014 [YR2014]</th>\n",
       "      <th>2015 [YR2015]</th>\n",
       "      <th>2016 [YR2016]</th>\n",
       "      <th>2017 [YR2017]</th>\n",
       "      <th>2018 [YR2018]</th>\n",
       "    </tr>\n",
       "    <tr>\n",
       "      <th>Country Code</th>\n",
       "      <th></th>\n",
       "      <th></th>\n",
       "      <th></th>\n",
       "      <th></th>\n",
       "      <th></th>\n",
       "      <th></th>\n",
       "      <th></th>\n",
       "      <th></th>\n",
       "      <th></th>\n",
       "      <th></th>\n",
       "      <th></th>\n",
       "      <th></th>\n",
       "      <th></th>\n",
       "      <th></th>\n",
       "      <th></th>\n",
       "      <th></th>\n",
       "      <th></th>\n",
       "      <th></th>\n",
       "      <th></th>\n",
       "      <th></th>\n",
       "      <th></th>\n",
       "    </tr>\n",
       "  </thead>\n",
       "  <tbody>\n",
       "    <tr>\n",
       "      <th>AUT</th>\n",
       "      <td>Austria</td>\n",
       "      <td>Access to electricity (% of population)</td>\n",
       "      <td>EG.ELC.ACCS.ZS</td>\n",
       "      <td>100</td>\n",
       "      <td>100</td>\n",
       "      <td>100</td>\n",
       "      <td>100</td>\n",
       "      <td>100</td>\n",
       "      <td>100</td>\n",
       "      <td>100</td>\n",
       "      <td>...</td>\n",
       "      <td>100</td>\n",
       "      <td>100</td>\n",
       "      <td>100</td>\n",
       "      <td>100</td>\n",
       "      <td>100</td>\n",
       "      <td>100</td>\n",
       "      <td>100</td>\n",
       "      <td>100</td>\n",
       "      <td>..</td>\n",
       "      <td>..</td>\n",
       "    </tr>\n",
       "    <tr>\n",
       "      <th>AUT</th>\n",
       "      <td>Austria</td>\n",
       "      <td>Age dependency ratio, young (% of working-age ...</td>\n",
       "      <td>SP.POP.DPND.YG</td>\n",
       "      <td>24.825</td>\n",
       "      <td>24.4606</td>\n",
       "      <td>24.2255</td>\n",
       "      <td>24.0627</td>\n",
       "      <td>23.8547</td>\n",
       "      <td>23.5464</td>\n",
       "      <td>23.2649</td>\n",
       "      <td>...</td>\n",
       "      <td>22.1017</td>\n",
       "      <td>21.8073</td>\n",
       "      <td>21.5409</td>\n",
       "      <td>21.3406</td>\n",
       "      <td>21.2122</td>\n",
       "      <td>21.1274</td>\n",
       "      <td>21.0621</td>\n",
       "      <td>21.0781</td>\n",
       "      <td>21.1247</td>\n",
       "      <td>..</td>\n",
       "    </tr>\n",
       "    <tr>\n",
       "      <th>AUT</th>\n",
       "      <td>Austria</td>\n",
       "      <td>Age dependency ratio, old (% of working-age po...</td>\n",
       "      <td>SP.POP.DPND.OL</td>\n",
       "      <td>22.7047</td>\n",
       "      <td>22.865</td>\n",
       "      <td>23.0489</td>\n",
       "      <td>23.2703</td>\n",
       "      <td>23.544</td>\n",
       "      <td>23.879</td>\n",
       "      <td>24.3401</td>\n",
       "      <td>...</td>\n",
       "      <td>25.9105</td>\n",
       "      <td>26.3739</td>\n",
       "      <td>26.7749</td>\n",
       "      <td>27.1296</td>\n",
       "      <td>27.4594</td>\n",
       "      <td>27.781</td>\n",
       "      <td>28.1035</td>\n",
       "      <td>28.4517</td>\n",
       "      <td>28.785</td>\n",
       "      <td>..</td>\n",
       "    </tr>\n",
       "  </tbody>\n",
       "</table>\n",
       "<p>3 rows × 22 columns</p>\n",
       "</div>"
      ],
      "text/plain": [
       "             Country Name                                        Series Name  \\\n",
       "Country Code                                                                   \n",
       "AUT               Austria            Access to electricity (% of population)   \n",
       "AUT               Austria  Age dependency ratio, young (% of working-age ...   \n",
       "AUT               Austria  Age dependency ratio, old (% of working-age po...   \n",
       "\n",
       "                 Series Code 2000 [YR2000] 2001 [YR2001] 2002 [YR2002]  \\\n",
       "Country Code                                                             \n",
       "AUT           EG.ELC.ACCS.ZS           100           100           100   \n",
       "AUT           SP.POP.DPND.YG        24.825       24.4606       24.2255   \n",
       "AUT           SP.POP.DPND.OL       22.7047        22.865       23.0489   \n",
       "\n",
       "             2003 [YR2003] 2004 [YR2004] 2005 [YR2005] 2006 [YR2006]  ...  \\\n",
       "Country Code                                                          ...   \n",
       "AUT                    100           100           100           100  ...   \n",
       "AUT                24.0627       23.8547       23.5464       23.2649  ...   \n",
       "AUT                23.2703        23.544        23.879       24.3401  ...   \n",
       "\n",
       "             2009 [YR2009] 2010 [YR2010] 2011 [YR2011] 2012 [YR2012]  \\\n",
       "Country Code                                                           \n",
       "AUT                    100           100           100           100   \n",
       "AUT                22.1017       21.8073       21.5409       21.3406   \n",
       "AUT                25.9105       26.3739       26.7749       27.1296   \n",
       "\n",
       "             2013 [YR2013] 2014 [YR2014] 2015 [YR2015] 2016 [YR2016]  \\\n",
       "Country Code                                                           \n",
       "AUT                    100           100           100           100   \n",
       "AUT                21.2122       21.1274       21.0621       21.0781   \n",
       "AUT                27.4594        27.781       28.1035       28.4517   \n",
       "\n",
       "             2017 [YR2017] 2018 [YR2018]  \n",
       "Country Code                              \n",
       "AUT                     ..            ..  \n",
       "AUT                21.1247            ..  \n",
       "AUT                 28.785            ..  \n",
       "\n",
       "[3 rows x 22 columns]"
      ]
     },
     "execution_count": 24,
     "metadata": {},
     "output_type": "execute_result"
    }
   ],
   "source": [
    "#type your code here\n",
    "raw_data_2 = pd.read_excel(\"data/Data_Extract_From_World_Development_Indicators-OCDE-BRCH-EU.xlsx\",index_col=1)\n",
    "raw_data_2.head(3)"
   ]
  },
  {
   "cell_type": "code",
   "execution_count": 39,
   "metadata": {
    "hideCode": false,
    "hidePrompt": false
   },
   "outputs": [],
   "source": [
    "#type your code here\n",
    "pd.read_excel?"
   ]
  },
  {
   "cell_type": "markdown",
   "metadata": {
    "hideCode": false,
    "hidePrompt": false
   },
   "source": [
    "<br/>\n",
    "\n",
    "## 4. [Indexing, Selecting and Assigning](#III)\n",
    "<a id=\"III\"></a>\n",
    "<br/>\n",
    "\n",
    "Selecting specific values of a pandas `DataFrame` or `Series` to work on is an implicit step in almost any data operation you'll run, so one of the first things you need to learn in working with data in Python is how to go about selecting the data points relevant to you quickly and effectively.\n",
    "\n",
    "<br/>\n",
    "\n"
   ]
  },
  {
   "cell_type": "markdown",
   "metadata": {
    "hideCode": false,
    "hidePrompt": false
   },
   "source": [
    "### 4.1 [Naitive Python accessors](#III.I)\n",
    "<a id=\"III.I\"></a>\n",
    "<br/>\n",
    "\n",
    "Native Python objects provide good ways of indexing data. Pandas carries all of these over, which helps make it easy to start with.\n",
    "\n",
    "In Python, we can access the property of an object by accessing it as an attribute. A `book` object, for example, might have a `title` property, which we can access by calling `book.title`. **Columns in a pandas** `DataFrame` **work in much the same way**.\n",
    "\n",
    "Hence to access the `Continent` **property** of our `data` we can use:"
   ]
  },
  {
   "cell_type": "code",
   "execution_count": 53,
   "metadata": {
    "hideCode": false,
    "hidePrompt": false
   },
   "outputs": [
    {
     "ename": "SyntaxError",
     "evalue": "invalid syntax (<ipython-input-53-734bf0d8d4b5>, line 2)",
     "output_type": "error",
     "traceback": [
      "\u001b[1;36m  File \u001b[1;32m\"<ipython-input-53-734bf0d8d4b5>\"\u001b[1;36m, line \u001b[1;32m2\u001b[0m\n\u001b[1;33m    df.Series Name\u001b[0m\n\u001b[1;37m                 ^\u001b[0m\n\u001b[1;31mSyntaxError\u001b[0m\u001b[1;31m:\u001b[0m invalid syntax\n"
     ]
    }
   ],
   "source": [
    "#type your code here\n",
    "df.Series Name"
   ]
  },
  {
   "cell_type": "markdown",
   "metadata": {
    "hideCode": false,
    "hidePrompt": false
   },
   "source": [
    "In Python dictionaries we can access its values by using the indexing `[ ]` operator. And, so we can do the same with columns in a `DataFrame`."
   ]
  },
  {
   "cell_type": "code",
   "execution_count": 25,
   "metadata": {
    "ExecuteTime": {
     "end_time": "2021-03-30T14:15:33.543616Z",
     "start_time": "2021-03-30T14:15:33.537516Z"
    },
    "hideCode": false,
    "hidePrompt": false
   },
   "outputs": [
    {
     "data": {
      "text/plain": [
       "0        Access to electricity (% of population)\n",
       "1        Access to electricity (% of population)\n",
       "2        Access to electricity (% of population)\n",
       "3        Access to electricity (% of population)\n",
       "4        Access to electricity (% of population)\n",
       "                          ...                   \n",
       "59294                                        NaN\n",
       "59295                                        NaN\n",
       "59296                                        NaN\n",
       "59297                                        NaN\n",
       "59298                                        NaN\n",
       "Name: Series Name, Length: 59299, dtype: object"
      ]
     },
     "execution_count": 25,
     "metadata": {},
     "output_type": "execute_result"
    }
   ],
   "source": [
    "#type your code here\n",
    "df['Series Name']"
   ]
  },
  {
   "cell_type": "markdown",
   "metadata": {
    "hideCode": false,
    "hidePrompt": false
   },
   "source": [
    "<br/>\n",
    "\n",
    "Or `[[ ]]` for a `list` of columns."
   ]
  },
  {
   "cell_type": "code",
   "execution_count": 26,
   "metadata": {
    "ExecuteTime": {
     "end_time": "2021-03-30T14:15:48.217751Z",
     "start_time": "2021-03-30T14:15:48.203783Z"
    },
    "hideCode": false,
    "hidePrompt": false
   },
   "outputs": [
    {
     "data": {
      "text/html": [
       "<div>\n",
       "<style scoped>\n",
       "    .dataframe tbody tr th:only-of-type {\n",
       "        vertical-align: middle;\n",
       "    }\n",
       "\n",
       "    .dataframe tbody tr th {\n",
       "        vertical-align: top;\n",
       "    }\n",
       "\n",
       "    .dataframe thead th {\n",
       "        text-align: right;\n",
       "    }\n",
       "</style>\n",
       "<table border=\"1\" class=\"dataframe\">\n",
       "  <thead>\n",
       "    <tr style=\"text-align: right;\">\n",
       "      <th></th>\n",
       "      <th>Series Name</th>\n",
       "      <th>Continent</th>\n",
       "    </tr>\n",
       "  </thead>\n",
       "  <tbody>\n",
       "    <tr>\n",
       "      <th>0</th>\n",
       "      <td>Access to electricity (% of population)</td>\n",
       "      <td>World</td>\n",
       "    </tr>\n",
       "    <tr>\n",
       "      <th>1</th>\n",
       "      <td>Access to electricity (% of population)</td>\n",
       "      <td>World</td>\n",
       "    </tr>\n",
       "    <tr>\n",
       "      <th>2</th>\n",
       "      <td>Access to electricity (% of population)</td>\n",
       "      <td>World</td>\n",
       "    </tr>\n",
       "    <tr>\n",
       "      <th>3</th>\n",
       "      <td>Access to electricity (% of population)</td>\n",
       "      <td>World</td>\n",
       "    </tr>\n",
       "    <tr>\n",
       "      <th>4</th>\n",
       "      <td>Access to electricity (% of population)</td>\n",
       "      <td>World</td>\n",
       "    </tr>\n",
       "    <tr>\n",
       "      <th>...</th>\n",
       "      <td>...</td>\n",
       "      <td>...</td>\n",
       "    </tr>\n",
       "    <tr>\n",
       "      <th>59294</th>\n",
       "      <td>NaN</td>\n",
       "      <td>NaN</td>\n",
       "    </tr>\n",
       "    <tr>\n",
       "      <th>59295</th>\n",
       "      <td>NaN</td>\n",
       "      <td>NaN</td>\n",
       "    </tr>\n",
       "    <tr>\n",
       "      <th>59296</th>\n",
       "      <td>NaN</td>\n",
       "      <td>NaN</td>\n",
       "    </tr>\n",
       "    <tr>\n",
       "      <th>59297</th>\n",
       "      <td>NaN</td>\n",
       "      <td>NaN</td>\n",
       "    </tr>\n",
       "    <tr>\n",
       "      <th>59298</th>\n",
       "      <td>NaN</td>\n",
       "      <td>NaN</td>\n",
       "    </tr>\n",
       "  </tbody>\n",
       "</table>\n",
       "<p>59299 rows × 2 columns</p>\n",
       "</div>"
      ],
      "text/plain": [
       "                                   Series Name Continent\n",
       "0      Access to electricity (% of population)     World\n",
       "1      Access to electricity (% of population)     World\n",
       "2      Access to electricity (% of population)     World\n",
       "3      Access to electricity (% of population)     World\n",
       "4      Access to electricity (% of population)     World\n",
       "...                                        ...       ...\n",
       "59294                                      NaN       NaN\n",
       "59295                                      NaN       NaN\n",
       "59296                                      NaN       NaN\n",
       "59297                                      NaN       NaN\n",
       "59298                                      NaN       NaN\n",
       "\n",
       "[59299 rows x 2 columns]"
      ]
     },
     "execution_count": 26,
     "metadata": {},
     "output_type": "execute_result"
    }
   ],
   "source": [
    "#type your code here\n",
    "df[['Series Name','Continent']]"
   ]
  },
  {
   "cell_type": "markdown",
   "metadata": {
    "hideCode": false,
    "hidePrompt": false
   },
   "source": [
    "Pandas `Series` are pretty much like `list`s wrapped inside a fancy dictionary. And, so we can select a specific value by using the indexing operator once more, for example lets address the first observation fo the column `Country Name`."
   ]
  },
  {
   "cell_type": "code",
   "execution_count": 58,
   "metadata": {
    "hideCode": false,
    "hidePrompt": false
   },
   "outputs": [
    {
     "data": {
      "text/plain": [
       "'World'"
      ]
     },
     "execution_count": 58,
     "metadata": {},
     "output_type": "execute_result"
    }
   ],
   "source": [
    "#type your code here\n",
    "df['Country Name'][0]"
   ]
  },
  {
   "cell_type": "markdown",
   "metadata": {
    "hideCode": false,
    "hidePrompt": false
   },
   "source": [
    "<hr>\n",
    "<hr>\n",
    "\n",
    "<b>Summarizing:</b> As inherit forms from Python naitive objects we have <b>two</b> ways to select columns,  by <b>attribute</b> of the <code>DataFrame</code> or by <b>key</b> of the <code>dictionary</code> we can select specific <code>Series</code> out of a <code>DataFrame</code>. Neither of them is more or less syntactically valid than the other, but the indexing operator <code>[]</code> does have the advantage that it can handle column names with reserved characters in them (e.g. columns names separated by blank spaces such as <code>Country Name</code>, since <code>data.Country Name</code> would not work!)\n",
    "\n",
    "<hr>\n",
    "<hr>\n",
    "\n"
   ]
  },
  {
   "cell_type": "markdown",
   "metadata": {
    "hideCode": false,
    "hidePrompt": false
   },
   "source": [
    "<br>\n",
    "\n",
    "<hr>\n",
    "\n",
    "#### Exercise\n",
    "<hr>\n",
    "\n",
    "Can you select element 4 of the same `Series`? "
   ]
  },
  {
   "cell_type": "code",
   "execution_count": 27,
   "metadata": {
    "ExecuteTime": {
     "end_time": "2021-03-30T14:16:54.586402Z",
     "start_time": "2021-03-30T14:16:54.580983Z"
    },
    "hideCode": false,
    "hidePrompt": false
   },
   "outputs": [
    {
     "data": {
      "text/plain": [
       "0    World\n",
       "1    World\n",
       "2    World\n",
       "3    World\n",
       "4    World\n",
       "Name: Country Name, dtype: object"
      ]
     },
     "execution_count": 27,
     "metadata": {},
     "output_type": "execute_result"
    }
   ],
   "source": [
    "#Type your code here\n",
    "df['Country Name'].head()"
   ]
  },
  {
   "cell_type": "markdown",
   "metadata": {
    "hideCode": false,
    "hidePrompt": false
   },
   "source": [
    "<br/>\n",
    "\n",
    "### 4.2 [Indexing using pandas syntaxis](#III.II)\n",
    "<a id=\"III.II\"></a>\n",
    "<br/>\n",
    "\n",
    "Pandas has its own accessor operatos, `loc[ ]` and `iloc[ ]`. For more advanced operations, these are the ones you are supposed to be using.\n",
    "\n",
    "\n",
    "<br/>"
   ]
  },
  {
   "cell_type": "markdown",
   "metadata": {
    "hideCode": false,
    "hidePrompt": false
   },
   "source": [
    "#### 4.2.1 Index-based selection `iloc[ ]`\n",
    "\n",
    "<br/>\n",
    "\n",
    "In pandas we have two paradigms for indexing. The first one we will review is the **index-based selection**. This simply means that we will be selecting data based on its numerical position in the `DataFrame` (as we did when we review `list`s). For this first paradigm we use the method `iloc[]`. \n",
    "\n",
    "To select the **first row** of our data `DataFrame`, we can do the follwoing."
   ]
  },
  {
   "cell_type": "code",
   "execution_count": 28,
   "metadata": {
    "ExecuteTime": {
     "end_time": "2021-03-30T14:18:16.015119Z",
     "start_time": "2021-03-30T14:18:16.010686Z"
    },
    "hideCode": false,
    "hidePrompt": false
   },
   "outputs": [
    {
     "data": {
      "text/plain": [
       "'World'"
      ]
     },
     "execution_count": 28,
     "metadata": {},
     "output_type": "execute_result"
    }
   ],
   "source": [
    "#type your code here\n",
    "df.iloc[0,0]"
   ]
  },
  {
   "cell_type": "markdown",
   "metadata": {
    "hideCode": false,
    "hidePrompt": false
   },
   "source": [
    "This is returning a `Series` where the values of it are the first row of data in our `DataFrame`. And the `index` of them are the `column_names` of our `DataFrame`.\n",
    "\n",
    "Both `loc[]` and `iloc[]` are **row-first, column-second**. Please, note that this is the opposite of what we do in naitive Python, which is column-first, row-second.\n",
    "\n",
    "This means that using pandas accessors it is marginally easier to retrieve rows, and marginally harder to retrieve columns.\n",
    "\n",
    "To get a column by using `iloc[]` method we will need to specify two arguments `iloc[rows,columns]`.For example, lets select the column `Continent` using its numerical position on the data `DataFrame`."
   ]
  },
  {
   "cell_type": "code",
   "execution_count": 29,
   "metadata": {
    "ExecuteTime": {
     "end_time": "2021-03-30T14:18:44.191640Z",
     "start_time": "2021-03-30T14:18:44.179895Z"
    }
   },
   "outputs": [
    {
     "data": {
      "text/html": [
       "<div>\n",
       "<style scoped>\n",
       "    .dataframe tbody tr th:only-of-type {\n",
       "        vertical-align: middle;\n",
       "    }\n",
       "\n",
       "    .dataframe tbody tr th {\n",
       "        vertical-align: top;\n",
       "    }\n",
       "\n",
       "    .dataframe thead th {\n",
       "        text-align: right;\n",
       "    }\n",
       "</style>\n",
       "<table border=\"1\" class=\"dataframe\">\n",
       "  <thead>\n",
       "    <tr style=\"text-align: right;\">\n",
       "      <th></th>\n",
       "      <th>Country Name</th>\n",
       "      <th>Country Code</th>\n",
       "      <th>Series Name</th>\n",
       "      <th>Time</th>\n",
       "      <th>value</th>\n",
       "      <th>Continent</th>\n",
       "    </tr>\n",
       "  </thead>\n",
       "  <tbody>\n",
       "    <tr>\n",
       "      <th>0</th>\n",
       "      <td>World</td>\n",
       "      <td>WLD</td>\n",
       "      <td>Access to electricity (% of population)</td>\n",
       "      <td>2000</td>\n",
       "      <td>77.723095</td>\n",
       "      <td>World</td>\n",
       "    </tr>\n",
       "    <tr>\n",
       "      <th>1</th>\n",
       "      <td>World</td>\n",
       "      <td>WLD</td>\n",
       "      <td>Access to electricity (% of population)</td>\n",
       "      <td>2001</td>\n",
       "      <td>77.287755</td>\n",
       "      <td>World</td>\n",
       "    </tr>\n",
       "    <tr>\n",
       "      <th>2</th>\n",
       "      <td>World</td>\n",
       "      <td>WLD</td>\n",
       "      <td>Access to electricity (% of population)</td>\n",
       "      <td>2002</td>\n",
       "      <td>78.819271</td>\n",
       "      <td>World</td>\n",
       "    </tr>\n",
       "    <tr>\n",
       "      <th>3</th>\n",
       "      <td>World</td>\n",
       "      <td>WLD</td>\n",
       "      <td>Access to electricity (% of population)</td>\n",
       "      <td>2003</td>\n",
       "      <td>79.454090</td>\n",
       "      <td>World</td>\n",
       "    </tr>\n",
       "    <tr>\n",
       "      <th>4</th>\n",
       "      <td>World</td>\n",
       "      <td>WLD</td>\n",
       "      <td>Access to electricity (% of population)</td>\n",
       "      <td>2004</td>\n",
       "      <td>79.682255</td>\n",
       "      <td>World</td>\n",
       "    </tr>\n",
       "  </tbody>\n",
       "</table>\n",
       "</div>"
      ],
      "text/plain": [
       "  Country Name Country Code                              Series Name  Time  \\\n",
       "0        World          WLD  Access to electricity (% of population)  2000   \n",
       "1        World          WLD  Access to electricity (% of population)  2001   \n",
       "2        World          WLD  Access to electricity (% of population)  2002   \n",
       "3        World          WLD  Access to electricity (% of population)  2003   \n",
       "4        World          WLD  Access to electricity (% of population)  2004   \n",
       "\n",
       "       value Continent  \n",
       "0  77.723095     World  \n",
       "1  77.287755     World  \n",
       "2  78.819271     World  \n",
       "3  79.454090     World  \n",
       "4  79.682255     World  "
      ]
     },
     "execution_count": 29,
     "metadata": {},
     "output_type": "execute_result"
    }
   ],
   "source": [
    "df.head()"
   ]
  },
  {
   "cell_type": "code",
   "execution_count": 30,
   "metadata": {
    "ExecuteTime": {
     "end_time": "2021-03-30T14:19:12.746241Z",
     "start_time": "2021-03-30T14:19:12.740099Z"
    },
    "hideCode": false,
    "hidePrompt": false
   },
   "outputs": [
    {
     "data": {
      "text/plain": [
       "0        77.723095\n",
       "1        77.287755\n",
       "2        78.819271\n",
       "3        79.454090\n",
       "4        79.682255\n",
       "           ...    \n",
       "59294          NaN\n",
       "59295          NaN\n",
       "59296          NaN\n",
       "59297          NaN\n",
       "59298          NaN\n",
       "Name: value, Length: 59299, dtype: float64"
      ]
     },
     "execution_count": 30,
     "metadata": {},
     "output_type": "execute_result"
    }
   ],
   "source": [
    "#type your code here\n",
    "df.iloc[:,4]"
   ]
  },
  {
   "cell_type": "markdown",
   "metadata": {
    "hideCode": false,
    "hidePrompt": false
   },
   "source": [
    "This is returning a `Series` where the values of it are the **first column** of data in our `DataFrame`. And the `index` of them are the `row_labels` of our `DataFrame`.\n",
    "\n",
    "The operator `:` also comes from naitive Python and it **means \"everything\"**. When combinded with other selectors, it can be used to indicate a range of values. For example, to select the `Continent` column but just the first three rows we can do the following."
   ]
  },
  {
   "cell_type": "code",
   "execution_count": 31,
   "metadata": {
    "ExecuteTime": {
     "end_time": "2021-03-30T14:20:13.106504Z",
     "start_time": "2021-03-30T14:20:13.100950Z"
    },
    "hideCode": false,
    "hidePrompt": false
   },
   "outputs": [
    {
     "data": {
      "text/plain": [
       "0    77.723095\n",
       "1    77.287755\n",
       "2    78.819271\n",
       "Name: value, dtype: float64"
      ]
     },
     "execution_count": 31,
     "metadata": {},
     "output_type": "execute_result"
    }
   ],
   "source": [
    "#type your code here\n",
    "df.iloc[:3,4]"
   ]
  },
  {
   "cell_type": "markdown",
   "metadata": {
    "hideCode": false,
    "hidePrompt": false
   },
   "source": [
    "Or to select just the from the same column rows 10 to 13."
   ]
  },
  {
   "cell_type": "code",
   "execution_count": 32,
   "metadata": {
    "ExecuteTime": {
     "end_time": "2021-03-30T14:20:14.316615Z",
     "start_time": "2021-03-30T14:20:14.311020Z"
    },
    "hideCode": false,
    "hidePrompt": false
   },
   "outputs": [
    {
     "data": {
      "text/plain": [
       "10    83.536681\n",
       "11    82.502300\n",
       "12    85.068582\n",
       "13    85.188118\n",
       "Name: value, dtype: float64"
      ]
     },
     "execution_count": 32,
     "metadata": {},
     "output_type": "execute_result"
    }
   ],
   "source": [
    "#type your code here\n",
    "df.iloc[10:14,4]"
   ]
  },
  {
   "cell_type": "code",
   "execution_count": 33,
   "metadata": {
    "ExecuteTime": {
     "end_time": "2021-03-30T14:20:16.866639Z",
     "start_time": "2021-03-30T14:20:16.859135Z"
    }
   },
   "outputs": [
    {
     "data": {
      "text/plain": [
       "10         ..\n",
       "11         ..\n",
       "12    6.82579\n",
       "13    13.3752\n",
       "Name: 2000 [YR2000], dtype: object"
      ]
     },
     "execution_count": 33,
     "metadata": {},
     "output_type": "execute_result"
    }
   ],
   "source": [
    "raw_data_2.reset_index().iloc[10:14,4]"
   ]
  },
  {
   "cell_type": "markdown",
   "metadata": {
    "hideCode": false,
    "hidePrompt": false
   },
   "source": [
    "<div class=\"alert alert-block alert-info\">\n",
    "    <b>Note:</b>  I introduced a new method of pandas <code>DataFrame</code>s that is  <code>reset_index()</code>. This new method allows us to reset the <code>row_labels</code>, recall that when we imported the data we asked the <code>index</code> to be equal to the <code>Country Code</code>. For presentation purposes in the code above I present the <code>row_labels</code> as 0, 1, 2, 3, ...  so it is clearer what the <code>iloc[10:14,1]</code> method is doing (also pay attention that now <code>Continent</code> column is the fifth one since the first position was occupied by <code>Country Code</code>).\n",
    "</div>\n",
    "\n",
    "\n",
    "It is also possible to pass a list to `iloc[]` method."
   ]
  },
  {
   "cell_type": "code",
   "execution_count": 34,
   "metadata": {
    "ExecuteTime": {
     "end_time": "2021-03-30T14:21:04.737304Z",
     "start_time": "2021-03-30T14:21:04.729311Z"
    },
    "hideCode": false,
    "hidePrompt": false
   },
   "outputs": [
    {
     "data": {
      "text/plain": [
       "0     100\n",
       "10     ..\n",
       "20     ..\n",
       "Name: 2000 [YR2000], dtype: object"
      ]
     },
     "execution_count": 34,
     "metadata": {},
     "output_type": "execute_result"
    }
   ],
   "source": [
    "#type your code here\n",
    "raw_data_2.reset_index().iloc[[0,10,20],4]"
   ]
  },
  {
   "cell_type": "markdown",
   "metadata": {
    "hideCode": false,
    "hidePrompt": false
   },
   "source": [
    "As a final note to this **index-based selection** it is worth knowning that it is also posible to use negative numbers. This makes the `iloc[]` method to start counting forwards from the *end* of the values. So for example here are the last five elements of our dataset."
   ]
  },
  {
   "cell_type": "code",
   "execution_count": 35,
   "metadata": {
    "ExecuteTime": {
     "end_time": "2021-03-30T14:21:16.890405Z",
     "start_time": "2021-03-30T14:21:16.879051Z"
    },
    "hideCode": false,
    "hidePrompt": false
   },
   "outputs": [
    {
     "data": {
      "text/html": [
       "<div>\n",
       "<style scoped>\n",
       "    .dataframe tbody tr th:only-of-type {\n",
       "        vertical-align: middle;\n",
       "    }\n",
       "\n",
       "    .dataframe tbody tr th {\n",
       "        vertical-align: top;\n",
       "    }\n",
       "\n",
       "    .dataframe thead th {\n",
       "        text-align: right;\n",
       "    }\n",
       "</style>\n",
       "<table border=\"1\" class=\"dataframe\">\n",
       "  <thead>\n",
       "    <tr style=\"text-align: right;\">\n",
       "      <th></th>\n",
       "      <th>Country Name</th>\n",
       "      <th>Country Code</th>\n",
       "      <th>Series Name</th>\n",
       "      <th>Time</th>\n",
       "      <th>value</th>\n",
       "      <th>Continent</th>\n",
       "    </tr>\n",
       "  </thead>\n",
       "  <tbody>\n",
       "    <tr>\n",
       "      <th>59294</th>\n",
       "      <td>NaN</td>\n",
       "      <td>NaN</td>\n",
       "      <td>NaN</td>\n",
       "      <td>2017</td>\n",
       "      <td>NaN</td>\n",
       "      <td>NaN</td>\n",
       "    </tr>\n",
       "    <tr>\n",
       "      <th>59295</th>\n",
       "      <td>NaN</td>\n",
       "      <td>NaN</td>\n",
       "      <td>NaN</td>\n",
       "      <td>2017</td>\n",
       "      <td>NaN</td>\n",
       "      <td>NaN</td>\n",
       "    </tr>\n",
       "    <tr>\n",
       "      <th>59296</th>\n",
       "      <td>NaN</td>\n",
       "      <td>NaN</td>\n",
       "      <td>NaN</td>\n",
       "      <td>2018</td>\n",
       "      <td>NaN</td>\n",
       "      <td>NaN</td>\n",
       "    </tr>\n",
       "    <tr>\n",
       "      <th>59297</th>\n",
       "      <td>NaN</td>\n",
       "      <td>NaN</td>\n",
       "      <td>NaN</td>\n",
       "      <td>2018</td>\n",
       "      <td>NaN</td>\n",
       "      <td>NaN</td>\n",
       "    </tr>\n",
       "    <tr>\n",
       "      <th>59298</th>\n",
       "      <td>NaN</td>\n",
       "      <td>NaN</td>\n",
       "      <td>NaN</td>\n",
       "      <td>2018</td>\n",
       "      <td>NaN</td>\n",
       "      <td>NaN</td>\n",
       "    </tr>\n",
       "  </tbody>\n",
       "</table>\n",
       "</div>"
      ],
      "text/plain": [
       "      Country Name Country Code Series Name  Time  value Continent\n",
       "59294          NaN          NaN         NaN  2017    NaN       NaN\n",
       "59295          NaN          NaN         NaN  2017    NaN       NaN\n",
       "59296          NaN          NaN         NaN  2018    NaN       NaN\n",
       "59297          NaN          NaN         NaN  2018    NaN       NaN\n",
       "59298          NaN          NaN         NaN  2018    NaN       NaN"
      ]
     },
     "execution_count": 35,
     "metadata": {},
     "output_type": "execute_result"
    }
   ],
   "source": [
    "#type your code here\n",
    "aux = df.iloc[-5:]\n",
    "aux"
   ]
  },
  {
   "cell_type": "code",
   "execution_count": 36,
   "metadata": {
    "ExecuteTime": {
     "end_time": "2021-03-30T14:21:19.803504Z",
     "start_time": "2021-03-30T14:21:19.791733Z"
    }
   },
   "outputs": [
    {
     "data": {
      "text/html": [
       "<div>\n",
       "<style scoped>\n",
       "    .dataframe tbody tr th:only-of-type {\n",
       "        vertical-align: middle;\n",
       "    }\n",
       "\n",
       "    .dataframe tbody tr th {\n",
       "        vertical-align: top;\n",
       "    }\n",
       "\n",
       "    .dataframe thead th {\n",
       "        text-align: right;\n",
       "    }\n",
       "</style>\n",
       "<table border=\"1\" class=\"dataframe\">\n",
       "  <thead>\n",
       "    <tr style=\"text-align: right;\">\n",
       "      <th></th>\n",
       "      <th>Country Name</th>\n",
       "      <th>Country Code</th>\n",
       "      <th>Series Name</th>\n",
       "      <th>Time</th>\n",
       "      <th>value</th>\n",
       "      <th>Continent</th>\n",
       "    </tr>\n",
       "  </thead>\n",
       "  <tbody>\n",
       "    <tr>\n",
       "      <th>59294</th>\n",
       "      <td>NaN</td>\n",
       "      <td>NaN</td>\n",
       "      <td>NaN</td>\n",
       "      <td>2017</td>\n",
       "      <td>NaN</td>\n",
       "      <td>NaN</td>\n",
       "    </tr>\n",
       "    <tr>\n",
       "      <th>59295</th>\n",
       "      <td>NaN</td>\n",
       "      <td>NaN</td>\n",
       "      <td>NaN</td>\n",
       "      <td>2017</td>\n",
       "      <td>NaN</td>\n",
       "      <td>NaN</td>\n",
       "    </tr>\n",
       "    <tr>\n",
       "      <th>59296</th>\n",
       "      <td>NaN</td>\n",
       "      <td>NaN</td>\n",
       "      <td>NaN</td>\n",
       "      <td>2018</td>\n",
       "      <td>NaN</td>\n",
       "      <td>NaN</td>\n",
       "    </tr>\n",
       "    <tr>\n",
       "      <th>59297</th>\n",
       "      <td>NaN</td>\n",
       "      <td>NaN</td>\n",
       "      <td>NaN</td>\n",
       "      <td>2018</td>\n",
       "      <td>NaN</td>\n",
       "      <td>NaN</td>\n",
       "    </tr>\n",
       "    <tr>\n",
       "      <th>59298</th>\n",
       "      <td>NaN</td>\n",
       "      <td>NaN</td>\n",
       "      <td>NaN</td>\n",
       "      <td>2018</td>\n",
       "      <td>NaN</td>\n",
       "      <td>NaN</td>\n",
       "    </tr>\n",
       "  </tbody>\n",
       "</table>\n",
       "</div>"
      ],
      "text/plain": [
       "      Country Name Country Code Series Name  Time  value Continent\n",
       "59294          NaN          NaN         NaN  2017    NaN       NaN\n",
       "59295          NaN          NaN         NaN  2017    NaN       NaN\n",
       "59296          NaN          NaN         NaN  2018    NaN       NaN\n",
       "59297          NaN          NaN         NaN  2018    NaN       NaN\n",
       "59298          NaN          NaN         NaN  2018    NaN       NaN"
      ]
     },
     "execution_count": 36,
     "metadata": {},
     "output_type": "execute_result"
    }
   ],
   "source": [
    "aux = df.tail()\n",
    "aux"
   ]
  },
  {
   "cell_type": "markdown",
   "metadata": {
    "hideCode": false,
    "hidePrompt": false
   },
   "source": [
    "<br/>\n",
    "\n",
    "#### 4.2.2 Label-based selection `loc[ ]`\n",
    "\n",
    "<br/>\n",
    "\n",
    "The second paradigm in pandas accesses to `DataFrame`s is the one followed by the `loc[ ]` method. In this paradigm, it's the data **index value**, not its position, which matters.\n",
    "\n",
    "For example, as befor lets address the first observation fo the column `Continent`.\n",
    "\n",
    "<br/>"
   ]
  },
  {
   "cell_type": "code",
   "execution_count": 46,
   "metadata": {
    "ExecuteTime": {
     "end_time": "2021-03-30T14:25:33.520765Z",
     "start_time": "2021-03-30T14:25:33.509751Z"
    }
   },
   "outputs": [],
   "source": [
    "df1 = df.set_index(\"Continent\").copy()"
   ]
  },
  {
   "cell_type": "code",
   "execution_count": 50,
   "metadata": {
    "ExecuteTime": {
     "end_time": "2021-03-30T14:26:05.492644Z",
     "start_time": "2021-03-30T14:26:05.481675Z"
    }
   },
   "outputs": [
    {
     "data": {
      "text/html": [
       "<div>\n",
       "<style scoped>\n",
       "    .dataframe tbody tr th:only-of-type {\n",
       "        vertical-align: middle;\n",
       "    }\n",
       "\n",
       "    .dataframe tbody tr th {\n",
       "        vertical-align: top;\n",
       "    }\n",
       "\n",
       "    .dataframe thead th {\n",
       "        text-align: right;\n",
       "    }\n",
       "</style>\n",
       "<table border=\"1\" class=\"dataframe\">\n",
       "  <thead>\n",
       "    <tr style=\"text-align: right;\">\n",
       "      <th></th>\n",
       "      <th>Country Name</th>\n",
       "      <th>Country Code</th>\n",
       "      <th>Series Name</th>\n",
       "      <th>Time</th>\n",
       "      <th>value</th>\n",
       "    </tr>\n",
       "    <tr>\n",
       "      <th>Continent</th>\n",
       "      <th></th>\n",
       "      <th></th>\n",
       "      <th></th>\n",
       "      <th></th>\n",
       "      <th></th>\n",
       "    </tr>\n",
       "  </thead>\n",
       "  <tbody>\n",
       "    <tr>\n",
       "      <th>World</th>\n",
       "      <td>World</td>\n",
       "      <td>WLD</td>\n",
       "      <td>Access to electricity (% of population)</td>\n",
       "      <td>2000</td>\n",
       "      <td>77.723095</td>\n",
       "    </tr>\n",
       "    <tr>\n",
       "      <th>World</th>\n",
       "      <td>World</td>\n",
       "      <td>WLD</td>\n",
       "      <td>Access to electricity (% of population)</td>\n",
       "      <td>2001</td>\n",
       "      <td>77.287755</td>\n",
       "    </tr>\n",
       "    <tr>\n",
       "      <th>World</th>\n",
       "      <td>World</td>\n",
       "      <td>WLD</td>\n",
       "      <td>Access to electricity (% of population)</td>\n",
       "      <td>2002</td>\n",
       "      <td>78.819271</td>\n",
       "    </tr>\n",
       "    <tr>\n",
       "      <th>World</th>\n",
       "      <td>World</td>\n",
       "      <td>WLD</td>\n",
       "      <td>Access to electricity (% of population)</td>\n",
       "      <td>2003</td>\n",
       "      <td>79.454090</td>\n",
       "    </tr>\n",
       "    <tr>\n",
       "      <th>World</th>\n",
       "      <td>World</td>\n",
       "      <td>WLD</td>\n",
       "      <td>Access to electricity (% of population)</td>\n",
       "      <td>2004</td>\n",
       "      <td>79.682255</td>\n",
       "    </tr>\n",
       "  </tbody>\n",
       "</table>\n",
       "</div>"
      ],
      "text/plain": [
       "          Country Name Country Code                              Series Name  \\\n",
       "Continent                                                                      \n",
       "World            World          WLD  Access to electricity (% of population)   \n",
       "World            World          WLD  Access to electricity (% of population)   \n",
       "World            World          WLD  Access to electricity (% of population)   \n",
       "World            World          WLD  Access to electricity (% of population)   \n",
       "World            World          WLD  Access to electricity (% of population)   \n",
       "\n",
       "           Time      value  \n",
       "Continent                   \n",
       "World      2000  77.723095  \n",
       "World      2001  77.287755  \n",
       "World      2002  78.819271  \n",
       "World      2003  79.454090  \n",
       "World      2004  79.682255  "
      ]
     },
     "execution_count": 50,
     "metadata": {},
     "output_type": "execute_result"
    }
   ],
   "source": [
    "df1.head()"
   ]
  },
  {
   "cell_type": "code",
   "execution_count": 47,
   "metadata": {
    "ExecuteTime": {
     "end_time": "2021-03-30T14:25:38.731717Z",
     "start_time": "2021-03-30T14:25:38.727423Z"
    }
   },
   "outputs": [
    {
     "data": {
      "text/plain": [
       "'World'"
      ]
     },
     "execution_count": 47,
     "metadata": {},
     "output_type": "execute_result"
    }
   ],
   "source": [
    "df1.iloc[0,0]"
   ]
  },
  {
   "cell_type": "code",
   "execution_count": 51,
   "metadata": {
    "ExecuteTime": {
     "end_time": "2021-03-30T14:26:36.439419Z",
     "start_time": "2021-03-30T14:26:36.431359Z"
    },
    "hideCode": false,
    "hidePrompt": false
   },
   "outputs": [
    {
     "data": {
      "text/plain": [
       "Continent\n",
       "World    World\n",
       "World    World\n",
       "World    World\n",
       "World    World\n",
       "World    World\n",
       "         ...  \n",
       "World    World\n",
       "World    World\n",
       "World    World\n",
       "World    World\n",
       "World    World\n",
       "Name: Country Name, Length: 1444, dtype: object"
      ]
     },
     "execution_count": 51,
     "metadata": {},
     "output_type": "execute_result"
    }
   ],
   "source": [
    "#type your code here\n",
    "df1.loc[\"World\",\"Country Name\"]"
   ]
  },
  {
   "cell_type": "markdown",
   "metadata": {
    "hideCode": false,
    "hidePrompt": false
   },
   "source": [
    "<br/>\n",
    "\n",
    "#### 3.2.3 Differences between `loc[ ]`and `iloc[ ]`\n",
    "\n",
    "<br/>\n",
    "\n",
    "\n",
    "The two methods use different indexing schemes.\n",
    "\n",
    "`iloc[ ]` uses a scheme where the **first** element of the range is **included** and the **last** one is **excluded**. So, for example `.iloc[0:10]` will select entries 0,...,9. In contrast, `.loc[0:10]` indexes inclusively, so will output entries 0,...,10.\n",
    "\n",
    "This difference is due to the fact that `loc[ ]` is meant to work indexing strings. So for example this characteristic is very convenient when we need to index a dataframe (let it be called `df`) that contains index values such as fruits: `Apples,...,Potatoes,...,` and we want to select \"all the alphabetical fruit choices between Apples and Potatoes\". Then `df.loc['Apples':'Potatoes']` has a much more intuitive use than something like `df.loc['Apples':'Potatoet']` (t comes after s in the alphabet).\n",
    "\n",
    "Otherwise, the semantics and use of `loc[ ]` are the same as those for `iloc[ ]`\n",
    "\n",
    "<br/>"
   ]
  },
  {
   "cell_type": "markdown",
   "metadata": {
    "hideCode": false,
    "hidePrompt": false
   },
   "source": [
    "### 4.3 [Manipulating the index](#III.III)\n",
    "<a id=\"III.III\"></a>\n",
    "\n",
    "<br/>\n",
    "\n",
    "Label-based selection dervies its power from the lables in the index. So, we can manipulate the index in any way we see fit by using the method `set_index()`.\n",
    "\n",
    "For example, lets reset the index of our data. Remember that when first imported it we set the column `Time` as the new index. "
   ]
  },
  {
   "cell_type": "code",
   "execution_count": 53,
   "metadata": {
    "ExecuteTime": {
     "end_time": "2021-03-30T14:31:46.482447Z",
     "start_time": "2021-03-30T14:31:46.469207Z"
    },
    "hideCode": false,
    "hidePrompt": false
   },
   "outputs": [
    {
     "data": {
      "text/html": [
       "<div>\n",
       "<style scoped>\n",
       "    .dataframe tbody tr th:only-of-type {\n",
       "        vertical-align: middle;\n",
       "    }\n",
       "\n",
       "    .dataframe tbody tr th {\n",
       "        vertical-align: top;\n",
       "    }\n",
       "\n",
       "    .dataframe thead th {\n",
       "        text-align: right;\n",
       "    }\n",
       "</style>\n",
       "<table border=\"1\" class=\"dataframe\">\n",
       "  <thead>\n",
       "    <tr style=\"text-align: right;\">\n",
       "      <th></th>\n",
       "      <th>Continent</th>\n",
       "      <th>Country Name</th>\n",
       "      <th>Country Code</th>\n",
       "      <th>Series Name</th>\n",
       "      <th>Time</th>\n",
       "      <th>value</th>\n",
       "    </tr>\n",
       "  </thead>\n",
       "  <tbody>\n",
       "    <tr>\n",
       "      <th>0</th>\n",
       "      <td>World</td>\n",
       "      <td>World</td>\n",
       "      <td>WLD</td>\n",
       "      <td>Access to electricity (% of population)</td>\n",
       "      <td>2000</td>\n",
       "      <td>77.723095</td>\n",
       "    </tr>\n",
       "    <tr>\n",
       "      <th>1</th>\n",
       "      <td>World</td>\n",
       "      <td>World</td>\n",
       "      <td>WLD</td>\n",
       "      <td>Access to electricity (% of population)</td>\n",
       "      <td>2001</td>\n",
       "      <td>77.287755</td>\n",
       "    </tr>\n",
       "    <tr>\n",
       "      <th>2</th>\n",
       "      <td>World</td>\n",
       "      <td>World</td>\n",
       "      <td>WLD</td>\n",
       "      <td>Access to electricity (% of population)</td>\n",
       "      <td>2002</td>\n",
       "      <td>78.819271</td>\n",
       "    </tr>\n",
       "    <tr>\n",
       "      <th>3</th>\n",
       "      <td>World</td>\n",
       "      <td>World</td>\n",
       "      <td>WLD</td>\n",
       "      <td>Access to electricity (% of population)</td>\n",
       "      <td>2003</td>\n",
       "      <td>79.454090</td>\n",
       "    </tr>\n",
       "    <tr>\n",
       "      <th>4</th>\n",
       "      <td>World</td>\n",
       "      <td>World</td>\n",
       "      <td>WLD</td>\n",
       "      <td>Access to electricity (% of population)</td>\n",
       "      <td>2004</td>\n",
       "      <td>79.682255</td>\n",
       "    </tr>\n",
       "  </tbody>\n",
       "</table>\n",
       "</div>"
      ],
      "text/plain": [
       "  Continent Country Name Country Code  \\\n",
       "0     World        World          WLD   \n",
       "1     World        World          WLD   \n",
       "2     World        World          WLD   \n",
       "3     World        World          WLD   \n",
       "4     World        World          WLD   \n",
       "\n",
       "                               Series Name  Time      value  \n",
       "0  Access to electricity (% of population)  2000  77.723095  \n",
       "1  Access to electricity (% of population)  2001  77.287755  \n",
       "2  Access to electricity (% of population)  2002  78.819271  \n",
       "3  Access to electricity (% of population)  2003  79.454090  \n",
       "4  Access to electricity (% of population)  2004  79.682255  "
      ]
     },
     "execution_count": 53,
     "metadata": {},
     "output_type": "execute_result"
    }
   ],
   "source": [
    "#type your code here\n",
    "df1.reset_index().head()"
   ]
  },
  {
   "cell_type": "markdown",
   "metadata": {
    "hideCode": false,
    "hidePrompt": false
   },
   "source": [
    "<br/>\n",
    "\n",
    "### 4.4 [Conditional Selection](#III.VI)\n",
    "<a id=\"III.VI\"></a>\n",
    "\n",
    "<br/>\n",
    "\n",
    "\n",
    "This type of selection works well for **asking interesting questions** to our data. In particular, it helps to *ask* questions based on conditions.\n",
    "\n",
    "For example, suppose that for some reason we are interested in all european countries that have an average GDP of the period higher than 1,000,000,000,000 (or $10^{12}$).\n",
    "\n",
    "First, we need to check if each observation has the column `Continent` equal to **Europe**.\n",
    "\n"
   ]
  },
  {
   "cell_type": "code",
   "execution_count": 61,
   "metadata": {
    "ExecuteTime": {
     "end_time": "2021-03-30T14:40:49.284889Z",
     "start_time": "2021-03-30T14:40:49.276228Z"
    },
    "hideCode": false,
    "hidePrompt": false
   },
   "outputs": [
    {
     "data": {
      "text/plain": [
       "dtype('bool')"
      ]
     },
     "execution_count": 61,
     "metadata": {},
     "output_type": "execute_result"
    }
   ],
   "source": [
    "#type your code here\n",
    "continent_condition = df['Continent']==\"Europe\"\n",
    "type(continent_condition)\n",
    "continent_condition.dtype"
   ]
  },
  {
   "cell_type": "markdown",
   "metadata": {
    "hideCode": false,
    "hidePrompt": false
   },
   "source": [
    "This operation produced a `Series`of `True/False` booleans based on the continent of each record. This result can be used inside the `.loc[]` method to select the relevant data."
   ]
  },
  {
   "cell_type": "code",
   "execution_count": 77,
   "metadata": {
    "ExecuteTime": {
     "end_time": "2021-03-30T14:58:52.476685Z",
     "start_time": "2021-03-30T14:58:52.458528Z"
    },
    "hideCode": false,
    "hidePrompt": false
   },
   "outputs": [
    {
     "data": {
      "text/html": [
       "<div>\n",
       "<style scoped>\n",
       "    .dataframe tbody tr th:only-of-type {\n",
       "        vertical-align: middle;\n",
       "    }\n",
       "\n",
       "    .dataframe tbody tr th {\n",
       "        vertical-align: top;\n",
       "    }\n",
       "\n",
       "    .dataframe thead th {\n",
       "        text-align: right;\n",
       "    }\n",
       "</style>\n",
       "<table border=\"1\" class=\"dataframe\">\n",
       "  <thead>\n",
       "    <tr style=\"text-align: right;\">\n",
       "      <th></th>\n",
       "      <th>Country Name</th>\n",
       "      <th>Country Code</th>\n",
       "      <th>Series Name</th>\n",
       "      <th>Time</th>\n",
       "      <th>value</th>\n",
       "      <th>Continent</th>\n",
       "    </tr>\n",
       "  </thead>\n",
       "  <tbody>\n",
       "    <tr>\n",
       "      <th>2888</th>\n",
       "      <td>United Kingdom</td>\n",
       "      <td>GBR</td>\n",
       "      <td>Access to electricity (% of population)</td>\n",
       "      <td>2000</td>\n",
       "      <td>100.000000</td>\n",
       "      <td>Europe</td>\n",
       "    </tr>\n",
       "    <tr>\n",
       "      <th>2889</th>\n",
       "      <td>United Kingdom</td>\n",
       "      <td>GBR</td>\n",
       "      <td>Access to electricity (% of population)</td>\n",
       "      <td>2001</td>\n",
       "      <td>100.000000</td>\n",
       "      <td>Europe</td>\n",
       "    </tr>\n",
       "    <tr>\n",
       "      <th>2890</th>\n",
       "      <td>United Kingdom</td>\n",
       "      <td>GBR</td>\n",
       "      <td>Access to electricity (% of population)</td>\n",
       "      <td>2002</td>\n",
       "      <td>100.000000</td>\n",
       "      <td>Europe</td>\n",
       "    </tr>\n",
       "    <tr>\n",
       "      <th>2891</th>\n",
       "      <td>United Kingdom</td>\n",
       "      <td>GBR</td>\n",
       "      <td>Access to electricity (% of population)</td>\n",
       "      <td>2003</td>\n",
       "      <td>100.000000</td>\n",
       "      <td>Europe</td>\n",
       "    </tr>\n",
       "    <tr>\n",
       "      <th>2892</th>\n",
       "      <td>United Kingdom</td>\n",
       "      <td>GBR</td>\n",
       "      <td>Access to electricity (% of population)</td>\n",
       "      <td>2004</td>\n",
       "      <td>100.000000</td>\n",
       "      <td>Europe</td>\n",
       "    </tr>\n",
       "    <tr>\n",
       "      <th>...</th>\n",
       "      <td>...</td>\n",
       "      <td>...</td>\n",
       "      <td>...</td>\n",
       "      <td>...</td>\n",
       "      <td>...</td>\n",
       "      <td>...</td>\n",
       "    </tr>\n",
       "    <tr>\n",
       "      <th>59237</th>\n",
       "      <td>Austria</td>\n",
       "      <td>AUT</td>\n",
       "      <td>Tax revenue (% of GDP)</td>\n",
       "      <td>2014</td>\n",
       "      <td>26.417898</td>\n",
       "      <td>Europe</td>\n",
       "    </tr>\n",
       "    <tr>\n",
       "      <th>59238</th>\n",
       "      <td>Austria</td>\n",
       "      <td>AUT</td>\n",
       "      <td>Tax revenue (% of GDP)</td>\n",
       "      <td>2015</td>\n",
       "      <td>26.827003</td>\n",
       "      <td>Europe</td>\n",
       "    </tr>\n",
       "    <tr>\n",
       "      <th>59239</th>\n",
       "      <td>Austria</td>\n",
       "      <td>AUT</td>\n",
       "      <td>Tax revenue (% of GDP)</td>\n",
       "      <td>2016</td>\n",
       "      <td>25.516574</td>\n",
       "      <td>Europe</td>\n",
       "    </tr>\n",
       "    <tr>\n",
       "      <th>59240</th>\n",
       "      <td>Austria</td>\n",
       "      <td>AUT</td>\n",
       "      <td>Tax revenue (% of GDP)</td>\n",
       "      <td>2017</td>\n",
       "      <td>25.380106</td>\n",
       "      <td>Europe</td>\n",
       "    </tr>\n",
       "    <tr>\n",
       "      <th>59241</th>\n",
       "      <td>Austria</td>\n",
       "      <td>AUT</td>\n",
       "      <td>Tax revenue (% of GDP)</td>\n",
       "      <td>2018</td>\n",
       "      <td>NaN</td>\n",
       "      <td>Europe</td>\n",
       "    </tr>\n",
       "  </tbody>\n",
       "</table>\n",
       "<p>37544 rows × 6 columns</p>\n",
       "</div>"
      ],
      "text/plain": [
       "         Country Name Country Code                              Series Name  \\\n",
       "2888   United Kingdom          GBR  Access to electricity (% of population)   \n",
       "2889   United Kingdom          GBR  Access to electricity (% of population)   \n",
       "2890   United Kingdom          GBR  Access to electricity (% of population)   \n",
       "2891   United Kingdom          GBR  Access to electricity (% of population)   \n",
       "2892   United Kingdom          GBR  Access to electricity (% of population)   \n",
       "...               ...          ...                                      ...   \n",
       "59237         Austria          AUT                   Tax revenue (% of GDP)   \n",
       "59238         Austria          AUT                   Tax revenue (% of GDP)   \n",
       "59239         Austria          AUT                   Tax revenue (% of GDP)   \n",
       "59240         Austria          AUT                   Tax revenue (% of GDP)   \n",
       "59241         Austria          AUT                   Tax revenue (% of GDP)   \n",
       "\n",
       "       Time       value Continent  \n",
       "2888   2000  100.000000    Europe  \n",
       "2889   2001  100.000000    Europe  \n",
       "2890   2002  100.000000    Europe  \n",
       "2891   2003  100.000000    Europe  \n",
       "2892   2004  100.000000    Europe  \n",
       "...     ...         ...       ...  \n",
       "59237  2014   26.417898    Europe  \n",
       "59238  2015   26.827003    Europe  \n",
       "59239  2016   25.516574    Europe  \n",
       "59240  2017   25.380106    Europe  \n",
       "59241  2018         NaN    Europe  \n",
       "\n",
       "[37544 rows x 6 columns]"
      ]
     },
     "execution_count": 77,
     "metadata": {},
     "output_type": "execute_result"
    }
   ],
   "source": [
    "#loc works like DataFrame.loc[rows,columns] if columns is not specified outputs all the columns\n",
    "df.loc[continent_condition]"
   ]
  },
  {
   "cell_type": "markdown",
   "metadata": {
    "hideCode": false,
    "hidePrompt": false
   },
   "source": [
    "The resulting `DataFrame` has $\\sim 37 k$ rows. The original had $\\sim 59 k$. Means that around $66\\%$ of the observations has the `Continent` column equal to **`Europe`**.\n",
    "\n",
    "We also wanted to know which ones have an average GDP higher than 1,000,000,000,000. For this purpose, I will present a new method: `Series.mean()`. This method and others that allow us to generate summary statistics will be reviewed further in detail.\n",
    "\n",
    "To implement the second condition we need to:\n",
    "\n",
    "1. extract the `Series` with the values of the Gross Domestic Product (it is called `GDP (constant 2010 US$)`\n",
    "2. compare the `value` in the `Series` with the desired one ($10^{12}$)\n"
   ]
  },
  {
   "cell_type": "code",
   "execution_count": null,
   "metadata": {
    "hideCode": false,
    "hidePrompt": false
   },
   "outputs": [],
   "source": [
    "#type your code here\n",
    "condition2=df['Series Name']=='GDP (constant 2010 US$)'\n",
    "new_series = df.loc[condition2,'value']"
   ]
  },
  {
   "cell_type": "code",
   "execution_count": null,
   "metadata": {
    "hideCode": false,
    "hidePrompt": false
   },
   "outputs": [],
   "source": [
    "#type your code here\n",
    "final_cond2 = new_series>1000000000000\n",
    "final_cond2"
   ]
  },
  {
   "cell_type": "markdown",
   "metadata": {
    "hideCode": false,
    "hidePrompt": false
   },
   "source": [
    "Then we can use the ampersand (`&`) symbol to bring the two questions together."
   ]
  },
  {
   "cell_type": "code",
   "execution_count": 78,
   "metadata": {
    "ExecuteTime": {
     "end_time": "2021-03-30T14:59:54.114037Z",
     "start_time": "2021-03-30T14:59:54.097808Z"
    },
    "hideCode": false,
    "hidePrompt": false
   },
   "outputs": [
    {
     "data": {
      "text/plain": [
       "array(['United Kingdom', 'Spain', 'Italy', 'Germany', 'France',\n",
       "       'European Union'], dtype=object)"
      ]
     },
     "execution_count": 78,
     "metadata": {},
     "output_type": "execute_result"
    }
   ],
   "source": [
    "#type your code here\n",
    "df.loc[(continent_condition)&(final_cond2),'Country Name'].unique()"
   ]
  },
  {
   "cell_type": "markdown",
   "metadata": {
    "hideCode": false,
    "hidePrompt": false
   },
   "source": [
    "Suppose we want to select any observations in which the continent is equal to Europe *or* the GDP is above the threshold mentioned aboved. For this we use the pipe (`|`) symbol."
   ]
  },
  {
   "cell_type": "code",
   "execution_count": 79,
   "metadata": {
    "ExecuteTime": {
     "end_time": "2021-03-30T15:00:18.550884Z",
     "start_time": "2021-03-30T15:00:18.534354Z"
    },
    "hideCode": false,
    "hidePrompt": false
   },
   "outputs": [
    {
     "data": {
      "text/plain": [
       "array(['World', 'United States', 'United Kingdom', 'Turkey', 'Sweden',\n",
       "       'Sub-Saharan Africa', 'Spain', 'South Asia', 'Slovenia',\n",
       "       'Slovak Republic', 'Portugal', 'Poland', 'Norway', 'Netherlands',\n",
       "       'Middle East & North Africa', 'Mexico', 'Luxembourg', 'Lithuania',\n",
       "       'Latvia', 'Latin America & Caribbean', 'Korea, Rep.', 'Japan',\n",
       "       'Italy', 'Ireland', 'Iceland', 'Hungary', 'Greece', 'Germany',\n",
       "       'France', 'Finland', 'European Union', 'Estonia', 'Denmark',\n",
       "       'Czech Republic', 'China', 'Brazil', 'Belgium', 'Austria'],\n",
       "      dtype=object)"
      ]
     },
     "execution_count": 79,
     "metadata": {},
     "output_type": "execute_result"
    }
   ],
   "source": [
    "#type your code here\n",
    "df.loc[(continent_condition)|(final_cond2),'Country Name'].unique()"
   ]
  },
  {
   "cell_type": "markdown",
   "metadata": {
    "hideCode": false,
    "hidePrompt": false
   },
   "source": [
    "<br/>\n",
    "\n",
    "#### 3.3.1 Pandas built-in conditional selectors `.isin([])` and `.isnull()`\n",
    "\n",
    "<br/>\n",
    "\n",
    "Pandas comes with a few built-in conditional selectors. In this section we presented two of them.\n",
    "\n",
    "`.isin([])` helps to select data whose value \"is in\" a **list of values**. For example, we can use it to select observations from the [G7 countries](https://www.investopedia.com/terms/g/g5.asp). \n",
    "\n",
    "Such countries are **United States**, the **United Kingdom**, **Canada**, **Germany**, **Japan**, **Italy**, **France**, and, until recently, Russia. In 2014, Russia was suspended indefinitely from the group after annexing Crimea, an autonomous republic of Ukraine. As a result, the G8 is now often referred to as the **G7**.\n",
    "\n"
   ]
  },
  {
   "cell_type": "code",
   "execution_count": 81,
   "metadata": {
    "ExecuteTime": {
     "end_time": "2021-03-30T15:04:25.030867Z",
     "start_time": "2021-03-30T15:04:25.014608Z"
    },
    "hideCode": false,
    "hidePrompt": false
   },
   "outputs": [
    {
     "data": {
      "text/html": [
       "<div>\n",
       "<style scoped>\n",
       "    .dataframe tbody tr th:only-of-type {\n",
       "        vertical-align: middle;\n",
       "    }\n",
       "\n",
       "    .dataframe tbody tr th {\n",
       "        vertical-align: top;\n",
       "    }\n",
       "\n",
       "    .dataframe thead th {\n",
       "        text-align: right;\n",
       "    }\n",
       "</style>\n",
       "<table border=\"1\" class=\"dataframe\">\n",
       "  <thead>\n",
       "    <tr style=\"text-align: right;\">\n",
       "      <th></th>\n",
       "      <th>Country Name</th>\n",
       "      <th>Country Code</th>\n",
       "      <th>Series Name</th>\n",
       "      <th>Time</th>\n",
       "      <th>value</th>\n",
       "      <th>Continent</th>\n",
       "    </tr>\n",
       "  </thead>\n",
       "  <tbody>\n",
       "    <tr>\n",
       "      <th>1444</th>\n",
       "      <td>United States</td>\n",
       "      <td>USA</td>\n",
       "      <td>Access to electricity (% of population)</td>\n",
       "      <td>2000</td>\n",
       "      <td>100.000000</td>\n",
       "      <td>America</td>\n",
       "    </tr>\n",
       "    <tr>\n",
       "      <th>1445</th>\n",
       "      <td>United States</td>\n",
       "      <td>USA</td>\n",
       "      <td>Access to electricity (% of population)</td>\n",
       "      <td>2001</td>\n",
       "      <td>100.000000</td>\n",
       "      <td>America</td>\n",
       "    </tr>\n",
       "    <tr>\n",
       "      <th>1446</th>\n",
       "      <td>United States</td>\n",
       "      <td>USA</td>\n",
       "      <td>Access to electricity (% of population)</td>\n",
       "      <td>2002</td>\n",
       "      <td>100.000000</td>\n",
       "      <td>America</td>\n",
       "    </tr>\n",
       "    <tr>\n",
       "      <th>1447</th>\n",
       "      <td>United States</td>\n",
       "      <td>USA</td>\n",
       "      <td>Access to electricity (% of population)</td>\n",
       "      <td>2003</td>\n",
       "      <td>100.000000</td>\n",
       "      <td>America</td>\n",
       "    </tr>\n",
       "    <tr>\n",
       "      <th>1448</th>\n",
       "      <td>United States</td>\n",
       "      <td>USA</td>\n",
       "      <td>Access to electricity (% of population)</td>\n",
       "      <td>2004</td>\n",
       "      <td>100.000000</td>\n",
       "      <td>America</td>\n",
       "    </tr>\n",
       "    <tr>\n",
       "      <th>...</th>\n",
       "      <td>...</td>\n",
       "      <td>...</td>\n",
       "      <td>...</td>\n",
       "      <td>...</td>\n",
       "      <td>...</td>\n",
       "      <td>...</td>\n",
       "    </tr>\n",
       "    <tr>\n",
       "      <th>44778</th>\n",
       "      <td>France</td>\n",
       "      <td>FRA</td>\n",
       "      <td>Tax revenue (% of GDP)</td>\n",
       "      <td>2014</td>\n",
       "      <td>23.317898</td>\n",
       "      <td>Europe</td>\n",
       "    </tr>\n",
       "    <tr>\n",
       "      <th>44779</th>\n",
       "      <td>France</td>\n",
       "      <td>FRA</td>\n",
       "      <td>Tax revenue (% of GDP)</td>\n",
       "      <td>2015</td>\n",
       "      <td>23.360468</td>\n",
       "      <td>Europe</td>\n",
       "    </tr>\n",
       "    <tr>\n",
       "      <th>44780</th>\n",
       "      <td>France</td>\n",
       "      <td>FRA</td>\n",
       "      <td>Tax revenue (% of GDP)</td>\n",
       "      <td>2016</td>\n",
       "      <td>23.262741</td>\n",
       "      <td>Europe</td>\n",
       "    </tr>\n",
       "    <tr>\n",
       "      <th>44781</th>\n",
       "      <td>France</td>\n",
       "      <td>FRA</td>\n",
       "      <td>Tax revenue (% of GDP)</td>\n",
       "      <td>2017</td>\n",
       "      <td>23.840983</td>\n",
       "      <td>Europe</td>\n",
       "    </tr>\n",
       "    <tr>\n",
       "      <th>44782</th>\n",
       "      <td>France</td>\n",
       "      <td>FRA</td>\n",
       "      <td>Tax revenue (% of GDP)</td>\n",
       "      <td>2018</td>\n",
       "      <td>NaN</td>\n",
       "      <td>Europe</td>\n",
       "    </tr>\n",
       "  </tbody>\n",
       "</table>\n",
       "<p>8664 rows × 6 columns</p>\n",
       "</div>"
      ],
      "text/plain": [
       "        Country Name Country Code                              Series Name  \\\n",
       "1444   United States          USA  Access to electricity (% of population)   \n",
       "1445   United States          USA  Access to electricity (% of population)   \n",
       "1446   United States          USA  Access to electricity (% of population)   \n",
       "1447   United States          USA  Access to electricity (% of population)   \n",
       "1448   United States          USA  Access to electricity (% of population)   \n",
       "...              ...          ...                                      ...   \n",
       "44778         France          FRA                   Tax revenue (% of GDP)   \n",
       "44779         France          FRA                   Tax revenue (% of GDP)   \n",
       "44780         France          FRA                   Tax revenue (% of GDP)   \n",
       "44781         France          FRA                   Tax revenue (% of GDP)   \n",
       "44782         France          FRA                   Tax revenue (% of GDP)   \n",
       "\n",
       "       Time       value Continent  \n",
       "1444   2000  100.000000   America  \n",
       "1445   2001  100.000000   America  \n",
       "1446   2002  100.000000   America  \n",
       "1447   2003  100.000000   America  \n",
       "1448   2004  100.000000   America  \n",
       "...     ...         ...       ...  \n",
       "44778  2014   23.317898    Europe  \n",
       "44779  2015   23.360468    Europe  \n",
       "44780  2016   23.262741    Europe  \n",
       "44781  2017   23.840983    Europe  \n",
       "44782  2018         NaN    Europe  \n",
       "\n",
       "[8664 rows x 6 columns]"
      ]
     },
     "execution_count": 81,
     "metadata": {},
     "output_type": "execute_result"
    }
   ],
   "source": [
    "#type your code here\n",
    "df.loc[df['Country Name'].isin(['United States','United Kingdom','Canada','Germany','Japan','Italy','France'])]"
   ]
  },
  {
   "cell_type": "markdown",
   "metadata": {
    "hideCode": false,
    "hidePrompt": false
   },
   "source": [
    "`.isnull()` (and its counterpart `.notnull()`) let you highlight values which are (or are not) empty (`NaN`). \n",
    "\n",
    "For example, lets filter out all rows that contain missing values for `Series Name`. Here is how we do it by using this operator."
   ]
  },
  {
   "cell_type": "code",
   "execution_count": 83,
   "metadata": {
    "ExecuteTime": {
     "end_time": "2021-03-30T15:08:16.437447Z",
     "start_time": "2021-03-30T15:08:16.426359Z"
    }
   },
   "outputs": [
    {
     "data": {
      "text/html": [
       "<div>\n",
       "<style scoped>\n",
       "    .dataframe tbody tr th:only-of-type {\n",
       "        vertical-align: middle;\n",
       "    }\n",
       "\n",
       "    .dataframe tbody tr th {\n",
       "        vertical-align: top;\n",
       "    }\n",
       "\n",
       "    .dataframe thead th {\n",
       "        text-align: right;\n",
       "    }\n",
       "</style>\n",
       "<table border=\"1\" class=\"dataframe\">\n",
       "  <thead>\n",
       "    <tr style=\"text-align: right;\">\n",
       "      <th></th>\n",
       "      <th>Country Name</th>\n",
       "      <th>Country Code</th>\n",
       "      <th>Series Name</th>\n",
       "      <th>Time</th>\n",
       "      <th>value</th>\n",
       "      <th>Continent</th>\n",
       "    </tr>\n",
       "  </thead>\n",
       "  <tbody>\n",
       "    <tr>\n",
       "      <th>59294</th>\n",
       "      <td>NaN</td>\n",
       "      <td>NaN</td>\n",
       "      <td>NaN</td>\n",
       "      <td>2017</td>\n",
       "      <td>NaN</td>\n",
       "      <td>NaN</td>\n",
       "    </tr>\n",
       "    <tr>\n",
       "      <th>59295</th>\n",
       "      <td>NaN</td>\n",
       "      <td>NaN</td>\n",
       "      <td>NaN</td>\n",
       "      <td>2017</td>\n",
       "      <td>NaN</td>\n",
       "      <td>NaN</td>\n",
       "    </tr>\n",
       "    <tr>\n",
       "      <th>59296</th>\n",
       "      <td>NaN</td>\n",
       "      <td>NaN</td>\n",
       "      <td>NaN</td>\n",
       "      <td>2018</td>\n",
       "      <td>NaN</td>\n",
       "      <td>NaN</td>\n",
       "    </tr>\n",
       "    <tr>\n",
       "      <th>59297</th>\n",
       "      <td>NaN</td>\n",
       "      <td>NaN</td>\n",
       "      <td>NaN</td>\n",
       "      <td>2018</td>\n",
       "      <td>NaN</td>\n",
       "      <td>NaN</td>\n",
       "    </tr>\n",
       "    <tr>\n",
       "      <th>59298</th>\n",
       "      <td>NaN</td>\n",
       "      <td>NaN</td>\n",
       "      <td>NaN</td>\n",
       "      <td>2018</td>\n",
       "      <td>NaN</td>\n",
       "      <td>NaN</td>\n",
       "    </tr>\n",
       "  </tbody>\n",
       "</table>\n",
       "</div>"
      ],
      "text/plain": [
       "      Country Name Country Code Series Name  Time  value Continent\n",
       "59294          NaN          NaN         NaN  2017    NaN       NaN\n",
       "59295          NaN          NaN         NaN  2017    NaN       NaN\n",
       "59296          NaN          NaN         NaN  2018    NaN       NaN\n",
       "59297          NaN          NaN         NaN  2018    NaN       NaN\n",
       "59298          NaN          NaN         NaN  2018    NaN       NaN"
      ]
     },
     "execution_count": 83,
     "metadata": {},
     "output_type": "execute_result"
    }
   ],
   "source": [
    "df.tail()"
   ]
  },
  {
   "cell_type": "code",
   "execution_count": 90,
   "metadata": {
    "ExecuteTime": {
     "end_time": "2021-03-30T15:12:35.927523Z",
     "start_time": "2021-03-30T15:12:35.905323Z"
    },
    "hideCode": false,
    "hidePrompt": false
   },
   "outputs": [
    {
     "data": {
      "text/html": [
       "<div>\n",
       "<style scoped>\n",
       "    .dataframe tbody tr th:only-of-type {\n",
       "        vertical-align: middle;\n",
       "    }\n",
       "\n",
       "    .dataframe tbody tr th {\n",
       "        vertical-align: top;\n",
       "    }\n",
       "\n",
       "    .dataframe thead th {\n",
       "        text-align: right;\n",
       "    }\n",
       "</style>\n",
       "<table border=\"1\" class=\"dataframe\">\n",
       "  <thead>\n",
       "    <tr style=\"text-align: right;\">\n",
       "      <th></th>\n",
       "      <th>Country Code</th>\n",
       "      <th>Continent</th>\n",
       "    </tr>\n",
       "  </thead>\n",
       "  <tbody>\n",
       "    <tr>\n",
       "      <th>0</th>\n",
       "      <td>WLD</td>\n",
       "      <td>World</td>\n",
       "    </tr>\n",
       "    <tr>\n",
       "      <th>1</th>\n",
       "      <td>WLD</td>\n",
       "      <td>World</td>\n",
       "    </tr>\n",
       "    <tr>\n",
       "      <th>2</th>\n",
       "      <td>WLD</td>\n",
       "      <td>World</td>\n",
       "    </tr>\n",
       "    <tr>\n",
       "      <th>3</th>\n",
       "      <td>WLD</td>\n",
       "      <td>World</td>\n",
       "    </tr>\n",
       "    <tr>\n",
       "      <th>4</th>\n",
       "      <td>WLD</td>\n",
       "      <td>World</td>\n",
       "    </tr>\n",
       "    <tr>\n",
       "      <th>...</th>\n",
       "      <td>...</td>\n",
       "      <td>...</td>\n",
       "    </tr>\n",
       "    <tr>\n",
       "      <th>59236</th>\n",
       "      <td>AUT</td>\n",
       "      <td>Europe</td>\n",
       "    </tr>\n",
       "    <tr>\n",
       "      <th>59237</th>\n",
       "      <td>AUT</td>\n",
       "      <td>Europe</td>\n",
       "    </tr>\n",
       "    <tr>\n",
       "      <th>59238</th>\n",
       "      <td>AUT</td>\n",
       "      <td>Europe</td>\n",
       "    </tr>\n",
       "    <tr>\n",
       "      <th>59239</th>\n",
       "      <td>AUT</td>\n",
       "      <td>Europe</td>\n",
       "    </tr>\n",
       "    <tr>\n",
       "      <th>59240</th>\n",
       "      <td>AUT</td>\n",
       "      <td>Europe</td>\n",
       "    </tr>\n",
       "  </tbody>\n",
       "</table>\n",
       "<p>42408 rows × 2 columns</p>\n",
       "</div>"
      ],
      "text/plain": [
       "      Country Code Continent\n",
       "0              WLD     World\n",
       "1              WLD     World\n",
       "2              WLD     World\n",
       "3              WLD     World\n",
       "4              WLD     World\n",
       "...            ...       ...\n",
       "59236          AUT    Europe\n",
       "59237          AUT    Europe\n",
       "59238          AUT    Europe\n",
       "59239          AUT    Europe\n",
       "59240          AUT    Europe\n",
       "\n",
       "[42408 rows x 2 columns]"
      ]
     },
     "execution_count": 90,
     "metadata": {},
     "output_type": "execute_result"
    }
   ],
   "source": [
    "#type your code here\n",
    "df.loc[df.value.notnull(),['Country Code','Continent']]\n",
    "df[df.value.notnull()][['Country Code','Continent']]"
   ]
  },
  {
   "cell_type": "markdown",
   "metadata": {
    "hideCode": false,
    "hidePrompt": false
   },
   "source": [
    "The original dataset contains $\\sim 59k$ entries. When filtered out all missing values we stay with $\\sim 42k$ registers.\n",
    "\n",
    "For concluding this section, let me stress out that I used operator `.loc[:,'Series Name']` that returns exactly the same `Series` that the one you can get by using the native Python operator `data['Series Name']`. \n",
    "\n",
    "In the following lines of code I will be changing indistinctly between those two ways of selection. Just to emphasize that they produce exactly the same output (when outputing a `Series`). Note that `.loc[]` additionally let us to perform the type of **conditional selection** that we reviewed during this section.\n",
    "\n",
    "<br/>\n",
    "\n"
   ]
  },
  {
   "cell_type": "markdown",
   "metadata": {
    "hideCode": false,
    "hidePrompt": false
   },
   "source": [
    "### 4.5 [Assigning data](#III.V)\n",
    "<a id=\"III.V\"></a>\n",
    "\n",
    "<br/>\n",
    "\n",
    "Assigning data to a `Series` of column of a `DataFrame` is easy. It is possible to assign either a constant value:"
   ]
  },
  {
   "cell_type": "code",
   "execution_count": 94,
   "metadata": {
    "ExecuteTime": {
     "end_time": "2021-03-30T15:16:24.399237Z",
     "start_time": "2021-03-30T15:16:24.396487Z"
    },
    "hideCode": false,
    "hidePrompt": false
   },
   "outputs": [],
   "source": [
    "#type your code here\n",
    "diccionario['Key 3'] =[\"Hello\",\"World\"]"
   ]
  },
  {
   "cell_type": "code",
   "execution_count": 97,
   "metadata": {
    "ExecuteTime": {
     "end_time": "2021-03-30T15:16:48.659678Z",
     "start_time": "2021-03-30T15:16:48.655672Z"
    }
   },
   "outputs": [
    {
     "data": {
      "text/plain": [
       "['Hello', 'World']"
      ]
     },
     "execution_count": 97,
     "metadata": {},
     "output_type": "execute_result"
    }
   ],
   "source": [
    "diccionario['Key 3']"
   ]
  },
  {
   "cell_type": "code",
   "execution_count": 100,
   "metadata": {
    "ExecuteTime": {
     "end_time": "2021-03-30T15:17:35.015178Z",
     "start_time": "2021-03-30T15:17:35.011333Z"
    }
   },
   "outputs": [],
   "source": [
    "df['Data Source']=\"World Bank\""
   ]
  },
  {
   "cell_type": "code",
   "execution_count": 101,
   "metadata": {
    "ExecuteTime": {
     "end_time": "2021-03-30T15:17:43.317759Z",
     "start_time": "2021-03-30T15:17:43.305972Z"
    }
   },
   "outputs": [
    {
     "data": {
      "text/html": [
       "<div>\n",
       "<style scoped>\n",
       "    .dataframe tbody tr th:only-of-type {\n",
       "        vertical-align: middle;\n",
       "    }\n",
       "\n",
       "    .dataframe tbody tr th {\n",
       "        vertical-align: top;\n",
       "    }\n",
       "\n",
       "    .dataframe thead th {\n",
       "        text-align: right;\n",
       "    }\n",
       "</style>\n",
       "<table border=\"1\" class=\"dataframe\">\n",
       "  <thead>\n",
       "    <tr style=\"text-align: right;\">\n",
       "      <th></th>\n",
       "      <th>Country Name</th>\n",
       "      <th>Country Code</th>\n",
       "      <th>Series Name</th>\n",
       "      <th>Time</th>\n",
       "      <th>value</th>\n",
       "      <th>Continent</th>\n",
       "      <th>Data Source</th>\n",
       "    </tr>\n",
       "  </thead>\n",
       "  <tbody>\n",
       "    <tr>\n",
       "      <th>0</th>\n",
       "      <td>World</td>\n",
       "      <td>WLD</td>\n",
       "      <td>Access to electricity (% of population)</td>\n",
       "      <td>2000</td>\n",
       "      <td>77.723095</td>\n",
       "      <td>World</td>\n",
       "      <td>World Bank</td>\n",
       "    </tr>\n",
       "    <tr>\n",
       "      <th>1</th>\n",
       "      <td>World</td>\n",
       "      <td>WLD</td>\n",
       "      <td>Access to electricity (% of population)</td>\n",
       "      <td>2001</td>\n",
       "      <td>77.287755</td>\n",
       "      <td>World</td>\n",
       "      <td>World Bank</td>\n",
       "    </tr>\n",
       "    <tr>\n",
       "      <th>2</th>\n",
       "      <td>World</td>\n",
       "      <td>WLD</td>\n",
       "      <td>Access to electricity (% of population)</td>\n",
       "      <td>2002</td>\n",
       "      <td>78.819271</td>\n",
       "      <td>World</td>\n",
       "      <td>World Bank</td>\n",
       "    </tr>\n",
       "    <tr>\n",
       "      <th>3</th>\n",
       "      <td>World</td>\n",
       "      <td>WLD</td>\n",
       "      <td>Access to electricity (% of population)</td>\n",
       "      <td>2003</td>\n",
       "      <td>79.454090</td>\n",
       "      <td>World</td>\n",
       "      <td>World Bank</td>\n",
       "    </tr>\n",
       "    <tr>\n",
       "      <th>4</th>\n",
       "      <td>World</td>\n",
       "      <td>WLD</td>\n",
       "      <td>Access to electricity (% of population)</td>\n",
       "      <td>2004</td>\n",
       "      <td>79.682255</td>\n",
       "      <td>World</td>\n",
       "      <td>World Bank</td>\n",
       "    </tr>\n",
       "  </tbody>\n",
       "</table>\n",
       "</div>"
      ],
      "text/plain": [
       "  Country Name Country Code                              Series Name  Time  \\\n",
       "0        World          WLD  Access to electricity (% of population)  2000   \n",
       "1        World          WLD  Access to electricity (% of population)  2001   \n",
       "2        World          WLD  Access to electricity (% of population)  2002   \n",
       "3        World          WLD  Access to electricity (% of population)  2003   \n",
       "4        World          WLD  Access to electricity (% of population)  2004   \n",
       "\n",
       "       value Continent Data Source  \n",
       "0  77.723095     World  World Bank  \n",
       "1  77.287755     World  World Bank  \n",
       "2  78.819271     World  World Bank  \n",
       "3  79.454090     World  World Bank  \n",
       "4  79.682255     World  World Bank  "
      ]
     },
     "execution_count": 101,
     "metadata": {},
     "output_type": "execute_result"
    }
   ],
   "source": [
    "df.head()"
   ]
  },
  {
   "cell_type": "markdown",
   "metadata": {
    "hideCode": false,
    "hidePrompt": false
   },
   "source": [
    "Or iterable values, such as:"
   ]
  },
  {
   "cell_type": "code",
   "execution_count": 102,
   "metadata": {
    "ExecuteTime": {
     "end_time": "2021-03-30T15:19:45.197786Z",
     "start_time": "2021-03-30T15:19:45.194027Z"
    }
   },
   "outputs": [
    {
     "data": {
      "text/plain": [
       "RangeIndex(start=0, stop=59299, step=1)"
      ]
     },
     "execution_count": 102,
     "metadata": {},
     "output_type": "execute_result"
    }
   ],
   "source": [
    "df.index"
   ]
  },
  {
   "cell_type": "code",
   "execution_count": 106,
   "metadata": {
    "ExecuteTime": {
     "end_time": "2021-03-30T15:22:02.385439Z",
     "start_time": "2021-03-30T15:22:02.380876Z"
    }
   },
   "outputs": [
    {
     "name": "stdout",
     "output_type": "stream",
     "text": [
      "0\n",
      "1\n",
      "2\n",
      "3\n",
      "4\n",
      "5\n",
      "6\n",
      "7\n",
      "8\n",
      "9\n"
     ]
    }
   ],
   "source": [
    "for i in range(0,10,1):\n",
    "    print(i)"
   ]
  },
  {
   "cell_type": "code",
   "execution_count": 108,
   "metadata": {
    "ExecuteTime": {
     "end_time": "2021-03-30T15:23:49.771916Z",
     "start_time": "2021-03-30T15:23:49.751714Z"
    },
    "hideCode": false,
    "hidePrompt": false
   },
   "outputs": [
    {
     "data": {
      "text/html": [
       "<div>\n",
       "<style scoped>\n",
       "    .dataframe tbody tr th:only-of-type {\n",
       "        vertical-align: middle;\n",
       "    }\n",
       "\n",
       "    .dataframe tbody tr th {\n",
       "        vertical-align: top;\n",
       "    }\n",
       "\n",
       "    .dataframe thead th {\n",
       "        text-align: right;\n",
       "    }\n",
       "</style>\n",
       "<table border=\"1\" class=\"dataframe\">\n",
       "  <thead>\n",
       "    <tr style=\"text-align: right;\">\n",
       "      <th></th>\n",
       "      <th>Country Name</th>\n",
       "      <th>Country Code</th>\n",
       "      <th>Series Name</th>\n",
       "      <th>Time</th>\n",
       "      <th>value</th>\n",
       "      <th>Continent</th>\n",
       "      <th>Data Source</th>\n",
       "      <th>reverse_index</th>\n",
       "    </tr>\n",
       "  </thead>\n",
       "  <tbody>\n",
       "    <tr>\n",
       "      <th>0</th>\n",
       "      <td>World</td>\n",
       "      <td>WLD</td>\n",
       "      <td>Access to electricity (% of population)</td>\n",
       "      <td>2000</td>\n",
       "      <td>77.723095</td>\n",
       "      <td>World</td>\n",
       "      <td>World Bank</td>\n",
       "      <td>59299</td>\n",
       "    </tr>\n",
       "    <tr>\n",
       "      <th>1</th>\n",
       "      <td>World</td>\n",
       "      <td>WLD</td>\n",
       "      <td>Access to electricity (% of population)</td>\n",
       "      <td>2001</td>\n",
       "      <td>77.287755</td>\n",
       "      <td>World</td>\n",
       "      <td>World Bank</td>\n",
       "      <td>59298</td>\n",
       "    </tr>\n",
       "    <tr>\n",
       "      <th>2</th>\n",
       "      <td>World</td>\n",
       "      <td>WLD</td>\n",
       "      <td>Access to electricity (% of population)</td>\n",
       "      <td>2002</td>\n",
       "      <td>78.819271</td>\n",
       "      <td>World</td>\n",
       "      <td>World Bank</td>\n",
       "      <td>59297</td>\n",
       "    </tr>\n",
       "    <tr>\n",
       "      <th>3</th>\n",
       "      <td>World</td>\n",
       "      <td>WLD</td>\n",
       "      <td>Access to electricity (% of population)</td>\n",
       "      <td>2003</td>\n",
       "      <td>79.454090</td>\n",
       "      <td>World</td>\n",
       "      <td>World Bank</td>\n",
       "      <td>59296</td>\n",
       "    </tr>\n",
       "    <tr>\n",
       "      <th>4</th>\n",
       "      <td>World</td>\n",
       "      <td>WLD</td>\n",
       "      <td>Access to electricity (% of population)</td>\n",
       "      <td>2004</td>\n",
       "      <td>79.682255</td>\n",
       "      <td>World</td>\n",
       "      <td>World Bank</td>\n",
       "      <td>59295</td>\n",
       "    </tr>\n",
       "  </tbody>\n",
       "</table>\n",
       "</div>"
      ],
      "text/plain": [
       "  Country Name Country Code                              Series Name  Time  \\\n",
       "0        World          WLD  Access to electricity (% of population)  2000   \n",
       "1        World          WLD  Access to electricity (% of population)  2001   \n",
       "2        World          WLD  Access to electricity (% of population)  2002   \n",
       "3        World          WLD  Access to electricity (% of population)  2003   \n",
       "4        World          WLD  Access to electricity (% of population)  2004   \n",
       "\n",
       "       value Continent Data Source  reverse_index  \n",
       "0  77.723095     World  World Bank          59299  \n",
       "1  77.287755     World  World Bank          59298  \n",
       "2  78.819271     World  World Bank          59297  \n",
       "3  79.454090     World  World Bank          59296  \n",
       "4  79.682255     World  World Bank          59295  "
      ]
     },
     "execution_count": 108,
     "metadata": {},
     "output_type": "execute_result"
    }
   ],
   "source": [
    "#type your code here\n",
    "df['reverse_index'] = range(df.shape[0],0,-1)\n",
    "df.head()"
   ]
  },
  {
   "cell_type": "markdown",
   "metadata": {
    "hideCode": false,
    "hidePrompt": false
   },
   "source": [
    "For concluding this section, please note that the code above is using two native Python function `range()` and `len()`. The first one outputs an object that produces a sequence of integers from start (inclusive)\n",
    "to stop (exclusive) by step. The second one simply returns the number of items in the object (recall that `DataFrame` is always rows first columns second). Lastly, you can always review what a Python method does by asking after its name."
   ]
  },
  {
   "cell_type": "code",
   "execution_count": null,
   "metadata": {
    "hideCode": false,
    "hidePrompt": false
   },
   "outputs": [],
   "source": [
    "#range?\n",
    "#len?"
   ]
  },
  {
   "cell_type": "markdown",
   "metadata": {
    "hideCode": false,
    "hidePrompt": false
   },
   "source": [
    "## 5. [Summary Functions and Maps](#VI)\n",
    "<a id=\"VI\"></a>\n",
    "<br/>\n",
    "\n",
    "As data does not always come out of memory in the format we want it. Sometimes we need to do some more work ourselves to reformat it for the task at hand. In this section, we will be covering different opeartions that we can apply to our data to get the input \"just right\" for our models, presentations and so on. First lets see a group of functions that are usually and informally called *summary functions*.\n",
    "\n",
    "<br/>\n",
    "\n",
    "\n"
   ]
  },
  {
   "cell_type": "markdown",
   "metadata": {
    "hideCode": false,
    "hidePrompt": false
   },
   "source": [
    "### 5.1 [Summary functions](#VI.I)\n",
    "<a id=\"VI.I\"></a>\n",
    "<br/>\n",
    "\n",
    "Pandas provides many simple *summary functions* which helps when you need to restructure your data in some useful way. For example, consider the `.describe()` method."
   ]
  },
  {
   "cell_type": "code",
   "execution_count": 111,
   "metadata": {
    "ExecuteTime": {
     "end_time": "2021-03-30T15:26:32.928761Z",
     "start_time": "2021-03-30T15:26:32.903922Z"
    },
    "hideCode": false,
    "hidePrompt": false
   },
   "outputs": [
    {
     "data": {
      "text/html": [
       "<div>\n",
       "<style scoped>\n",
       "    .dataframe tbody tr th:only-of-type {\n",
       "        vertical-align: middle;\n",
       "    }\n",
       "\n",
       "    .dataframe tbody tr th {\n",
       "        vertical-align: top;\n",
       "    }\n",
       "\n",
       "    .dataframe thead th {\n",
       "        text-align: right;\n",
       "    }\n",
       "</style>\n",
       "<table border=\"1\" class=\"dataframe\">\n",
       "  <thead>\n",
       "    <tr style=\"text-align: right;\">\n",
       "      <th></th>\n",
       "      <th>Time</th>\n",
       "      <th>value</th>\n",
       "      <th>reverse_index</th>\n",
       "    </tr>\n",
       "  </thead>\n",
       "  <tbody>\n",
       "    <tr>\n",
       "      <th>count</th>\n",
       "      <td>59299.000000</td>\n",
       "      <td>4.240800e+04</td>\n",
       "      <td>59299.000000</td>\n",
       "    </tr>\n",
       "    <tr>\n",
       "      <th>mean</th>\n",
       "      <td>2009.000000</td>\n",
       "      <td>1.191183e+11</td>\n",
       "      <td>29650.000000</td>\n",
       "    </tr>\n",
       "    <tr>\n",
       "      <th>std</th>\n",
       "      <td>5.477272</td>\n",
       "      <td>2.029393e+12</td>\n",
       "      <td>17118.291143</td>\n",
       "    </tr>\n",
       "    <tr>\n",
       "      <th>min</th>\n",
       "      <td>2000.000000</td>\n",
       "      <td>-5.832288e+01</td>\n",
       "      <td>1.000000</td>\n",
       "    </tr>\n",
       "    <tr>\n",
       "      <th>25%</th>\n",
       "      <td>2004.000000</td>\n",
       "      <td>3.438833e+00</td>\n",
       "      <td>14825.500000</td>\n",
       "    </tr>\n",
       "    <tr>\n",
       "      <th>50%</th>\n",
       "      <td>2009.000000</td>\n",
       "      <td>1.270000e+01</td>\n",
       "      <td>29650.000000</td>\n",
       "    </tr>\n",
       "    <tr>\n",
       "      <th>75%</th>\n",
       "      <td>2014.000000</td>\n",
       "      <td>4.247420e+01</td>\n",
       "      <td>44474.500000</td>\n",
       "    </tr>\n",
       "    <tr>\n",
       "      <th>max</th>\n",
       "      <td>2018.000000</td>\n",
       "      <td>8.025464e+13</td>\n",
       "      <td>59299.000000</td>\n",
       "    </tr>\n",
       "  </tbody>\n",
       "</table>\n",
       "</div>"
      ],
      "text/plain": [
       "               Time         value  reverse_index\n",
       "count  59299.000000  4.240800e+04   59299.000000\n",
       "mean    2009.000000  1.191183e+11   29650.000000\n",
       "std        5.477272  2.029393e+12   17118.291143\n",
       "min     2000.000000 -5.832288e+01       1.000000\n",
       "25%     2004.000000  3.438833e+00   14825.500000\n",
       "50%     2009.000000  1.270000e+01   29650.000000\n",
       "75%     2014.000000  4.247420e+01   44474.500000\n",
       "max     2018.000000  8.025464e+13   59299.000000"
      ]
     },
     "execution_count": 111,
     "metadata": {},
     "output_type": "execute_result"
    }
   ],
   "source": [
    "#type your code here\n",
    "df.describe()"
   ]
  },
  {
   "cell_type": "markdown",
   "metadata": {
    "hideCode": false,
    "hidePrompt": false
   },
   "source": [
    "This method generates a high-level summary of the attributes of the given column. It is **type-aware**, meaning that its output varies based on the data type of the column. The output above only makes sense for numerical data. In the case of string we get:"
   ]
  },
  {
   "cell_type": "code",
   "execution_count": 112,
   "metadata": {
    "ExecuteTime": {
     "end_time": "2021-03-30T15:27:50.939592Z",
     "start_time": "2021-03-30T15:27:50.924007Z"
    },
    "hideCode": false,
    "hidePrompt": false
   },
   "outputs": [
    {
     "data": {
      "text/plain": [
       "count       59242\n",
       "unique         43\n",
       "top       Estonia\n",
       "freq         1444\n",
       "Name: Country Name, dtype: object"
      ]
     },
     "execution_count": 112,
     "metadata": {},
     "output_type": "execute_result"
    }
   ],
   "source": [
    "#type your code here\n",
    "df['Country Name'].describe()"
   ]
  },
  {
   "cell_type": "markdown",
   "metadata": {
    "hideCode": false,
    "hidePrompt": false
   },
   "source": [
    "It is possible to get a particular simple summary about a column in a `DataFrame` or a `Series`, most of the time there is a helpful pandas function that can make it happen.\n",
    "\n",
    "For example, to see the mean of the Portuguese *population*in the available period, we can use the method `.mean()`.\n",
    "\n",
    "To do so, we need to:\n",
    "\n",
    "1. select the rows where the `Series Name` is equal to `Population, total`\n",
    "2. select the rows where the `Country Name` is equal to `Portugal`\n",
    "3. extract `value` series\n",
    "4. apply the method mentioned before"
   ]
  },
  {
   "cell_type": "code",
   "execution_count": 118,
   "metadata": {
    "ExecuteTime": {
     "end_time": "2021-03-30T15:33:00.108235Z",
     "start_time": "2021-03-30T15:33:00.095079Z"
    },
    "hideCode": false,
    "hidePrompt": false
   },
   "outputs": [
    {
     "data": {
      "text/plain": [
       "10455423.777777778"
      ]
     },
     "execution_count": 118,
     "metadata": {},
     "output_type": "execute_result"
    }
   ],
   "source": [
    "#type your code here\n",
    "df.loc[(df['Series Name']=='Population, total')& (df['Country Name']=='Portugal'),'value'].mean()"
   ]
  },
  {
   "cell_type": "markdown",
   "metadata": {
    "hideCode": false,
    "hidePrompt": false
   },
   "source": [
    "Other interesanting **method** of pandas `DataFrames` is `info()`. `info()` constructs a table that allow us to get the following information about the columns:\n",
    "+ name\n",
    "+ how many rows are non-null\n",
    "+ type"
   ]
  },
  {
   "cell_type": "code",
   "execution_count": 119,
   "metadata": {
    "ExecuteTime": {
     "end_time": "2021-03-30T15:34:29.356265Z",
     "start_time": "2021-03-30T15:34:29.333126Z"
    },
    "hideCode": false,
    "hidePrompt": false
   },
   "outputs": [
    {
     "name": "stdout",
     "output_type": "stream",
     "text": [
      "<class 'pandas.core.frame.DataFrame'>\n",
      "RangeIndex: 59299 entries, 0 to 59298\n",
      "Data columns (total 8 columns):\n",
      " #   Column         Non-Null Count  Dtype  \n",
      "---  ------         --------------  -----  \n",
      " 0   Country Name   59242 non-null  object \n",
      " 1   Country Code   59204 non-null  object \n",
      " 2   Series Name    59204 non-null  object \n",
      " 3   Time           59299 non-null  int64  \n",
      " 4   value          42408 non-null  float64\n",
      " 5   Continent      59204 non-null  object \n",
      " 6   Data Source    59299 non-null  object \n",
      " 7   reverse_index  59299 non-null  int64  \n",
      "dtypes: float64(1), int64(2), object(5)\n",
      "memory usage: 3.6+ MB\n"
     ]
    }
   ],
   "source": [
    "#type your code here\n",
    "df.info()"
   ]
  },
  {
   "cell_type": "markdown",
   "metadata": {
    "hideCode": false,
    "hidePrompt": false
   },
   "source": [
    "We will return on talking about null values and columns types in a while.\n",
    "\n",
    "<br/>\n",
    "\n",
    "#### 5.1.1 Finding unique values\n",
    "\n",
    "<br/>\n",
    "\n",
    "To see a list of unique values we can use the `.unique()` function.\n",
    "\n",
    "For example let's see the list of countries that this extraction has."
   ]
  },
  {
   "cell_type": "code",
   "execution_count": 120,
   "metadata": {
    "ExecuteTime": {
     "end_time": "2021-03-30T15:37:29.031697Z",
     "start_time": "2021-03-30T15:37:29.023454Z"
    },
    "hideCode": false,
    "hidePrompt": false
   },
   "outputs": [
    {
     "data": {
      "text/plain": [
       "array(['World', 'United States', 'United Kingdom', 'Turkey', 'Sweden',\n",
       "       'Sub-Saharan Africa', 'Spain', 'South Asia', 'Slovenia',\n",
       "       'Slovak Republic', 'Portugal', 'Poland', 'Norway', 'New Zealand',\n",
       "       'Netherlands', 'Middle East & North Africa', 'Mexico',\n",
       "       'Luxembourg', 'Lithuania', 'Latvia', 'Latin America & Caribbean',\n",
       "       'Last Updated: 04/24/2019', 'Korea, Rep.', 'Japan', 'Italy',\n",
       "       'Israel', 'Ireland', 'Iceland', 'Hungary', 'Greece', 'Germany',\n",
       "       'France', 'Finland', 'European Union', 'Estonia', 'Denmark',\n",
       "       'Data from database: World Development Indicators',\n",
       "       'Czech Republic', 'China', 'Chile', 'Brazil', 'Belgium', 'Austria',\n",
       "       nan], dtype=object)"
      ]
     },
     "execution_count": 120,
     "metadata": {},
     "output_type": "execute_result"
    }
   ],
   "source": [
    "#type your code here\n",
    "df['Country Name'].unique()"
   ]
  },
  {
   "cell_type": "markdown",
   "metadata": {
    "hideCode": false,
    "hidePrompt": false
   },
   "source": [
    "<br/>\n",
    "\n",
    "#### 5.1.2 Counting unique values\n",
    "\n",
    "<br/>\n",
    "\n",
    "To see a list of values and how often they occur in a data set we can use `value_counts()` method. For example, let's see how many observations per year we have."
   ]
  },
  {
   "cell_type": "code",
   "execution_count": 122,
   "metadata": {
    "ExecuteTime": {
     "end_time": "2021-03-30T15:37:58.379757Z",
     "start_time": "2021-03-30T15:37:58.376024Z"
    }
   },
   "outputs": [
    {
     "name": "stdout",
     "output_type": "stream",
     "text": [
      "Help on function value_counts in module pandas.core.algorithms:\n",
      "\n",
      "value_counts(values, sort:bool=True, ascending:bool=False, normalize:bool=False, bins=None, dropna:bool=True) -> 'Series'\n",
      "    Compute a histogram of the counts of non-null values.\n",
      "    \n",
      "    Parameters\n",
      "    ----------\n",
      "    values : ndarray (1-d)\n",
      "    sort : bool, default True\n",
      "        Sort by values\n",
      "    ascending : bool, default False\n",
      "        Sort in ascending order\n",
      "    normalize: bool, default False\n",
      "        If True then compute a relative histogram\n",
      "    bins : integer, optional\n",
      "        Rather than count values, group them into half-open bins,\n",
      "        convenience for pd.cut, only works with numeric data\n",
      "    dropna : bool, default True\n",
      "        Don't include counts of NaN\n",
      "    \n",
      "    Returns\n",
      "    -------\n",
      "    Series\n",
      "\n"
     ]
    }
   ],
   "source": [
    "help(pd.value_counts)"
   ]
  },
  {
   "cell_type": "code",
   "execution_count": 128,
   "metadata": {
    "ExecuteTime": {
     "end_time": "2021-03-30T15:40:41.192141Z",
     "start_time": "2021-03-30T15:40:41.179566Z"
    },
    "hideCode": false,
    "hidePrompt": false
   },
   "outputs": [
    {
     "data": {
      "text/plain": [
       "Europe         63.414634\n",
       "America        12.195122\n",
       "Asia            9.756098\n",
       "Middle East     7.317073\n",
       "Africa          2.439024\n",
       "Oceania         2.439024\n",
       "World           2.439024\n",
       "Name: Continent, dtype: float64"
      ]
     },
     "execution_count": 128,
     "metadata": {},
     "output_type": "execute_result"
    }
   ],
   "source": [
    "#type your code here\n",
    "df['Continent'].value_counts(normalize=True)*100"
   ]
  },
  {
   "cell_type": "markdown",
   "metadata": {
    "hideCode": false,
    "hidePrompt": false
   },
   "source": [
    "<br/>\n",
    "\n",
    "### 5.2 [Maps](#VI.II)\n",
    "<a id=\"VI.II\"></a>\n",
    "<br/>\n",
    "A **map** is a term borrowed from mathematics. It can be seen as a function that takes one set of values and \"maps\" them to another set of values. In data science we often need to create new representations from existing data, or transform data from the format we recieve it (for example from our operations team) to the format we want it to be later for models or business presentations. Maps are what handle this type of work.\n",
    "\n",
    "There are two mapping methods that you will often use.\n",
    "\n",
    "`map()` is slightly the simpler one. For example, suppose that we need to remean the GDP to 0. We can do it in the following way.\n",
    "\n",
    "Again to do so, we need to:\n",
    "\n",
    "1. select the rows where the `Series Name` is equal to `Population, total`\n",
    "2. select the rows where the `Country Name` is equal to `Portugal`\n",
    "3. extract `value` series\n",
    "4. apply the method mentioned before"
   ]
  },
  {
   "cell_type": "code",
   "execution_count": 130,
   "metadata": {
    "ExecuteTime": {
     "end_time": "2021-03-30T15:44:24.007836Z",
     "start_time": "2021-03-30T15:44:23.995555Z"
    },
    "hideCode": false,
    "hidePrompt": false
   },
   "outputs": [
    {
     "data": {
      "text/plain": [
       "10455423.777777778"
      ]
     },
     "execution_count": 130,
     "metadata": {},
     "output_type": "execute_result"
    }
   ],
   "source": [
    "#type your code here\n",
    "portugal_value_series = df.loc[(df['Series Name']=='Population, total')& (df['Country Name']=='Portugal'),'value']\n",
    "mean_gpd_port = portugal_value_series.mean()\n",
    "mean_gpd_port"
   ]
  },
  {
   "cell_type": "code",
   "execution_count": 132,
   "metadata": {
    "ExecuteTime": {
     "end_time": "2021-03-30T15:44:59.002147Z",
     "start_time": "2021-03-30T15:44:58.996786Z"
    }
   },
   "outputs": [
    {
     "data": {
      "text/plain": [
       "15827   -165525.777778\n",
       "15828    -92701.777778\n",
       "15829    -35792.777778\n",
       "15830      3397.222222\n",
       "15831     28437.222222\n",
       "15832     47906.222222\n",
       "15833     66864.222222\n",
       "15834     87540.222222\n",
       "15835    102753.222222\n",
       "15836    112823.222222\n",
       "15837    117676.222222\n",
       "15838    102136.222222\n",
       "15839     59420.222222\n",
       "15840      1871.222222\n",
       "15841    -54361.777778\n",
       "15842    -97347.777778\n",
       "15843   -129971.777778\n",
       "15844   -155123.777778\n",
       "15845              NaN\n",
       "Name: value, dtype: float64"
      ]
     },
     "execution_count": 132,
     "metadata": {},
     "output_type": "execute_result"
    }
   ],
   "source": [
    "portugal_value_series-mean_gpd_port"
   ]
  },
  {
   "cell_type": "code",
   "execution_count": 133,
   "metadata": {
    "ExecuteTime": {
     "end_time": "2021-03-30T15:46:52.758551Z",
     "start_time": "2021-03-30T15:46:52.752900Z"
    }
   },
   "outputs": [
    {
     "data": {
      "text/plain": [
       "15827   -165525.777778\n",
       "15828    -92701.777778\n",
       "15829    -35792.777778\n",
       "15830      3397.222222\n",
       "15831     28437.222222\n",
       "15832     47906.222222\n",
       "15833     66864.222222\n",
       "15834     87540.222222\n",
       "15835    102753.222222\n",
       "15836    112823.222222\n",
       "15837    117676.222222\n",
       "15838    102136.222222\n",
       "15839     59420.222222\n",
       "15840      1871.222222\n",
       "15841    -54361.777778\n",
       "15842    -97347.777778\n",
       "15843   -129971.777778\n",
       "15844   -155123.777778\n",
       "15845              NaN\n",
       "Name: value, dtype: float64"
      ]
     },
     "execution_count": 133,
     "metadata": {},
     "output_type": "execute_result"
    }
   ],
   "source": [
    "portugal_value_series.map(lambda x:x-mean_gpd_port)"
   ]
  },
  {
   "cell_type": "markdown",
   "metadata": {
    "hideCode": false,
    "hidePrompt": false
   },
   "source": [
    "The function you pass to `map()` expects a single value from the `Series`, and return a transformed version of that value (in our example that same value minus the column mean). `map()` returns a new `Series` where all the values have been transformed by your function.\n",
    "<br/>\n",
    "<hr>\n",
    "\n",
    "#### 5.2.1 Quick review about Python's lambda expression\n",
    "\n",
    "<hr>\n",
    "<br/>\n",
    "Lambda expressions allow us to create \"anonymous\" functions. This basically means we can quickly make ad-hoc functions without needing to properly define a function using def. \n",
    "\n",
    "Function objects returned by running lambda expressions work exactly the same as those created and assigned by `def`s. There is a key difference that makes lambda useful in specialized roles. Pandas library works very well with lambda expressions.\n",
    "\n",
    "**lambda's body is a single expression, not a block of statements.**\n",
    "\n",
    "+ The lambda's body is similar to what we would put in a `def` body return statement. We simply type the result as an expression instead of explicitly returning it. Because it is limited to an expression, a lambda is less general that a def. We can only squeeze design, to limit program nesting. lambda is designed for coding simple functions, and def to handle the larger tasks.\n",
    "\n",
    "\n",
    "\n",
    "\n",
    "Lets generate a simple function and compare it with its equivalent lambda expression."
   ]
  },
  {
   "cell_type": "code",
   "execution_count": 139,
   "metadata": {
    "ExecuteTime": {
     "end_time": "2021-03-30T15:51:23.617436Z",
     "start_time": "2021-03-30T15:51:23.614731Z"
    },
    "hideCode": false,
    "hidePrompt": false
   },
   "outputs": [],
   "source": [
    "#type your code here\n",
    "def square(x:int):\n",
    "    return x**2"
   ]
  },
  {
   "cell_type": "code",
   "execution_count": 136,
   "metadata": {
    "ExecuteTime": {
     "end_time": "2021-03-30T15:49:19.131035Z",
     "start_time": "2021-03-30T15:49:19.127359Z"
    },
    "hideCode": false,
    "hidePrompt": false
   },
   "outputs": [
    {
     "data": {
      "text/plain": [
       "9"
      ]
     },
     "execution_count": 136,
     "metadata": {},
     "output_type": "execute_result"
    }
   ],
   "source": [
    "square(3)"
   ]
  },
  {
   "cell_type": "markdown",
   "metadata": {
    "hideCode": false,
    "hidePrompt": false
   },
   "source": [
    "This is the from that a lambda expression trying to replicate the function above would take."
   ]
  },
  {
   "cell_type": "code",
   "execution_count": 137,
   "metadata": {
    "ExecuteTime": {
     "end_time": "2021-03-30T15:50:49.887330Z",
     "start_time": "2021-03-30T15:50:49.884791Z"
    },
    "hideCode": false,
    "hidePrompt": false
   },
   "outputs": [],
   "source": [
    "#type your code here\n",
    "lambda_square = lambda x:x**2"
   ]
  },
  {
   "cell_type": "code",
   "execution_count": 138,
   "metadata": {
    "ExecuteTime": {
     "end_time": "2021-03-30T15:50:57.578679Z",
     "start_time": "2021-03-30T15:50:57.574996Z"
    }
   },
   "outputs": [
    {
     "data": {
      "text/plain": [
       "9"
      ]
     },
     "execution_count": 138,
     "metadata": {},
     "output_type": "execute_result"
    }
   ],
   "source": [
    "lambda_square(3)"
   ]
  },
  {
   "cell_type": "markdown",
   "metadata": {
    "hideCode": false,
    "hidePrompt": false
   },
   "source": [
    "Note that the output is a function (in our data set this function is passed to `map()` method so it can be applied to each of the elements of the column). So we need to assing it to a variable to then use it in the desired way"
   ]
  },
  {
   "cell_type": "code",
   "execution_count": null,
   "metadata": {
    "hideCode": false,
    "hidePrompt": false
   },
   "outputs": [],
   "source": [
    "#type your code here"
   ]
  },
  {
   "cell_type": "code",
   "execution_count": null,
   "metadata": {
    "hideCode": false,
    "hidePrompt": false
   },
   "outputs": [],
   "source": [
    "lambda_square(4)"
   ]
  },
  {
   "cell_type": "markdown",
   "metadata": {
    "hideCode": false,
    "hidePrompt": false
   },
   "source": [
    "Now, lets generate a lambda function that will allow us to have a quick overview of any dataset that we may encounter."
   ]
  },
  {
   "cell_type": "code",
   "execution_count": 140,
   "metadata": {
    "ExecuteTime": {
     "end_time": "2021-03-30T15:54:41.346753Z",
     "start_time": "2021-03-30T15:54:41.343485Z"
    },
    "hideCode": false,
    "hidePrompt": false
   },
   "outputs": [],
   "source": [
    "#type your code here\n",
    "def rstr(df):\n",
    "    print(\"Shape:{}\\nCols unique values:\\n{}\".format(df.shape,df.apply(lambda x:[x.unique()])))"
   ]
  },
  {
   "cell_type": "code",
   "execution_count": 141,
   "metadata": {
    "ExecuteTime": {
     "end_time": "2021-03-30T15:54:50.542291Z",
     "start_time": "2021-03-30T15:54:50.511765Z"
    }
   },
   "outputs": [
    {
     "name": "stdout",
     "output_type": "stream",
     "text": [
      "Shape:(59299, 8)\n",
      "Cols unique values:\n",
      "                                        Country Name  \\\n",
      "0  [World, United States, United Kingdom, Turkey,...   \n",
      "\n",
      "                                        Country Code  \\\n",
      "0  [WLD, USA, GBR, TUR, SWE, SSF, ESP, SAS, SVN, ...   \n",
      "\n",
      "                                         Series Name  \\\n",
      "0  [Access to electricity (% of population), Age ...   \n",
      "\n",
      "                                                Time  \\\n",
      "0  [2000, 2001, 2002, 2003, 2004, 2005, 2006, 200...   \n",
      "\n",
      "                                               value  \\\n",
      "0  [77.72309453816709, 77.2877546448649, 78.81927...   \n",
      "\n",
      "                                           Continent   Data Source  \\\n",
      "0  [World, America, Europe, Middle East, Africa, ...  [World Bank]   \n",
      "\n",
      "                                       reverse_index  \n",
      "0  [59299, 59298, 59297, 59296, 59295, 59294, 592...  \n"
     ]
    }
   ],
   "source": [
    "rstr(df)"
   ]
  },
  {
   "cell_type": "markdown",
   "metadata": {
    "hideCode": false,
    "hidePrompt": false
   },
   "source": [
    "<br/>\n",
    "<hr>\n",
    "<hr>\n",
    "<br/>\n",
    "\n",
    "`apply()` is the equivalent mehtod if we want to transform a whole `DataFrame` by calling a custom method on each row. For example, lets define the mean_gdp function and then use it to transform our data."
   ]
  },
  {
   "cell_type": "code",
   "execution_count": 144,
   "metadata": {
    "ExecuteTime": {
     "end_time": "2021-03-30T15:57:59.388234Z",
     "start_time": "2021-03-30T15:57:59.385360Z"
    },
    "hideCode": false,
    "hidePrompt": false
   },
   "outputs": [],
   "source": [
    "#type your code here\n",
    "def remean_gdp(row):\n",
    "    row.value = row.value - mean_gpd_port\n",
    "    return row"
   ]
  },
  {
   "cell_type": "code",
   "execution_count": null,
   "metadata": {
    "hideCode": false,
    "hidePrompt": false
   },
   "outputs": [],
   "source": [
    "#type your code here"
   ]
  },
  {
   "cell_type": "markdown",
   "metadata": {
    "hideCode": false,
    "hidePrompt": false
   },
   "source": [
    "If we called the `port_gdp_data.apply()` with `axis='index'`, then instead of passing a function to transform each row, we would need to give a function to transform each **column** .\n",
    "\n",
    "Note that both `map()`and `apply()`methods return a new transformed `Series`and `DataFrame`respectively. They do not modify the original dataset they uses as input. If we look at the original `port_gdp_data` we can see that it still has its original `value`."
   ]
  },
  {
   "cell_type": "code",
   "execution_count": 146,
   "metadata": {
    "ExecuteTime": {
     "end_time": "2021-03-30T15:58:14.504951Z",
     "start_time": "2021-03-30T15:58:14.481393Z"
    },
    "hideCode": false,
    "hidePrompt": false
   },
   "outputs": [
    {
     "data": {
      "text/html": [
       "<div>\n",
       "<style scoped>\n",
       "    .dataframe tbody tr th:only-of-type {\n",
       "        vertical-align: middle;\n",
       "    }\n",
       "\n",
       "    .dataframe tbody tr th {\n",
       "        vertical-align: top;\n",
       "    }\n",
       "\n",
       "    .dataframe thead th {\n",
       "        text-align: right;\n",
       "    }\n",
       "</style>\n",
       "<table border=\"1\" class=\"dataframe\">\n",
       "  <thead>\n",
       "    <tr style=\"text-align: right;\">\n",
       "      <th></th>\n",
       "      <th>Country Name</th>\n",
       "      <th>Country Code</th>\n",
       "      <th>Series Name</th>\n",
       "      <th>Time</th>\n",
       "      <th>value</th>\n",
       "      <th>Continent</th>\n",
       "      <th>Data Source</th>\n",
       "      <th>reverse_index</th>\n",
       "    </tr>\n",
       "  </thead>\n",
       "  <tbody>\n",
       "    <tr>\n",
       "      <th>15827</th>\n",
       "      <td>Portugal</td>\n",
       "      <td>PRT</td>\n",
       "      <td>Population, total</td>\n",
       "      <td>2000</td>\n",
       "      <td>-165525.777778</td>\n",
       "      <td>Europe</td>\n",
       "      <td>World Bank</td>\n",
       "      <td>43472</td>\n",
       "    </tr>\n",
       "    <tr>\n",
       "      <th>15828</th>\n",
       "      <td>Portugal</td>\n",
       "      <td>PRT</td>\n",
       "      <td>Population, total</td>\n",
       "      <td>2001</td>\n",
       "      <td>-92701.777778</td>\n",
       "      <td>Europe</td>\n",
       "      <td>World Bank</td>\n",
       "      <td>43471</td>\n",
       "    </tr>\n",
       "    <tr>\n",
       "      <th>15829</th>\n",
       "      <td>Portugal</td>\n",
       "      <td>PRT</td>\n",
       "      <td>Population, total</td>\n",
       "      <td>2002</td>\n",
       "      <td>-35792.777778</td>\n",
       "      <td>Europe</td>\n",
       "      <td>World Bank</td>\n",
       "      <td>43470</td>\n",
       "    </tr>\n",
       "    <tr>\n",
       "      <th>15830</th>\n",
       "      <td>Portugal</td>\n",
       "      <td>PRT</td>\n",
       "      <td>Population, total</td>\n",
       "      <td>2003</td>\n",
       "      <td>3397.222222</td>\n",
       "      <td>Europe</td>\n",
       "      <td>World Bank</td>\n",
       "      <td>43469</td>\n",
       "    </tr>\n",
       "    <tr>\n",
       "      <th>15831</th>\n",
       "      <td>Portugal</td>\n",
       "      <td>PRT</td>\n",
       "      <td>Population, total</td>\n",
       "      <td>2004</td>\n",
       "      <td>28437.222222</td>\n",
       "      <td>Europe</td>\n",
       "      <td>World Bank</td>\n",
       "      <td>43468</td>\n",
       "    </tr>\n",
       "    <tr>\n",
       "      <th>15832</th>\n",
       "      <td>Portugal</td>\n",
       "      <td>PRT</td>\n",
       "      <td>Population, total</td>\n",
       "      <td>2005</td>\n",
       "      <td>47906.222222</td>\n",
       "      <td>Europe</td>\n",
       "      <td>World Bank</td>\n",
       "      <td>43467</td>\n",
       "    </tr>\n",
       "    <tr>\n",
       "      <th>15833</th>\n",
       "      <td>Portugal</td>\n",
       "      <td>PRT</td>\n",
       "      <td>Population, total</td>\n",
       "      <td>2006</td>\n",
       "      <td>66864.222222</td>\n",
       "      <td>Europe</td>\n",
       "      <td>World Bank</td>\n",
       "      <td>43466</td>\n",
       "    </tr>\n",
       "    <tr>\n",
       "      <th>15834</th>\n",
       "      <td>Portugal</td>\n",
       "      <td>PRT</td>\n",
       "      <td>Population, total</td>\n",
       "      <td>2007</td>\n",
       "      <td>87540.222222</td>\n",
       "      <td>Europe</td>\n",
       "      <td>World Bank</td>\n",
       "      <td>43465</td>\n",
       "    </tr>\n",
       "    <tr>\n",
       "      <th>15835</th>\n",
       "      <td>Portugal</td>\n",
       "      <td>PRT</td>\n",
       "      <td>Population, total</td>\n",
       "      <td>2008</td>\n",
       "      <td>102753.222222</td>\n",
       "      <td>Europe</td>\n",
       "      <td>World Bank</td>\n",
       "      <td>43464</td>\n",
       "    </tr>\n",
       "    <tr>\n",
       "      <th>15836</th>\n",
       "      <td>Portugal</td>\n",
       "      <td>PRT</td>\n",
       "      <td>Population, total</td>\n",
       "      <td>2009</td>\n",
       "      <td>112823.222222</td>\n",
       "      <td>Europe</td>\n",
       "      <td>World Bank</td>\n",
       "      <td>43463</td>\n",
       "    </tr>\n",
       "    <tr>\n",
       "      <th>15837</th>\n",
       "      <td>Portugal</td>\n",
       "      <td>PRT</td>\n",
       "      <td>Population, total</td>\n",
       "      <td>2010</td>\n",
       "      <td>117676.222222</td>\n",
       "      <td>Europe</td>\n",
       "      <td>World Bank</td>\n",
       "      <td>43462</td>\n",
       "    </tr>\n",
       "    <tr>\n",
       "      <th>15838</th>\n",
       "      <td>Portugal</td>\n",
       "      <td>PRT</td>\n",
       "      <td>Population, total</td>\n",
       "      <td>2011</td>\n",
       "      <td>102136.222222</td>\n",
       "      <td>Europe</td>\n",
       "      <td>World Bank</td>\n",
       "      <td>43461</td>\n",
       "    </tr>\n",
       "    <tr>\n",
       "      <th>15839</th>\n",
       "      <td>Portugal</td>\n",
       "      <td>PRT</td>\n",
       "      <td>Population, total</td>\n",
       "      <td>2012</td>\n",
       "      <td>59420.222222</td>\n",
       "      <td>Europe</td>\n",
       "      <td>World Bank</td>\n",
       "      <td>43460</td>\n",
       "    </tr>\n",
       "    <tr>\n",
       "      <th>15840</th>\n",
       "      <td>Portugal</td>\n",
       "      <td>PRT</td>\n",
       "      <td>Population, total</td>\n",
       "      <td>2013</td>\n",
       "      <td>1871.222222</td>\n",
       "      <td>Europe</td>\n",
       "      <td>World Bank</td>\n",
       "      <td>43459</td>\n",
       "    </tr>\n",
       "    <tr>\n",
       "      <th>15841</th>\n",
       "      <td>Portugal</td>\n",
       "      <td>PRT</td>\n",
       "      <td>Population, total</td>\n",
       "      <td>2014</td>\n",
       "      <td>-54361.777778</td>\n",
       "      <td>Europe</td>\n",
       "      <td>World Bank</td>\n",
       "      <td>43458</td>\n",
       "    </tr>\n",
       "    <tr>\n",
       "      <th>15842</th>\n",
       "      <td>Portugal</td>\n",
       "      <td>PRT</td>\n",
       "      <td>Population, total</td>\n",
       "      <td>2015</td>\n",
       "      <td>-97347.777778</td>\n",
       "      <td>Europe</td>\n",
       "      <td>World Bank</td>\n",
       "      <td>43457</td>\n",
       "    </tr>\n",
       "    <tr>\n",
       "      <th>15843</th>\n",
       "      <td>Portugal</td>\n",
       "      <td>PRT</td>\n",
       "      <td>Population, total</td>\n",
       "      <td>2016</td>\n",
       "      <td>-129971.777778</td>\n",
       "      <td>Europe</td>\n",
       "      <td>World Bank</td>\n",
       "      <td>43456</td>\n",
       "    </tr>\n",
       "    <tr>\n",
       "      <th>15844</th>\n",
       "      <td>Portugal</td>\n",
       "      <td>PRT</td>\n",
       "      <td>Population, total</td>\n",
       "      <td>2017</td>\n",
       "      <td>-155123.777778</td>\n",
       "      <td>Europe</td>\n",
       "      <td>World Bank</td>\n",
       "      <td>43455</td>\n",
       "    </tr>\n",
       "    <tr>\n",
       "      <th>15845</th>\n",
       "      <td>Portugal</td>\n",
       "      <td>PRT</td>\n",
       "      <td>Population, total</td>\n",
       "      <td>2018</td>\n",
       "      <td>NaN</td>\n",
       "      <td>Europe</td>\n",
       "      <td>World Bank</td>\n",
       "      <td>43454</td>\n",
       "    </tr>\n",
       "  </tbody>\n",
       "</table>\n",
       "</div>"
      ],
      "text/plain": [
       "      Country Name Country Code        Series Name  Time          value  \\\n",
       "15827     Portugal          PRT  Population, total  2000 -165525.777778   \n",
       "15828     Portugal          PRT  Population, total  2001  -92701.777778   \n",
       "15829     Portugal          PRT  Population, total  2002  -35792.777778   \n",
       "15830     Portugal          PRT  Population, total  2003    3397.222222   \n",
       "15831     Portugal          PRT  Population, total  2004   28437.222222   \n",
       "15832     Portugal          PRT  Population, total  2005   47906.222222   \n",
       "15833     Portugal          PRT  Population, total  2006   66864.222222   \n",
       "15834     Portugal          PRT  Population, total  2007   87540.222222   \n",
       "15835     Portugal          PRT  Population, total  2008  102753.222222   \n",
       "15836     Portugal          PRT  Population, total  2009  112823.222222   \n",
       "15837     Portugal          PRT  Population, total  2010  117676.222222   \n",
       "15838     Portugal          PRT  Population, total  2011  102136.222222   \n",
       "15839     Portugal          PRT  Population, total  2012   59420.222222   \n",
       "15840     Portugal          PRT  Population, total  2013    1871.222222   \n",
       "15841     Portugal          PRT  Population, total  2014  -54361.777778   \n",
       "15842     Portugal          PRT  Population, total  2015  -97347.777778   \n",
       "15843     Portugal          PRT  Population, total  2016 -129971.777778   \n",
       "15844     Portugal          PRT  Population, total  2017 -155123.777778   \n",
       "15845     Portugal          PRT  Population, total  2018            NaN   \n",
       "\n",
       "      Continent Data Source  reverse_index  \n",
       "15827    Europe  World Bank          43472  \n",
       "15828    Europe  World Bank          43471  \n",
       "15829    Europe  World Bank          43470  \n",
       "15830    Europe  World Bank          43469  \n",
       "15831    Europe  World Bank          43468  \n",
       "15832    Europe  World Bank          43467  \n",
       "15833    Europe  World Bank          43466  \n",
       "15834    Europe  World Bank          43465  \n",
       "15835    Europe  World Bank          43464  \n",
       "15836    Europe  World Bank          43463  \n",
       "15837    Europe  World Bank          43462  \n",
       "15838    Europe  World Bank          43461  \n",
       "15839    Europe  World Bank          43460  \n",
       "15840    Europe  World Bank          43459  \n",
       "15841    Europe  World Bank          43458  \n",
       "15842    Europe  World Bank          43457  \n",
       "15843    Europe  World Bank          43456  \n",
       "15844    Europe  World Bank          43455  \n",
       "15845    Europe  World Bank          43454  "
      ]
     },
     "execution_count": 146,
     "metadata": {},
     "output_type": "execute_result"
    }
   ],
   "source": [
    "#type your code here\n",
    "port_gdp_data =  df.loc[(df['Series Name']=='Population, total')& (df['Country Name']=='Portugal')]\n",
    "port_gdp_data.apply(remean_gdp,axis='columns')"
   ]
  },
  {
   "cell_type": "markdown",
   "metadata": {
    "hideCode": false,
    "hidePrompt": false
   },
   "source": [
    "<br/>\n",
    "\n",
    "#### 5.2.2 **Built in mapping operators in Pandas**\n",
    "\n",
    "<br/>\n",
    "For the most common operators we need not to use explicitly the `map()` method. For example, here is a faster way of remeaning our `value` column."
   ]
  },
  {
   "cell_type": "code",
   "execution_count": null,
   "metadata": {
    "hideCode": false,
    "hidePrompt": false
   },
   "outputs": [],
   "source": [
    "#type your code here"
   ]
  },
  {
   "cell_type": "markdown",
   "metadata": {
    "hideCode": false,
    "hidePrompt": false
   },
   "source": [
    "Note that in the code above we are performing an operation between a lot of vales on the left-hand side (actually everyting in the `Series`) and a single value on the right-hand side (the mean value $230,698,913,940.09$). Pandas looks at this expression and figures out that we must mean to substract that value from every value in the column.\n",
    "\n",
    "Pandas will also understand what to do if we perform these operations between `Series` of equal length. For example, an easy way to combine the continent and country name of our data is by doing the following:"
   ]
  },
  {
   "cell_type": "code",
   "execution_count": null,
   "metadata": {
    "hideCode": false,
    "hidePrompt": false
   },
   "outputs": [],
   "source": [
    "#type your code here"
   ]
  },
  {
   "cell_type": "markdown",
   "metadata": {
    "hideCode": false,
    "hidePrompt": false
   },
   "source": [
    "In the cell above I introduced the method `.astype()` to transform `Time` from an integer column to a string column. \n",
    "\n",
    "This needs to be done because Pandas can only concatenate a string with other string or equivalently can only add a number with other number. Both operations are performed with the same `+` operator.\n",
    "\n",
    "<div class=\"alert alert-block alert-info\">\n",
    "    <b>Note:</b>  Performing this operators rather than using <code>map()</code> or <code>apply()</code> methods is faster because they use speed ups built into Pandas. Actualy, all of the standard Python operators (greater, lesser or equal than) work in this manner.\n",
    "</div>\n",
    "\n",
    "However, they are not as flexible as `map()` or `apply()`, which can do more advanced things, like applying conditional logic, which cannot be done with addition and substraction alone."
   ]
  },
  {
   "cell_type": "markdown",
   "metadata": {
    "hideCode": false,
    "hidePrompt": false
   },
   "source": [
    "<br/>\n",
    "\n",
    "## 6. [Grouping and Sorting](#V)\n",
    "<a id=\"V\"></a>\n",
    "<br/>"
   ]
  },
  {
   "cell_type": "markdown",
   "metadata": {
    "hideCode": false,
    "hidePrompt": false
   },
   "source": [
    "### 6.1 [Grouping](#V.I)\n",
    "<a id=\"V.I\"></a>\n",
    "<br/>\n",
    "\n",
    "Most data operations are done on groups defined by variables for creating them pandas `DataFrame`s have the method `groupby()`. The way it generally works is as follows:\n",
    "\n",
    "1. Define the *groups* based on a set of columns in your data\n",
    "2. Summarize the information of other columns at the grouped level\n",
    "\n",
    "For the second step the method you will need to use is `agg()`, this method will allow you to summarize a set of columns each of them with a specific summary function. The structure of the command is presented in the image below:\n",
    "<br/>\n",
    "\n",
    "<p align=\"center\">\n",
    "  <img width=\"820\" height=\"500\" src=\"https://shanelynnwebsite-mid9n9g1q9y8tt.netdna-ssl.com/wp-content/uploads/2019/10/pandas-python-group-by-named-aggregation-update.jpg\">\n",
    "</p>\n",
    "\n",
    "<br/>\n",
    "\n",
    "Now, let's make a simple table with summary statistcis of our data\n"
   ]
  },
  {
   "cell_type": "code",
   "execution_count": null,
   "metadata": {
    "hideCode": false,
    "hidePrompt": false
   },
   "outputs": [],
   "source": [
    "#type your code here"
   ]
  },
  {
   "cell_type": "markdown",
   "metadata": {
    "hideCode": false,
    "hidePrompt": false
   },
   "source": [
    "There are aggregation functions already predifined by pandas below you can see a **non-exhaustive** list of them:\n",
    "\n",
    "\n",
    "| Function | Description  |\n",
    "| :-----: | :-----: |\n",
    "| count | Number of non-null observations |\n",
    "| sum | Sum of values |\n",
    "| mean | Mean of values |\n",
    "| mad | Mean absolute deviation |\n",
    "| median | Arithmetic median of values |\n",
    "| min | Minimum |\n",
    "| max | Maximum |\n",
    "| mode | Mode |\n",
    "| abs | Absolute Value |\n",
    "| prod | Product of values |\n",
    "| var | Unbiased variance |\n",
    "| sem | Unbiased standard error of the mean |\n",
    "| skew | Unbiased skewness (3rd moment) |\n",
    "| kurt | Unbiased kurtosis (4th moment) |\n",
    "| quantile | Sample quantile (value at %) |\n",
    "| cumsum | Cumulative sum |\n",
    "| cumprod | Sample quantile (value at %) |\n",
    "| quantile | Cumulative product |\n",
    "| cummax | Cumulative maximum |\n",
    "| cummin | Cumulative minimum |\n",
    "\n",
    "Note that it is also possible to create your own aggregation functions. However, the need for custom functions is minimal unless you have very specific requirements. The full range of basic statistics that are quickly calculable and built into the base Pandas package can be found [here](https://pandas.pydata.org/pandas-docs/stable/getting_started/basics.html)\n",
    "\n",
    "<br/>"
   ]
  },
  {
   "cell_type": "markdown",
   "metadata": {
    "hideCode": false,
    "hidePrompt": false
   },
   "source": [
    "### 6.2 [Sorting](#V.II)\n",
    "<a id=\"V.II\"></a>\n",
    "<br/>\n",
    "\n",
    "Now, imagine you need to sort in a descending way the results shown above. By using the `DataFrame` method `sort_values()` and selecting the parameter `ascending=False` this process can be easily performed."
   ]
  },
  {
   "cell_type": "code",
   "execution_count": null,
   "metadata": {
    "hideCode": false,
    "hidePrompt": false
   },
   "outputs": [],
   "source": [
    "#type your code here"
   ]
  },
  {
   "cell_type": "markdown",
   "metadata": {
    "hideCode": false,
    "hidePrompt": false
   },
   "source": [
    "<br/>\n",
    "\n",
    "## 7. [Data Types and Missing Values](#IV)\n",
    "<a id=\"IV\"></a>\n",
    "<br/>"
   ]
  },
  {
   "cell_type": "markdown",
   "metadata": {
    "hideCode": false,
    "hidePrompt": false
   },
   "source": [
    "### 7.1 [Data Types](#IV.I)\n",
    "<a id=\"IV.I\"></a>\n",
    "<br/>\n",
    "\n",
    "At the end of the prior section we introduced an operator to modify the type a specific column. The correct name of the type of a column in a `DataFrame` (or `Series`) is **dtype**.\n",
    "\n",
    "<br/>\n",
    "\n"
   ]
  },
  {
   "cell_type": "markdown",
   "metadata": {
    "hideCode": false,
    "hidePrompt": false
   },
   "source": [
    "#### 7.1.1 Specific Column\n",
    "<br/>\n",
    "\n",
    "So, you can use the `dtype` attribute of a `Series` to grab the type of a specific column. For instance, we can get the `dtype` of the `Time` column in our data."
   ]
  },
  {
   "cell_type": "code",
   "execution_count": null,
   "metadata": {
    "hideCode": false,
    "hidePrompt": false
   },
   "outputs": [],
   "source": [
    "#type your code here"
   ]
  },
  {
   "cell_type": "markdown",
   "metadata": {
    "hideCode": false,
    "hidePrompt": false
   },
   "source": [
    "<br/>\n",
    "\n",
    "#### 7.1.2 Every column in the dataset\n",
    "<br/>\n",
    "Alternatively, the `dtypes` attribute of a `DataFrame` returns the `dtype`of *every* column."
   ]
  },
  {
   "cell_type": "code",
   "execution_count": null,
   "metadata": {
    "hideCode": false,
    "hidePrompt": false
   },
   "outputs": [],
   "source": [
    "#type your code here"
   ]
  },
  {
   "cell_type": "markdown",
   "metadata": {
    "hideCode": false,
    "hidePrompt": false
   },
   "source": [
    "Data types tell us something about how pandas is storing the data internally. For example, `float64` means that it is using a 64-bit floating point number, whereas `int64` means a similarly sized integer instead.\n",
    "\n",
    "One peculiarity to keep in mind is that columns consisting entirely of strings do not get their own type, instead they are given the `object` type.\n",
    "\n",
    "As we presented before, function `.astype()` makes possible to convert a column of one type into another wherever such a convertion makes sense. \n",
    "\n",
    "A `DataFrame` or `Series` index has its own `dtype` too."
   ]
  },
  {
   "cell_type": "code",
   "execution_count": null,
   "metadata": {
    "hideCode": false,
    "hidePrompt": false
   },
   "outputs": [],
   "source": [
    "#type your code here"
   ]
  },
  {
   "cell_type": "markdown",
   "metadata": {
    "hideCode": false,
    "hidePrompt": false
   },
   "source": [
    "As a final note to this section, let's remark that Pandas also supports more exoctic data types. For example, categorical data and timeseries data are also allowed.\n",
    "\n",
    "### 7.2 [Missing data](#IV.II)\n",
    "<a id=\"IV.II\"></a>\n",
    "<br/>\n",
    "Entries with missing values are given the value NaN, short for \"Not a Number\". For technical reasons these `NaN` values are always of the `float64` dtype.\n",
    "<br/>\n",
    "\n",
    "#### 7.2.1 Selecting missing rows data\n",
    "<br/>\n",
    "Pandas provides some methods specific to missing data. To select `NaN` entries you can use `pd.isnull()` (or its companion `pd.notnull()`). For example, lets output all the rows of our dataset that has `value` column with missing values."
   ]
  },
  {
   "cell_type": "code",
   "execution_count": null,
   "metadata": {
    "hideCode": false,
    "hidePrompt": false
   },
   "outputs": [],
   "source": [
    "#type your code here"
   ]
  },
  {
   "cell_type": "markdown",
   "metadata": {
    "hideCode": false,
    "hidePrompt": false
   },
   "source": [
    "Replacing missing values is a common operation. Pandas provides a handy method for this problem: `fillna()`. `fillna()` provides a few different strategies for mitigating such data. For example, we can simply replace each `NaN`with an `\"Unknown\"`. "
   ]
  },
  {
   "cell_type": "code",
   "execution_count": null,
   "metadata": {
    "hideCode": false,
    "hidePrompt": false
   },
   "outputs": [],
   "source": [
    "#type your code here"
   ]
  },
  {
   "cell_type": "markdown",
   "metadata": {
    "hideCode": false,
    "hidePrompt": false
   },
   "source": [
    "Alternatively, we may have a none-null value that we would like to replace. For example, lets `replace()` the string value of `Continent` column from 'World' to 0, 'America' to 1, 'Europe' to 2, 'Middle East' to 3, 'Africa' to 4, 'Asia' to 5 and 'Oceania' to 6"
   ]
  },
  {
   "cell_type": "code",
   "execution_count": null,
   "metadata": {
    "hideCode": false,
    "hidePrompt": false
   },
   "outputs": [],
   "source": [
    "#type your code here"
   ]
  },
  {
   "cell_type": "markdown",
   "metadata": {
    "hideCode": false,
    "hidePrompt": false
   },
   "source": [
    "<br/>\n",
    "\n",
    "## 8. [Renaming and Combining](#IIV)\n",
    "<a id=\"IIV\"></a>\n",
    "<br/>\n",
    "Data comes often to us with column names, index names or other naming conventions that we are not satisfied with. In that case, we will learn how to use pandas functions to change the names of the entries we need to.\n",
    "\n",
    "We will also explore three methods to combine data from multiple `DataFame` and/or `Series`.\n",
    "<br/>\n",
    "\n",
    "### 8.1 [Renaming](#IIV.I)\n",
    "<a id=\"IIV.I\"></a>\n",
    "<br/>\n",
    "The first function to introduce here is `rename()`, which allows you to change index names and/or column names. For example, to change the `value` column in our dataset to `Series Value`, we would do:\n",
    "<br/>"
   ]
  },
  {
   "cell_type": "code",
   "execution_count": null,
   "metadata": {
    "hideCode": false,
    "hidePrompt": false
   },
   "outputs": [],
   "source": [
    "#type your code here"
   ]
  },
  {
   "cell_type": "markdown",
   "metadata": {
    "hideCode": false,
    "hidePrompt": false
   },
   "source": [
    "`rename()` supports a variety of input formats, but usually a Python dictionary is the most convenient. For **modifying a set of columns** we leverage two core Python operators: `dict()` and `zip()`. The first one simply produces a dictionary (is equivalent to `{ }`), the second one is the `zip()` function that *paste* one on one each of the elements of two list."
   ]
  },
  {
   "cell_type": "code",
   "execution_count": null,
   "metadata": {
    "hideCode": false,
    "hidePrompt": false
   },
   "outputs": [],
   "source": [
    "#type your code here"
   ]
  },
  {
   "cell_type": "markdown",
   "metadata": {
    "hideCode": false,
    "hidePrompt": false
   },
   "source": [
    "`rename()` lets you rename *index* or *column* values by specifying `index` or `column` keyword parameter, respectively. Here is an example using it to rename some elements of the index. "
   ]
  },
  {
   "cell_type": "code",
   "execution_count": null,
   "metadata": {
    "hideCode": false,
    "hidePrompt": false
   },
   "outputs": [],
   "source": [
    "#type your code here"
   ]
  },
  {
   "cell_type": "markdown",
   "metadata": {
    "hideCode": false,
    "hidePrompt": false
   },
   "source": [
    "It is very common to rename columns, but rename index values is very rarely. For doing so it is usually more convenient to use the `set_index()` method.\n",
    "<br/>\n",
    "\n",
    "#### 8.1.1 Renaming axis\n",
    "<br/>\n",
    "Both rows and columns have their own name attribute. So, additionaly to renaming values of each axis  `rename_axis()` method may be used to change these name attribute (naming the hole rows or the hole columns). For example:"
   ]
  },
  {
   "cell_type": "code",
   "execution_count": null,
   "metadata": {
    "hideCode": false,
    "hidePrompt": false
   },
   "outputs": [],
   "source": [
    "#type your code here"
   ]
  },
  {
   "cell_type": "markdown",
   "metadata": {
    "hideCode": false,
    "hidePrompt": false
   },
   "source": [
    "<br/>\n",
    "\n",
    "### 8.2 [Combining](#IIV.II)\n",
    "<a id=\"IIV.II\"></a>\n",
    "<br/>\n",
    "\n",
    "When working on a dataset, we will sometimes need to combine different `DataFrames` and/or `Series` in *non-trivial* ways. Pandas has three core methods for doing this. Ranked on increasing complexity, these methods are `concat()`, `join()`, and `merge()`.\n",
    "\n",
    "As its name says, `concat()` will concatenate two `DataFrames` together along an axis. This method is very useful when working with data in different `DataFrames` or `Series` objects but having the same fields (columns) . \n",
    "\n",
    "For example imagine that we need to create a report with a subset of the available goverment data from Portugal of the period. The indicators that we need to present are the following:\n",
    "\n",
    "+ GDP (constant 2010 US\\$)\n",
    "+ Expense (\\% of GDP)\n",
    "+ Government expenditure on education, total (\\% of GDP)\n",
    "+ Domestic general government health expenditure (\\% of GDP)\n",
    "\n",
    "For this we will need to create a subset of the original dataframe with all the series available for Portugal. With it we will need to:\n",
    "\n",
    "+ select all the rows where `Series Name` equals each of the desired indicators\n",
    "+ rename `Series Name` to fit the indicator description\n",
    "+ use the method mentioned above"
   ]
  },
  {
   "cell_type": "code",
   "execution_count": null,
   "metadata": {
    "hideCode": false,
    "hidePrompt": false
   },
   "outputs": [],
   "source": [
    "#First of all let's select only entries reported by Portugal\n",
    "#type your code here"
   ]
  },
  {
   "cell_type": "code",
   "execution_count": null,
   "metadata": {
    "hideCode": false,
    "hidePrompt": false
   },
   "outputs": [],
   "source": [
    "#Then let's set the conditions to select the data\n",
    "#type your code here"
   ]
  },
  {
   "cell_type": "code",
   "execution_count": null,
   "metadata": {
    "hideCode": false,
    "hidePrompt": false
   },
   "outputs": [],
   "source": [
    "#Then select and rename each series\n",
    "#type your code here"
   ]
  },
  {
   "cell_type": "code",
   "execution_count": null,
   "metadata": {
    "hideCode": false,
    "hidePrompt": false
   },
   "outputs": [],
   "source": [
    "#Finally let's concatenate all together\n",
    "#and put back together the column names since concate operator loss them\n",
    "#type your code here"
   ]
  },
  {
   "cell_type": "markdown",
   "metadata": {
    "hideCode": false,
    "hidePrompt": false
   },
   "source": [
    "The middlemost complex combiner is `join()`. It works for combining different `DataFrame` objects which have a column (or index) in common. For a clear explanation of its usage and its parameters, let's generate two new `DataFrames` each of them with two columns named: `Key` and `Values`.  \n",
    "\n",
    "The first one name it `right` and fill each column with the following values:\n",
    "\n",
    "+ `Key`: 2000,2001,2002,2003\n",
    "+ `Values`:12,13,12,13 \n",
    "\n",
    "The second one name it `left` and fill each column with the following values:\n",
    "\n",
    "+ `Key`: 2000,2001,2003\n",
    "+ `Values`:15,16,17"
   ]
  },
  {
   "cell_type": "code",
   "execution_count": null,
   "metadata": {
    "hideCode": false,
    "hidePrompt": false
   },
   "outputs": [],
   "source": [
    "#type your code here"
   ]
  },
  {
   "cell_type": "markdown",
   "metadata": {
    "hideCode": false,
    "hidePrompt": false
   },
   "source": [
    "Now, lets *join* this to datasets using operator `.join()`. "
   ]
  },
  {
   "cell_type": "code",
   "execution_count": null,
   "metadata": {
    "hideCode": false,
    "hidePrompt": false
   },
   "outputs": [],
   "source": [
    "#type your code here"
   ]
  },
  {
   "cell_type": "markdown",
   "metadata": {
    "hideCode": false,
    "hidePrompt": false
   },
   "source": [
    "Note that the `on` parameter allows us to to join the datasets using the `Key` column, however `DataFrame.join()` **always uses the second one index** so that's why in the code above we use the method `set_index('Key')` on the second `DataFrame` (in the example is called `left`).\n",
    "\n",
    "Back to our example database, imagine that now we have a report with another set of indicators:\n",
    "\n",
    "+ Final consumption expenditure (\\% of GDP): (formerly total consumption) is the sum of household final consumption expenditure (private consumption) and general government final consumption expenditure (general government consumption)\n",
    "+ Exports of goods and services (\\% of GDP)\n",
    "\n",
    "And we want join them together in a single dataset.\n"
   ]
  },
  {
   "cell_type": "code",
   "execution_count": null,
   "metadata": {
    "hideCode": false,
    "hidePrompt": false
   },
   "outputs": [],
   "source": [
    "#Let's set the conditions to select the data\n",
    "#type your code here'\n",
    "\n",
    "#Then select and rename each series\n",
    "#type your code here"
   ]
  },
  {
   "cell_type": "code",
   "execution_count": null,
   "metadata": {
    "hideCode": false,
    "hidePrompt": false
   },
   "outputs": [],
   "source": [
    "#type your code here"
   ]
  },
  {
   "cell_type": "markdown",
   "metadata": {
    "hideCode": false,
    "hidePrompt": false
   },
   "source": [
    "Note that the new dataset has exactly the same amount of rows (or observations) that our first dataset. `join()` method has set by default the value of the parameter `how` to \"left\". So, the code above is *pasting*  two additional columns using the values of `Time` (set as index in both datasets) as keys for this process."
   ]
  },
  {
   "cell_type": "markdown",
   "metadata": {
    "hideCode": false,
    "hidePrompt": false
   },
   "source": [
    "The last combining operator is `merge()`, it is said to be more complicated simply because it has more parameters to specify. This allows more flexibility when dealing with difficult *types* of combinations. \n",
    "\n",
    "Differently from `join()` it supports any column or index as *key* for the combination to perform. It also has set as default `how` value \"inner\" (so by default it would just return rows in which key values belong to the intersection of both dataset). \n",
    "\n",
    "Let's repeat what we have done so far using this operator."
   ]
  },
  {
   "cell_type": "code",
   "execution_count": null,
   "metadata": {
    "hideCode": false,
    "hidePrompt": false
   },
   "outputs": [],
   "source": [
    "#type your code here"
   ]
  },
  {
   "cell_type": "code",
   "execution_count": null,
   "metadata": {
    "hideCode": false,
    "hidePrompt": false
   },
   "outputs": [],
   "source": [
    "#type your code here\n"
   ]
  },
  {
   "cell_type": "markdown",
   "metadata": {
    "hideCode": false,
    "hidePrompt": false
   },
   "source": [
    "Finally, it is important to remark that almost everything that can be done with `merge()` can also be done with `join()`. However, `merge()` gives you more control on how pandas is  internally procesing your data. In particular, the **optional parameter** `validate` helps you check how pandas is processing internally the key values. In our example, I specified \"1:1\" that means \"one to one\" because it makes pandas to check if merge keys are unique on the both dataset.\n",
    "\n",
    "Remember that you can always *ask Python* for help when you feel confused about the parameters or its usage of both `merge()` and `join()` (or any other) operator."
   ]
  }
 ],
 "metadata": {
  "hide_code_all_hidden": false,
  "kernelspec": {
   "display_name": "Python 3",
   "language": "python",
   "name": "python3"
  },
  "language_info": {
   "codemirror_mode": {
    "name": "ipython",
    "version": 3
   },
   "file_extension": ".py",
   "mimetype": "text/x-python",
   "name": "python",
   "nbconvert_exporter": "python",
   "pygments_lexer": "ipython3",
   "version": "3.6.9"
  }
 },
 "nbformat": 4,
 "nbformat_minor": 4
}
